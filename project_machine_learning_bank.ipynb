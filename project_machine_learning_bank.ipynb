{
  "cells": [
    {
      "cell_type": "markdown",
      "metadata": {
        "id": "TsXE3rWjdjMf"
      },
      "source": [
        "# Predict on Exodus"
      ]
    },
    {
      "cell_type": "markdown",
      "metadata": {
        "id": "qgv_UqGjdjMh"
      },
      "source": [
        "Customers of Bank Beta is starting to leave. Their number is decreasing from month to month.\n",
        "\n",
        "Management of the bank realizes that the cost is lower in retaining its existing customers than to attaining new customers.\n",
        "\n",
        "\n",
        "In this project, a model will be built to predict if a customer is leaving the bank or not. \n",
        "\n",
        "A dataset is given on the historical behavior of the bank's clients, along with their contract termination.\n",
        "\n",
        "The goal is to have highest F1 score possible, with its minimum on 0.59 with the testing dataset.\n",
        "\n",
        "Other validation metric, AUC-ROC score, will also be measured, and then compared to the F1 score."
      ]
    },
    {
      "cell_type": "markdown",
      "metadata": {
        "id": "yjHvyTeLdjMj"
      },
      "source": [
        "## Pre-processing, EDA, Feature Engineering"
      ]
    },
    {
      "cell_type": "markdown",
      "metadata": {
        "id": "bpfynlMMdjMk"
      },
      "source": [
        "### Data observation"
      ]
    },
    {
      "cell_type": "code",
      "execution_count": null,
      "metadata": {
        "id": "ejLNU1pNdjMk",
        "outputId": "5d4a7a16-8155-4657-e8d6-6e36ceadeb85"
      },
      "outputs": [
        {
          "name": "stdout",
          "output_type": "stream",
          "text": [
            "Requirement already satisfied: treeinterpreter in /opt/conda/lib/python3.9/site-packages (0.2.3)\r\n"
          ]
        }
      ],
      "source": [
        "# import libraries\n",
        "import pandas as pd, numpy as np\n",
        "import matplotlib.pyplot as plt\n",
        "import seaborn as sns\n",
        "from lightgbm import LGBMClassifier\n",
        "from sklearn import svm\n",
        "from sklearn.model_selection import train_test_split, GridSearchCV\n",
        "from sklearn.tree import DecisionTreeClassifier, plot_tree\n",
        "from sklearn.ensemble import RandomForestClassifier\n",
        "from sklearn.linear_model import LogisticRegression\n",
        "from sklearn.metrics import classification_report, f1_score, roc_auc_score, roc_curve\n",
        "from sklearn.preprocessing import StandardScaler, OrdinalEncoder, LabelEncoder\n",
        "from sklearn.utils import shuffle\n",
        "!pip install treeinterpreter\n",
        "from treeinterpreter import treeinterpreter as ti\n",
        "import warnings\n",
        "warnings.filterwarnings('ignore')"
      ]
    },
    {
      "cell_type": "code",
      "execution_count": null,
      "metadata": {
        "scrolled": true,
        "id": "-GrkfRlodjMm",
        "outputId": "71df5a93-178d-41aa-b911-bec84afec90d"
      },
      "outputs": [
        {
          "data": {
            "text/html": [
              "<div>\n",
              "<style scoped>\n",
              "    .dataframe tbody tr th:only-of-type {\n",
              "        vertical-align: middle;\n",
              "    }\n",
              "\n",
              "    .dataframe tbody tr th {\n",
              "        vertical-align: top;\n",
              "    }\n",
              "\n",
              "    .dataframe thead th {\n",
              "        text-align: right;\n",
              "    }\n",
              "</style>\n",
              "<table border=\"1\" class=\"dataframe\">\n",
              "  <thead>\n",
              "    <tr style=\"text-align: right;\">\n",
              "      <th></th>\n",
              "      <th>RowNumber</th>\n",
              "      <th>CustomerId</th>\n",
              "      <th>Surname</th>\n",
              "      <th>CreditScore</th>\n",
              "      <th>Geography</th>\n",
              "      <th>Gender</th>\n",
              "      <th>Age</th>\n",
              "      <th>Tenure</th>\n",
              "      <th>Balance</th>\n",
              "      <th>NumOfProducts</th>\n",
              "      <th>HasCrCard</th>\n",
              "      <th>IsActiveMember</th>\n",
              "      <th>EstimatedSalary</th>\n",
              "      <th>Exited</th>\n",
              "    </tr>\n",
              "  </thead>\n",
              "  <tbody>\n",
              "    <tr>\n",
              "      <th>0</th>\n",
              "      <td>1</td>\n",
              "      <td>15634602</td>\n",
              "      <td>Hargrave</td>\n",
              "      <td>619</td>\n",
              "      <td>France</td>\n",
              "      <td>Female</td>\n",
              "      <td>42</td>\n",
              "      <td>2.0</td>\n",
              "      <td>0.00</td>\n",
              "      <td>1</td>\n",
              "      <td>1</td>\n",
              "      <td>1</td>\n",
              "      <td>101348.88</td>\n",
              "      <td>1</td>\n",
              "    </tr>\n",
              "    <tr>\n",
              "      <th>1</th>\n",
              "      <td>2</td>\n",
              "      <td>15647311</td>\n",
              "      <td>Hill</td>\n",
              "      <td>608</td>\n",
              "      <td>Spain</td>\n",
              "      <td>Female</td>\n",
              "      <td>41</td>\n",
              "      <td>1.0</td>\n",
              "      <td>83807.86</td>\n",
              "      <td>1</td>\n",
              "      <td>0</td>\n",
              "      <td>1</td>\n",
              "      <td>112542.58</td>\n",
              "      <td>0</td>\n",
              "    </tr>\n",
              "    <tr>\n",
              "      <th>2</th>\n",
              "      <td>3</td>\n",
              "      <td>15619304</td>\n",
              "      <td>Onio</td>\n",
              "      <td>502</td>\n",
              "      <td>France</td>\n",
              "      <td>Female</td>\n",
              "      <td>42</td>\n",
              "      <td>8.0</td>\n",
              "      <td>159660.80</td>\n",
              "      <td>3</td>\n",
              "      <td>1</td>\n",
              "      <td>0</td>\n",
              "      <td>113931.57</td>\n",
              "      <td>1</td>\n",
              "    </tr>\n",
              "    <tr>\n",
              "      <th>3</th>\n",
              "      <td>4</td>\n",
              "      <td>15701354</td>\n",
              "      <td>Boni</td>\n",
              "      <td>699</td>\n",
              "      <td>France</td>\n",
              "      <td>Female</td>\n",
              "      <td>39</td>\n",
              "      <td>1.0</td>\n",
              "      <td>0.00</td>\n",
              "      <td>2</td>\n",
              "      <td>0</td>\n",
              "      <td>0</td>\n",
              "      <td>93826.63</td>\n",
              "      <td>0</td>\n",
              "    </tr>\n",
              "    <tr>\n",
              "      <th>4</th>\n",
              "      <td>5</td>\n",
              "      <td>15737888</td>\n",
              "      <td>Mitchell</td>\n",
              "      <td>850</td>\n",
              "      <td>Spain</td>\n",
              "      <td>Female</td>\n",
              "      <td>43</td>\n",
              "      <td>2.0</td>\n",
              "      <td>125510.82</td>\n",
              "      <td>1</td>\n",
              "      <td>1</td>\n",
              "      <td>1</td>\n",
              "      <td>79084.10</td>\n",
              "      <td>0</td>\n",
              "    </tr>\n",
              "  </tbody>\n",
              "</table>\n",
              "</div>"
            ],
            "text/plain": [
              "   RowNumber  CustomerId   Surname  CreditScore Geography  Gender  Age  \\\n",
              "0          1    15634602  Hargrave          619    France  Female   42   \n",
              "1          2    15647311      Hill          608     Spain  Female   41   \n",
              "2          3    15619304      Onio          502    France  Female   42   \n",
              "3          4    15701354      Boni          699    France  Female   39   \n",
              "4          5    15737888  Mitchell          850     Spain  Female   43   \n",
              "\n",
              "   Tenure    Balance  NumOfProducts  HasCrCard  IsActiveMember  \\\n",
              "0     2.0       0.00              1          1               1   \n",
              "1     1.0   83807.86              1          0               1   \n",
              "2     8.0  159660.80              3          1               0   \n",
              "3     1.0       0.00              2          0               0   \n",
              "4     2.0  125510.82              1          1               1   \n",
              "\n",
              "   EstimatedSalary  Exited  \n",
              "0        101348.88       1  \n",
              "1        112542.58       0  \n",
              "2        113931.57       1  \n",
              "3         93826.63       0  \n",
              "4         79084.10       0  "
            ]
          },
          "execution_count": 96,
          "metadata": {},
          "output_type": "execute_result"
        }
      ],
      "source": [
        "# save dataset in a variable and load its samples\n",
        "df= pd.read_csv('/datasets/Churn.csv')\n",
        "df.head()\n"
      ]
    },
    {
      "cell_type": "code",
      "execution_count": null,
      "metadata": {
        "scrolled": true,
        "id": "6RD95jO6djMo",
        "outputId": "a381d360-5db0-4b34-98bb-ffb746e5d09d"
      },
      "outputs": [
        {
          "name": "stdout",
          "output_type": "stream",
          "text": [
            "<class 'pandas.core.frame.DataFrame'>\n",
            "RangeIndex: 10000 entries, 0 to 9999\n",
            "Data columns (total 14 columns):\n",
            " #   Column           Non-Null Count  Dtype  \n",
            "---  ------           --------------  -----  \n",
            " 0   RowNumber        10000 non-null  int64  \n",
            " 1   CustomerId       10000 non-null  int64  \n",
            " 2   Surname          10000 non-null  object \n",
            " 3   CreditScore      10000 non-null  int64  \n",
            " 4   Geography        10000 non-null  object \n",
            " 5   Gender           10000 non-null  object \n",
            " 6   Age              10000 non-null  int64  \n",
            " 7   Tenure           9091 non-null   float64\n",
            " 8   Balance          10000 non-null  float64\n",
            " 9   NumOfProducts    10000 non-null  int64  \n",
            " 10  HasCrCard        10000 non-null  int64  \n",
            " 11  IsActiveMember   10000 non-null  int64  \n",
            " 12  EstimatedSalary  10000 non-null  float64\n",
            " 13  Exited           10000 non-null  int64  \n",
            "dtypes: float64(3), int64(8), object(3)\n",
            "memory usage: 1.1+ MB\n"
          ]
        }
      ],
      "source": [
        "# load general info\n",
        "df.info()"
      ]
    },
    {
      "cell_type": "code",
      "execution_count": null,
      "metadata": {
        "scrolled": false,
        "id": "EzdqKKRpdjMo",
        "outputId": "9b9250fc-5fa3-4008-9ba9-f5e644494919"
      },
      "outputs": [
        {
          "data": {
            "text/html": [
              "<div>\n",
              "<style scoped>\n",
              "    .dataframe tbody tr th:only-of-type {\n",
              "        vertical-align: middle;\n",
              "    }\n",
              "\n",
              "    .dataframe tbody tr th {\n",
              "        vertical-align: top;\n",
              "    }\n",
              "\n",
              "    .dataframe thead th {\n",
              "        text-align: right;\n",
              "    }\n",
              "</style>\n",
              "<table border=\"1\" class=\"dataframe\">\n",
              "  <thead>\n",
              "    <tr style=\"text-align: right;\">\n",
              "      <th></th>\n",
              "      <th>RowNumber</th>\n",
              "      <th>CustomerId</th>\n",
              "      <th>CreditScore</th>\n",
              "      <th>Age</th>\n",
              "      <th>Tenure</th>\n",
              "      <th>Balance</th>\n",
              "      <th>NumOfProducts</th>\n",
              "      <th>HasCrCard</th>\n",
              "      <th>IsActiveMember</th>\n",
              "      <th>EstimatedSalary</th>\n",
              "      <th>Exited</th>\n",
              "    </tr>\n",
              "  </thead>\n",
              "  <tbody>\n",
              "    <tr>\n",
              "      <th>count</th>\n",
              "      <td>10000.00000</td>\n",
              "      <td>1.000000e+04</td>\n",
              "      <td>10000.000000</td>\n",
              "      <td>10000.000000</td>\n",
              "      <td>9091.000000</td>\n",
              "      <td>10000.000000</td>\n",
              "      <td>10000.000000</td>\n",
              "      <td>10000.00000</td>\n",
              "      <td>10000.000000</td>\n",
              "      <td>10000.000000</td>\n",
              "      <td>10000.000000</td>\n",
              "    </tr>\n",
              "    <tr>\n",
              "      <th>mean</th>\n",
              "      <td>5000.50000</td>\n",
              "      <td>1.569094e+07</td>\n",
              "      <td>650.528800</td>\n",
              "      <td>38.921800</td>\n",
              "      <td>4.997690</td>\n",
              "      <td>76485.889288</td>\n",
              "      <td>1.530200</td>\n",
              "      <td>0.70550</td>\n",
              "      <td>0.515100</td>\n",
              "      <td>100090.239881</td>\n",
              "      <td>0.203700</td>\n",
              "    </tr>\n",
              "    <tr>\n",
              "      <th>std</th>\n",
              "      <td>2886.89568</td>\n",
              "      <td>7.193619e+04</td>\n",
              "      <td>96.653299</td>\n",
              "      <td>10.487806</td>\n",
              "      <td>2.894723</td>\n",
              "      <td>62397.405202</td>\n",
              "      <td>0.581654</td>\n",
              "      <td>0.45584</td>\n",
              "      <td>0.499797</td>\n",
              "      <td>57510.492818</td>\n",
              "      <td>0.402769</td>\n",
              "    </tr>\n",
              "    <tr>\n",
              "      <th>min</th>\n",
              "      <td>1.00000</td>\n",
              "      <td>1.556570e+07</td>\n",
              "      <td>350.000000</td>\n",
              "      <td>18.000000</td>\n",
              "      <td>0.000000</td>\n",
              "      <td>0.000000</td>\n",
              "      <td>1.000000</td>\n",
              "      <td>0.00000</td>\n",
              "      <td>0.000000</td>\n",
              "      <td>11.580000</td>\n",
              "      <td>0.000000</td>\n",
              "    </tr>\n",
              "    <tr>\n",
              "      <th>25%</th>\n",
              "      <td>2500.75000</td>\n",
              "      <td>1.562853e+07</td>\n",
              "      <td>584.000000</td>\n",
              "      <td>32.000000</td>\n",
              "      <td>2.000000</td>\n",
              "      <td>0.000000</td>\n",
              "      <td>1.000000</td>\n",
              "      <td>0.00000</td>\n",
              "      <td>0.000000</td>\n",
              "      <td>51002.110000</td>\n",
              "      <td>0.000000</td>\n",
              "    </tr>\n",
              "    <tr>\n",
              "      <th>50%</th>\n",
              "      <td>5000.50000</td>\n",
              "      <td>1.569074e+07</td>\n",
              "      <td>652.000000</td>\n",
              "      <td>37.000000</td>\n",
              "      <td>5.000000</td>\n",
              "      <td>97198.540000</td>\n",
              "      <td>1.000000</td>\n",
              "      <td>1.00000</td>\n",
              "      <td>1.000000</td>\n",
              "      <td>100193.915000</td>\n",
              "      <td>0.000000</td>\n",
              "    </tr>\n",
              "    <tr>\n",
              "      <th>75%</th>\n",
              "      <td>7500.25000</td>\n",
              "      <td>1.575323e+07</td>\n",
              "      <td>718.000000</td>\n",
              "      <td>44.000000</td>\n",
              "      <td>7.000000</td>\n",
              "      <td>127644.240000</td>\n",
              "      <td>2.000000</td>\n",
              "      <td>1.00000</td>\n",
              "      <td>1.000000</td>\n",
              "      <td>149388.247500</td>\n",
              "      <td>0.000000</td>\n",
              "    </tr>\n",
              "    <tr>\n",
              "      <th>max</th>\n",
              "      <td>10000.00000</td>\n",
              "      <td>1.581569e+07</td>\n",
              "      <td>850.000000</td>\n",
              "      <td>92.000000</td>\n",
              "      <td>10.000000</td>\n",
              "      <td>250898.090000</td>\n",
              "      <td>4.000000</td>\n",
              "      <td>1.00000</td>\n",
              "      <td>1.000000</td>\n",
              "      <td>199992.480000</td>\n",
              "      <td>1.000000</td>\n",
              "    </tr>\n",
              "  </tbody>\n",
              "</table>\n",
              "</div>"
            ],
            "text/plain": [
              "         RowNumber    CustomerId   CreditScore           Age       Tenure  \\\n",
              "count  10000.00000  1.000000e+04  10000.000000  10000.000000  9091.000000   \n",
              "mean    5000.50000  1.569094e+07    650.528800     38.921800     4.997690   \n",
              "std     2886.89568  7.193619e+04     96.653299     10.487806     2.894723   \n",
              "min        1.00000  1.556570e+07    350.000000     18.000000     0.000000   \n",
              "25%     2500.75000  1.562853e+07    584.000000     32.000000     2.000000   \n",
              "50%     5000.50000  1.569074e+07    652.000000     37.000000     5.000000   \n",
              "75%     7500.25000  1.575323e+07    718.000000     44.000000     7.000000   \n",
              "max    10000.00000  1.581569e+07    850.000000     92.000000    10.000000   \n",
              "\n",
              "             Balance  NumOfProducts    HasCrCard  IsActiveMember  \\\n",
              "count   10000.000000   10000.000000  10000.00000    10000.000000   \n",
              "mean    76485.889288       1.530200      0.70550        0.515100   \n",
              "std     62397.405202       0.581654      0.45584        0.499797   \n",
              "min         0.000000       1.000000      0.00000        0.000000   \n",
              "25%         0.000000       1.000000      0.00000        0.000000   \n",
              "50%     97198.540000       1.000000      1.00000        1.000000   \n",
              "75%    127644.240000       2.000000      1.00000        1.000000   \n",
              "max    250898.090000       4.000000      1.00000        1.000000   \n",
              "\n",
              "       EstimatedSalary        Exited  \n",
              "count     10000.000000  10000.000000  \n",
              "mean     100090.239881      0.203700  \n",
              "std       57510.492818      0.402769  \n",
              "min          11.580000      0.000000  \n",
              "25%       51002.110000      0.000000  \n",
              "50%      100193.915000      0.000000  \n",
              "75%      149388.247500      0.000000  \n",
              "max      199992.480000      1.000000  "
            ]
          },
          "execution_count": 98,
          "metadata": {},
          "output_type": "execute_result"
        }
      ],
      "source": [
        "# load statistical description\n",
        "df.describe()"
      ]
    },
    {
      "cell_type": "code",
      "execution_count": null,
      "metadata": {
        "id": "kijgi2zDdjMp"
      },
      "outputs": [],
      "source": [
        "# Change the columns name to lowercase for simplicity\n",
        "df.columns = ['row_number', 'customer_id', 'surname', 'credit_score', 'geography',\n",
        "       'gender', 'age', 'tenure', 'balance', 'num_of_products', 'has_cr_card',\n",
        "       'is_active_member', 'estimated_salary', 'exited']"
      ]
    },
    {
      "cell_type": "markdown",
      "metadata": {
        "id": "J8VivGU6djMq"
      },
      "source": [
        "### Exploratory Data Analysis"
      ]
    },
    {
      "cell_type": "code",
      "execution_count": null,
      "metadata": {
        "id": "WjUsJHiMdjMq",
        "outputId": "8a857848-97fa-403b-b3c3-0a09c8977133"
      },
      "outputs": [
        {
          "data": {
            "text/plain": [
              "<AxesSubplot:xlabel='exited', ylabel='count'>"
            ]
          },
          "execution_count": 100,
          "metadata": {},
          "output_type": "execute_result"
        },
        {
          "data": {
            "image/png": "[encoded data removed]",
            "text/plain": [
              "<Figure size 432x288 with 1 Axes>"
            ]
          },
          "metadata": {
            "needs_background": "light"
          },
          "output_type": "display_data"
        }
      ],
      "source": [
        "# Univariate analysis target\n",
        "sns.countplot(df['exited'])"
      ]
    },
    {
      "cell_type": "code",
      "execution_count": null,
      "metadata": {
        "id": "fA3tR3Y-djMr",
        "outputId": "d9a09a94-7d85-4107-b816-e160bc1ed0d9"
      },
      "outputs": [
        {
          "data": {
            "image/png": "[encoded data removed]",
            "text/plain": [
              "<Figure size 864x1296 with 5 Axes>"
            ]
          },
          "metadata": {
            "needs_background": "light"
          },
          "output_type": "display_data"
        }
      ],
      "source": [
        "# Univariate analysis relevant variables\n",
        "numeric=['age', 'credit_score', 'balance','estimated_salary', 'tenure']\n",
        "plt.subplots(figsize = (12, 18))\n",
        "for i, var in enumerate(numeric):\n",
        "    sns.boxplot(data=df, x=var, ax = plt.subplot(3, 2, i + 1))\n",
        "    plt.xticks(rotation = 45)"
      ]
    },
    {
      "cell_type": "code",
      "execution_count": null,
      "metadata": {
        "scrolled": true,
        "id": "AbFHWFqUdjMs",
        "outputId": "afa30932-8be1-4db5-dec1-de5816213e95"
      },
      "outputs": [
        {
          "data": {
            "image/png": "[encoded data removed]",
            "text/plain": [
              "<Figure size 576x576 with 2 Axes>"
            ]
          },
          "metadata": {
            "needs_background": "light"
          },
          "output_type": "display_data"
        }
      ],
      "source": [
        "# Check for any strong correlation in variables with potential to be correlated\n",
        "related_variables = df[['credit_score', 'balance', 'estimated_salary']]\n",
        "\n",
        "plt.figure(figsize=(8,8))\n",
        "plt.title('Correlation between credit_score, balance, estimated_salary')\n",
        "sns.heatmap(related_variables.corr(),annot=True)\n",
        "plt.show()"
      ]
    },
    {
      "cell_type": "markdown",
      "metadata": {
        "id": "kLEGKwJ3djMs"
      },
      "source": [
        "From this early dataset observation it appears that:\n",
        "\n",
        "1. There are missing values in Tenure of 909 observed data.\n",
        "\n",
        "2. The target class is imbalance. Class 1 only makes around 20% of total observed data.\n",
        "\n",
        "3. Some independent variables will be irrelevant to predicting model hence will need to be excluded from predictors:\n",
        "    - row_number\n",
        "    - customer_id\n",
        "    - surname\n",
        "\n",
        "4. Numeric variables need to be standard-scaled:\n",
        "    - balance\n",
        "    - estimated_salary\n",
        "    \n",
        "5. Writing of columns name are better in lowercase\n",
        "\n",
        "6. There might be no significant outliers as the standard deviations in each variables are relatively low, and the figures of mean and median are not significantly vary. Although our boxplots suggest that there may be a small number of outliers in age and credit score. Hence both variables are to be standar-scaled as well.\n",
        "\n",
        "7. There is unlikely correlation between variables. It is safe then to use all relevant variables as predictors.\n",
        "\n",
        "In the next step, missing values in tenure will be checked if they are results of a random event or if there is actually any relation to other independent variables."
      ]
    },
    {
      "cell_type": "markdown",
      "metadata": {
        "id": "PPVM7LI1djMt"
      },
      "source": [
        "### Checking Missing Values\n",
        "\n",
        "First, let us check the distribution of unique values in relevant variables. \n",
        "\n",
        "Next, after having the distribution of values in relevant variables, let us check if there the distributions differ significantly when filtered on the missing values."
      ]
    },
    {
      "cell_type": "code",
      "execution_count": null,
      "metadata": {
        "scrolled": true,
        "id": "jQINvQgtdjMt",
        "outputId": "3f9f4ba6-cddf-4a92-a0fe-4ecc6cbb5257"
      },
      "outputs": [
        {
          "data": {
            "text/plain": [
              "1.0     9.52\n",
              "2.0     9.50\n",
              "8.0     9.33\n",
              "3.0     9.28\n",
              "5.0     9.27\n",
              "7.0     9.25\n",
              "NaN     9.09\n",
              "4.0     8.85\n",
              "9.0     8.82\n",
              "6.0     8.81\n",
              "10.0    4.46\n",
              "0.0     3.82\n",
              "Name: tenure, dtype: float64"
            ]
          },
          "execution_count": 103,
          "metadata": {},
          "output_type": "execute_result"
        }
      ],
      "source": [
        "# check % distribution of values in tenure, especially the missing values\n",
        "df.tenure.value_counts(dropna=False, normalize=True)*100"
      ]
    },
    {
      "cell_type": "code",
      "execution_count": null,
      "metadata": {
        "scrolled": true,
        "id": "KNYbYNREdjMu",
        "outputId": "4d841e12-8733-4456-a472-e948b57f95dc"
      },
      "outputs": [
        {
          "data": {
            "text/plain": [
              "850    2.33\n",
              "678    0.63\n",
              "655    0.54\n",
              "667    0.53\n",
              "705    0.53\n",
              "684    0.52\n",
              "651    0.50\n",
              "670    0.50\n",
              "683    0.48\n",
              "648    0.48\n",
              "Name: credit_score, dtype: float64"
            ]
          },
          "execution_count": 104,
          "metadata": {},
          "output_type": "execute_result"
        }
      ],
      "source": [
        "# check % distribution of values in credit_score\n",
        "(df.credit_score.value_counts(dropna=False, normalize=True)*100).head(10)"
      ]
    },
    {
      "cell_type": "code",
      "execution_count": null,
      "metadata": {
        "scrolled": false,
        "id": "bMS7W_TzdjMu",
        "outputId": "47242579-1202-47c2-8b15-c155ff97df6f"
      },
      "outputs": [
        {
          "data": {
            "text/plain": [
              "850    2.530253\n",
              "651    0.990099\n",
              "630    0.990099\n",
              "652    0.880088\n",
              "706    0.880088\n",
              "614    0.770077\n",
              "670    0.770077\n",
              "693    0.770077\n",
              "710    0.770077\n",
              "667    0.770077\n",
              "Name: credit_score, dtype: float64"
            ]
          },
          "execution_count": 105,
          "metadata": {},
          "output_type": "execute_result"
        }
      ],
      "source": [
        "# check if there's a relation of missing values to credit_score\n",
        "(df.query('tenure.isna()')['credit_score'].value_counts(normalize=True)*100).head(10)"
      ]
    },
    {
      "cell_type": "code",
      "execution_count": null,
      "metadata": {
        "scrolled": true,
        "id": "7cYxVu8YdjMv",
        "outputId": "f776bf49-10d2-41d5-eaee-1a3f8273bfbc"
      },
      "outputs": [
        {
          "data": {
            "text/plain": [
              "France     50.14\n",
              "Germany    25.09\n",
              "Spain      24.77\n",
              "Name: geography, dtype: float64"
            ]
          },
          "execution_count": 106,
          "metadata": {},
          "output_type": "execute_result"
        }
      ],
      "source": [
        "# check % distribution of values in geography\n",
        "df.geography.value_counts(dropna=False, normalize=True)*100"
      ]
    },
    {
      "cell_type": "code",
      "execution_count": null,
      "metadata": {
        "scrolled": true,
        "id": "MDCEk1ERdjMv",
        "outputId": "b7fbc0d0-4ee6-4462-e684-33a3e5a470a1"
      },
      "outputs": [
        {
          "data": {
            "text/plain": [
              "France     51.045105\n",
              "Spain      25.192519\n",
              "Germany    23.762376\n",
              "Name: geography, dtype: float64"
            ]
          },
          "execution_count": 107,
          "metadata": {},
          "output_type": "execute_result"
        }
      ],
      "source": [
        "# check if there's a relation of missing values to geography\n",
        "df.query('tenure.isna()')['geography'].value_counts(normalize=True)*100"
      ]
    },
    {
      "cell_type": "code",
      "execution_count": null,
      "metadata": {
        "scrolled": true,
        "id": "8o5ncd1wdjMw",
        "outputId": "db1b481a-eb46-49bb-cd2c-7b08b28d3405"
      },
      "outputs": [
        {
          "data": {
            "text/plain": [
              "Male      54.57\n",
              "Female    45.43\n",
              "Name: gender, dtype: float64"
            ]
          },
          "execution_count": 108,
          "metadata": {},
          "output_type": "execute_result"
        }
      ],
      "source": [
        "# check % distribution of values in gender\n",
        "df.gender.value_counts(dropna=False, normalize=True)*100"
      ]
    },
    {
      "cell_type": "code",
      "execution_count": null,
      "metadata": {
        "scrolled": true,
        "id": "E_rrrK0KdjMw",
        "outputId": "b642dcfa-de08-4773-dad5-5e274abbfa65"
      },
      "outputs": [
        {
          "data": {
            "text/plain": [
              "Male      53.135314\n",
              "Female    46.864686\n",
              "Name: gender, dtype: float64"
            ]
          },
          "execution_count": 109,
          "metadata": {},
          "output_type": "execute_result"
        }
      ],
      "source": [
        "# check if there's a relation of missing values to gender\n",
        "df.query('tenure.isna()')['gender'].value_counts(normalize=True)*100"
      ]
    },
    {
      "cell_type": "code",
      "execution_count": null,
      "metadata": {
        "scrolled": true,
        "id": "hbiguS1BdjMw",
        "outputId": "c4d44871-10c7-42bb-a20a-7d526f7a5fae"
      },
      "outputs": [
        {
          "data": {
            "text/plain": [
              "37    4.78\n",
              "38    4.77\n",
              "35    4.74\n",
              "36    4.56\n",
              "34    4.47\n",
              "33    4.42\n",
              "40    4.32\n",
              "39    4.23\n",
              "32    4.18\n",
              "31    4.04\n",
              "Name: age, dtype: float64"
            ]
          },
          "execution_count": 110,
          "metadata": {},
          "output_type": "execute_result"
        }
      ],
      "source": [
        "# check % distribution of values in age\n",
        "(df.age.value_counts(dropna=False, normalize=True)*100).head(10)"
      ]
    },
    {
      "cell_type": "code",
      "execution_count": null,
      "metadata": {
        "scrolled": false,
        "id": "zOFGkKpIdjMw",
        "outputId": "b9406d11-394f-4700-e201-a7eef6fa1bbf"
      },
      "outputs": [
        {
          "data": {
            "text/plain": [
              "36    6.050605\n",
              "38    5.830583\n",
              "40    5.390539\n",
              "31    4.950495\n",
              "32    4.840484\n",
              "37    4.730473\n",
              "35    4.730473\n",
              "33    4.290429\n",
              "39    3.960396\n",
              "34    3.850385\n",
              "Name: age, dtype: float64"
            ]
          },
          "execution_count": 111,
          "metadata": {},
          "output_type": "execute_result"
        }
      ],
      "source": [
        "# check if there's a relation of missing values to num_of_products\n",
        "(df.query('tenure.isna()')['age'].value_counts(normalize=True)*100).head(10)"
      ]
    },
    {
      "cell_type": "code",
      "execution_count": null,
      "metadata": {
        "scrolled": true,
        "id": "06Z5pv9-djMx",
        "outputId": "7576660e-1ed7-4a22-b0d8-6831b6419643"
      },
      "outputs": [
        {
          "data": {
            "text/plain": [
              "0.00         36.17\n",
              "105473.74     0.02\n",
              "130170.82     0.02\n",
              "72594.00      0.01\n",
              "139723.90     0.01\n",
              "             ...  \n",
              "130306.49     0.01\n",
              "92895.56      0.01\n",
              "132005.77     0.01\n",
              "166287.85     0.01\n",
              "104001.38     0.01\n",
              "Name: balance, Length: 6382, dtype: float64"
            ]
          },
          "execution_count": 112,
          "metadata": {},
          "output_type": "execute_result"
        }
      ],
      "source": [
        "# check % distribution of values in balance\n",
        "df.balance.value_counts(dropna=False, normalize=True)*100"
      ]
    },
    {
      "cell_type": "code",
      "execution_count": null,
      "metadata": {
        "scrolled": false,
        "id": "ECY35-4AdjMx",
        "outputId": "e814e474-578b-4035-b960-b4229251b2da"
      },
      "outputs": [
        {
          "data": {
            "text/plain": [
              "0.00         36.743674\n",
              "122924.75     0.110011\n",
              "63227.00      0.110011\n",
              "81553.93      0.110011\n",
              "104469.58     0.110011\n",
              "               ...    \n",
              "132670.53     0.110011\n",
              "108055.10     0.110011\n",
              "126833.79     0.110011\n",
              "157848.53     0.110011\n",
              "118520.26     0.110011\n",
              "Name: balance, Length: 576, dtype: float64"
            ]
          },
          "execution_count": 113,
          "metadata": {},
          "output_type": "execute_result"
        }
      ],
      "source": [
        "# check if there's a relation of missing values to balance\n",
        "df.query('tenure.isna()')['balance'].value_counts(normalize=True)*100"
      ]
    },
    {
      "cell_type": "code",
      "execution_count": null,
      "metadata": {
        "scrolled": false,
        "id": "w-R5sP9edjMx",
        "outputId": "e2684904-70d9-4a1d-f177-56431da2e4d1"
      },
      "outputs": [
        {
          "data": {
            "text/plain": [
              "1    50.84\n",
              "2    45.90\n",
              "3     2.66\n",
              "4     0.60\n",
              "Name: num_of_products, dtype: float64"
            ]
          },
          "execution_count": 114,
          "metadata": {},
          "output_type": "execute_result"
        }
      ],
      "source": [
        "# check % distribution of values in num_of_products\n",
        "df.num_of_products.value_counts(dropna=False, normalize=True)*100"
      ]
    },
    {
      "cell_type": "code",
      "execution_count": null,
      "metadata": {
        "scrolled": true,
        "id": "vlrnFcR8djMy",
        "outputId": "b14b8f45-f0fe-439c-c4e6-66ecdeccc354"
      },
      "outputs": [
        {
          "data": {
            "text/plain": [
              "1    51.375138\n",
              "2    44.664466\n",
              "3     3.520352\n",
              "4     0.440044\n",
              "Name: num_of_products, dtype: float64"
            ]
          },
          "execution_count": 115,
          "metadata": {},
          "output_type": "execute_result"
        }
      ],
      "source": [
        "# check if there's a relation of missing values to num_of_products\n",
        "df.query('tenure.isna()')['num_of_products'].value_counts(normalize=True)*100"
      ]
    },
    {
      "cell_type": "code",
      "execution_count": null,
      "metadata": {
        "scrolled": true,
        "id": "nAdEMsCBdjMy",
        "outputId": "67726ee5-38a6-40fa-9281-b10a7bc6a5a2"
      },
      "outputs": [
        {
          "data": {
            "text/plain": [
              "1    70.55\n",
              "0    29.45\n",
              "Name: has_cr_card, dtype: float64"
            ]
          },
          "execution_count": 116,
          "metadata": {},
          "output_type": "execute_result"
        }
      ],
      "source": [
        "# check % distribution of values in has_cr_card\n",
        "df.has_cr_card.value_counts(dropna=False, normalize=True)*100"
      ]
    },
    {
      "cell_type": "code",
      "execution_count": null,
      "metadata": {
        "id": "PElwaqQLdjMz",
        "outputId": "8e097566-b3da-48f4-882c-e7a0763febad"
      },
      "outputs": [
        {
          "data": {
            "text/plain": [
              "1    71.067107\n",
              "0    28.932893\n",
              "Name: has_cr_card, dtype: float64"
            ]
          },
          "execution_count": 117,
          "metadata": {},
          "output_type": "execute_result"
        }
      ],
      "source": [
        "# check if there's a relation of missing values to has_cr_card\n",
        "df.query('tenure.isna()')['has_cr_card'].value_counts(normalize=True)*100"
      ]
    },
    {
      "cell_type": "code",
      "execution_count": null,
      "metadata": {
        "scrolled": true,
        "id": "61eEANPKdjMz",
        "outputId": "6077f3bd-7ab6-40e7-88f9-e1863aa6ef0a"
      },
      "outputs": [
        {
          "data": {
            "text/plain": [
              "1    51.51\n",
              "0    48.49\n",
              "Name: is_active_member, dtype: float64"
            ]
          },
          "execution_count": 118,
          "metadata": {},
          "output_type": "execute_result"
        }
      ],
      "source": [
        "# check % distribution of values in is_active_member\n",
        "df.is_active_member.value_counts(dropna=False, normalize=True)*100"
      ]
    },
    {
      "cell_type": "code",
      "execution_count": null,
      "metadata": {
        "scrolled": true,
        "id": "s0GeisAadjMz",
        "outputId": "9493a66e-f89c-4454-c566-e4d94358ee05"
      },
      "outputs": [
        {
          "data": {
            "text/plain": [
              "1    51.045105\n",
              "0    48.954895\n",
              "Name: is_active_member, dtype: float64"
            ]
          },
          "execution_count": 119,
          "metadata": {},
          "output_type": "execute_result"
        }
      ],
      "source": [
        "# check if there's a relation of missing values to is_active_member\n",
        "df.query('tenure.isna()')['is_active_member'].value_counts(normalize=True)*100"
      ]
    },
    {
      "cell_type": "code",
      "execution_count": null,
      "metadata": {
        "scrolled": false,
        "id": "rF_sahq-djM1",
        "outputId": "a61a413b-98f9-43f7-d08f-6386ce7751cd"
      },
      "outputs": [
        {
          "data": {
            "text/plain": [
              "0    79.63\n",
              "1    20.37\n",
              "Name: exited, dtype: float64"
            ]
          },
          "execution_count": 120,
          "metadata": {},
          "output_type": "execute_result"
        }
      ],
      "source": [
        "# check % distribution of values of each class\n",
        "df.exited.value_counts(dropna=False, normalize=True)*100"
      ]
    },
    {
      "cell_type": "code",
      "execution_count": null,
      "metadata": {
        "scrolled": false,
        "id": "7TjtryYSdjM1",
        "outputId": "43012c45-1951-4ee9-b279-a2316f1f4d7a"
      },
      "outputs": [
        {
          "data": {
            "text/plain": [
              "0    79.867987\n",
              "1    20.132013\n",
              "Name: exited, dtype: float64"
            ]
          },
          "execution_count": 121,
          "metadata": {},
          "output_type": "execute_result"
        }
      ],
      "source": [
        "# check if there's a relation of missing values to exited\n",
        "df.query('tenure.isna()')['exited'].value_counts(normalize=True)*100"
      ]
    },
    {
      "cell_type": "markdown",
      "metadata": {
        "id": "KFmRSUXCdjM2"
      },
      "source": [
        "From checking the distributions of values in relevant variables, and the possibilities of their relations as well, it seems that the missing values in tenure are results of random events.\n",
        "\n",
        "In the next step, a new dataset will be created with:\n",
        "\n",
        "1. Missing values filled with its median value\n",
        "\n",
        "2. One-hot-encoder for variables geography because it has 3 classes\n",
        "\n",
        "3. Standard scale on variable balance and estimated_salary because their values can vary widely."
      ]
    },
    {
      "cell_type": "markdown",
      "metadata": {
        "id": "ux5bH_q6djM2"
      },
      "source": [
        "### Handling Missing Values"
      ]
    },
    {
      "cell_type": "code",
      "execution_count": null,
      "metadata": {
        "scrolled": true,
        "id": "gdJXDrOBdjM2",
        "outputId": "b593d1e4-4c70-461b-f047-aba933c4d5b1"
      },
      "outputs": [
        {
          "name": "stdout",
          "output_type": "stream",
          "text": [
            "<class 'pandas.core.frame.DataFrame'>\n",
            "RangeIndex: 10000 entries, 0 to 9999\n",
            "Data columns (total 14 columns):\n",
            " #   Column            Non-Null Count  Dtype  \n",
            "---  ------            --------------  -----  \n",
            " 0   row_number        10000 non-null  int64  \n",
            " 1   customer_id       10000 non-null  int64  \n",
            " 2   surname           10000 non-null  object \n",
            " 3   credit_score      10000 non-null  int64  \n",
            " 4   geography         10000 non-null  object \n",
            " 5   gender            10000 non-null  object \n",
            " 6   age               10000 non-null  int64  \n",
            " 7   tenure            10000 non-null  float64\n",
            " 8   balance           10000 non-null  float64\n",
            " 9   num_of_products   10000 non-null  int64  \n",
            " 10  has_cr_card       10000 non-null  int64  \n",
            " 11  is_active_member  10000 non-null  int64  \n",
            " 12  estimated_salary  10000 non-null  float64\n",
            " 13  exited            10000 non-null  int64  \n",
            "dtypes: float64(3), int64(8), object(3)\n",
            "memory usage: 1.1+ MB\n"
          ]
        }
      ],
      "source": [
        "# create new dataset with missing values filled\n",
        "df_new = df.fillna(df.tenure.median())\n",
        "df_new.info()"
      ]
    },
    {
      "cell_type": "markdown",
      "metadata": {
        "id": "_W19qiO_djM2"
      },
      "source": [
        "### Label Encoding\n",
        "\n",
        "In this step, the categorical variables will be labeled using numerical values so that that libraries can read them when building the model."
      ]
    },
    {
      "cell_type": "code",
      "execution_count": null,
      "metadata": {
        "scrolled": true,
        "id": "0a8mMDLHdjM3",
        "outputId": "34679c54-736d-4f36-cb84-e53066b1b20e"
      },
      "outputs": [
        {
          "data": {
            "text/plain": [
              "1    5457\n",
              "0    4543\n",
              "Name: gender, dtype: int64"
            ]
          },
          "execution_count": 123,
          "metadata": {},
          "output_type": "execute_result"
        }
      ],
      "source": [
        "# label encode variable gender\n",
        "encoder = LabelEncoder()\n",
        "df.gender = pd.DataFrame(encoder.fit_transform(df.gender))\n",
        "df.gender.value_counts()"
      ]
    },
    {
      "cell_type": "code",
      "execution_count": null,
      "metadata": {
        "id": "3KeS0s1kdjM3",
        "outputId": "e61f6906-c865-4178-ae52-debf3ce0c7ea"
      },
      "outputs": [
        {
          "data": {
            "text/plain": [
              "0    5014\n",
              "1    2509\n",
              "2    2477\n",
              "Name: geography, dtype: int64"
            ]
          },
          "execution_count": 124,
          "metadata": {},
          "output_type": "execute_result"
        }
      ],
      "source": [
        "# label encode variable geography\n",
        "df.geography = pd.DataFrame(encoder.fit_transform(df.geography))\n",
        "df.geography.value_counts()"
      ]
    },
    {
      "cell_type": "markdown",
      "metadata": {
        "id": "rCcD-ZjgdjM5"
      },
      "source": [
        "### One-hot encode categorical variables"
      ]
    },
    {
      "cell_type": "code",
      "execution_count": null,
      "metadata": {
        "scrolled": false,
        "id": "dVThK_dPdjM5",
        "outputId": "c469636e-f3fa-432d-d23a-d93fc3045af1"
      },
      "outputs": [
        {
          "data": {
            "text/html": [
              "<div>\n",
              "<style scoped>\n",
              "    .dataframe tbody tr th:only-of-type {\n",
              "        vertical-align: middle;\n",
              "    }\n",
              "\n",
              "    .dataframe tbody tr th {\n",
              "        vertical-align: top;\n",
              "    }\n",
              "\n",
              "    .dataframe thead th {\n",
              "        text-align: right;\n",
              "    }\n",
              "</style>\n",
              "<table border=\"1\" class=\"dataframe\">\n",
              "  <thead>\n",
              "    <tr style=\"text-align: right;\">\n",
              "      <th></th>\n",
              "      <th>row_number</th>\n",
              "      <th>customer_id</th>\n",
              "      <th>surname</th>\n",
              "      <th>credit_score</th>\n",
              "      <th>gender</th>\n",
              "      <th>age</th>\n",
              "      <th>tenure</th>\n",
              "      <th>balance</th>\n",
              "      <th>num_of_products</th>\n",
              "      <th>has_cr_card</th>\n",
              "      <th>is_active_member</th>\n",
              "      <th>estimated_salary</th>\n",
              "      <th>exited</th>\n",
              "      <th>geography_France</th>\n",
              "      <th>geography_Germany</th>\n",
              "      <th>geography_Spain</th>\n",
              "    </tr>\n",
              "  </thead>\n",
              "  <tbody>\n",
              "    <tr>\n",
              "      <th>0</th>\n",
              "      <td>1</td>\n",
              "      <td>15634602</td>\n",
              "      <td>Hargrave</td>\n",
              "      <td>619</td>\n",
              "      <td>Female</td>\n",
              "      <td>42</td>\n",
              "      <td>2.0</td>\n",
              "      <td>0.00</td>\n",
              "      <td>1</td>\n",
              "      <td>1</td>\n",
              "      <td>1</td>\n",
              "      <td>101348.88</td>\n",
              "      <td>1</td>\n",
              "      <td>1</td>\n",
              "      <td>0</td>\n",
              "      <td>0</td>\n",
              "    </tr>\n",
              "    <tr>\n",
              "      <th>1</th>\n",
              "      <td>2</td>\n",
              "      <td>15647311</td>\n",
              "      <td>Hill</td>\n",
              "      <td>608</td>\n",
              "      <td>Female</td>\n",
              "      <td>41</td>\n",
              "      <td>1.0</td>\n",
              "      <td>83807.86</td>\n",
              "      <td>1</td>\n",
              "      <td>0</td>\n",
              "      <td>1</td>\n",
              "      <td>112542.58</td>\n",
              "      <td>0</td>\n",
              "      <td>0</td>\n",
              "      <td>0</td>\n",
              "      <td>1</td>\n",
              "    </tr>\n",
              "    <tr>\n",
              "      <th>2</th>\n",
              "      <td>3</td>\n",
              "      <td>15619304</td>\n",
              "      <td>Onio</td>\n",
              "      <td>502</td>\n",
              "      <td>Female</td>\n",
              "      <td>42</td>\n",
              "      <td>8.0</td>\n",
              "      <td>159660.80</td>\n",
              "      <td>3</td>\n",
              "      <td>1</td>\n",
              "      <td>0</td>\n",
              "      <td>113931.57</td>\n",
              "      <td>1</td>\n",
              "      <td>1</td>\n",
              "      <td>0</td>\n",
              "      <td>0</td>\n",
              "    </tr>\n",
              "    <tr>\n",
              "      <th>3</th>\n",
              "      <td>4</td>\n",
              "      <td>15701354</td>\n",
              "      <td>Boni</td>\n",
              "      <td>699</td>\n",
              "      <td>Female</td>\n",
              "      <td>39</td>\n",
              "      <td>1.0</td>\n",
              "      <td>0.00</td>\n",
              "      <td>2</td>\n",
              "      <td>0</td>\n",
              "      <td>0</td>\n",
              "      <td>93826.63</td>\n",
              "      <td>0</td>\n",
              "      <td>1</td>\n",
              "      <td>0</td>\n",
              "      <td>0</td>\n",
              "    </tr>\n",
              "    <tr>\n",
              "      <th>4</th>\n",
              "      <td>5</td>\n",
              "      <td>15737888</td>\n",
              "      <td>Mitchell</td>\n",
              "      <td>850</td>\n",
              "      <td>Female</td>\n",
              "      <td>43</td>\n",
              "      <td>2.0</td>\n",
              "      <td>125510.82</td>\n",
              "      <td>1</td>\n",
              "      <td>1</td>\n",
              "      <td>1</td>\n",
              "      <td>79084.10</td>\n",
              "      <td>0</td>\n",
              "      <td>0</td>\n",
              "      <td>0</td>\n",
              "      <td>1</td>\n",
              "    </tr>\n",
              "  </tbody>\n",
              "</table>\n",
              "</div>"
            ],
            "text/plain": [
              "   row_number  customer_id   surname  credit_score  gender  age  tenure  \\\n",
              "0           1     15634602  Hargrave           619  Female   42     2.0   \n",
              "1           2     15647311      Hill           608  Female   41     1.0   \n",
              "2           3     15619304      Onio           502  Female   42     8.0   \n",
              "3           4     15701354      Boni           699  Female   39     1.0   \n",
              "4           5     15737888  Mitchell           850  Female   43     2.0   \n",
              "\n",
              "     balance  num_of_products  has_cr_card  is_active_member  \\\n",
              "0       0.00                1            1                 1   \n",
              "1   83807.86                1            0                 1   \n",
              "2  159660.80                3            1                 0   \n",
              "3       0.00                2            0                 0   \n",
              "4  125510.82                1            1                 1   \n",
              "\n",
              "   estimated_salary  exited  geography_France  geography_Germany  \\\n",
              "0         101348.88       1                 1                  0   \n",
              "1         112542.58       0                 0                  0   \n",
              "2         113931.57       1                 1                  0   \n",
              "3          93826.63       0                 1                  0   \n",
              "4          79084.10       0                 0                  0   \n",
              "\n",
              "   geography_Spain  \n",
              "0                0  \n",
              "1                1  \n",
              "2                0  \n",
              "3                0  \n",
              "4                1  "
            ]
          },
          "execution_count": 125,
          "metadata": {},
          "output_type": "execute_result"
        }
      ],
      "source": [
        "# apply one-hot-encoder to geography\n",
        "df_new = pd.get_dummies(df_new, columns=['geography'])\n",
        "df_new.head()"
      ]
    },
    {
      "cell_type": "code",
      "execution_count": null,
      "metadata": {
        "id": "MkHt8ZRZdjM5",
        "outputId": "30bf3489-e05f-4a40-8b2b-3717a5b8060f"
      },
      "outputs": [
        {
          "data": {
            "text/plain": [
              "1    5457\n",
              "0    4543\n",
              "Name: gender, dtype: int64"
            ]
          },
          "execution_count": 126,
          "metadata": {},
          "output_type": "execute_result"
        }
      ],
      "source": [
        "# label encode the gender class\n",
        "df_new.gender = pd.DataFrame(encoder.fit_transform(df_new.gender))\n",
        "df_new.gender.value_counts()"
      ]
    },
    {
      "cell_type": "markdown",
      "metadata": {
        "id": "x3wVYlLZdjM5"
      },
      "source": [
        "### Standars-scale numeric variables"
      ]
    },
    {
      "cell_type": "code",
      "execution_count": null,
      "metadata": {
        "scrolled": true,
        "id": "F-jAeQ4HdjM6",
        "outputId": "81b8d382-f98d-4ad3-ac18-08e56479b1a9"
      },
      "outputs": [
        {
          "data": {
            "text/html": [
              "<div>\n",
              "<style scoped>\n",
              "    .dataframe tbody tr th:only-of-type {\n",
              "        vertical-align: middle;\n",
              "    }\n",
              "\n",
              "    .dataframe tbody tr th {\n",
              "        vertical-align: top;\n",
              "    }\n",
              "\n",
              "    .dataframe thead th {\n",
              "        text-align: right;\n",
              "    }\n",
              "</style>\n",
              "<table border=\"1\" class=\"dataframe\">\n",
              "  <thead>\n",
              "    <tr style=\"text-align: right;\">\n",
              "      <th></th>\n",
              "      <th>row_number</th>\n",
              "      <th>customer_id</th>\n",
              "      <th>surname</th>\n",
              "      <th>credit_score</th>\n",
              "      <th>gender</th>\n",
              "      <th>age</th>\n",
              "      <th>tenure</th>\n",
              "      <th>balance</th>\n",
              "      <th>num_of_products</th>\n",
              "      <th>has_cr_card</th>\n",
              "      <th>is_active_member</th>\n",
              "      <th>estimated_salary</th>\n",
              "      <th>exited</th>\n",
              "      <th>geography_France</th>\n",
              "      <th>geography_Germany</th>\n",
              "      <th>geography_Spain</th>\n",
              "    </tr>\n",
              "  </thead>\n",
              "  <tbody>\n",
              "    <tr>\n",
              "      <th>0</th>\n",
              "      <td>1</td>\n",
              "      <td>15634602</td>\n",
              "      <td>Hargrave</td>\n",
              "      <td>-0.326221</td>\n",
              "      <td>0</td>\n",
              "      <td>0.293517</td>\n",
              "      <td>-1.086246</td>\n",
              "      <td>-1.225848</td>\n",
              "      <td>1</td>\n",
              "      <td>1</td>\n",
              "      <td>1</td>\n",
              "      <td>0.021886</td>\n",
              "      <td>1</td>\n",
              "      <td>1</td>\n",
              "      <td>0</td>\n",
              "      <td>0</td>\n",
              "    </tr>\n",
              "    <tr>\n",
              "      <th>1</th>\n",
              "      <td>2</td>\n",
              "      <td>15647311</td>\n",
              "      <td>Hill</td>\n",
              "      <td>-0.440036</td>\n",
              "      <td>0</td>\n",
              "      <td>0.198164</td>\n",
              "      <td>-1.448581</td>\n",
              "      <td>0.117350</td>\n",
              "      <td>1</td>\n",
              "      <td>0</td>\n",
              "      <td>1</td>\n",
              "      <td>0.216534</td>\n",
              "      <td>0</td>\n",
              "      <td>0</td>\n",
              "      <td>0</td>\n",
              "      <td>1</td>\n",
              "    </tr>\n",
              "    <tr>\n",
              "      <th>2</th>\n",
              "      <td>3</td>\n",
              "      <td>15619304</td>\n",
              "      <td>Onio</td>\n",
              "      <td>-1.536794</td>\n",
              "      <td>0</td>\n",
              "      <td>0.293517</td>\n",
              "      <td>1.087768</td>\n",
              "      <td>1.333053</td>\n",
              "      <td>3</td>\n",
              "      <td>1</td>\n",
              "      <td>0</td>\n",
              "      <td>0.240687</td>\n",
              "      <td>1</td>\n",
              "      <td>1</td>\n",
              "      <td>0</td>\n",
              "      <td>0</td>\n",
              "    </tr>\n",
              "    <tr>\n",
              "      <th>3</th>\n",
              "      <td>4</td>\n",
              "      <td>15701354</td>\n",
              "      <td>Boni</td>\n",
              "      <td>0.501521</td>\n",
              "      <td>0</td>\n",
              "      <td>0.007457</td>\n",
              "      <td>-1.448581</td>\n",
              "      <td>-1.225848</td>\n",
              "      <td>2</td>\n",
              "      <td>0</td>\n",
              "      <td>0</td>\n",
              "      <td>-0.108918</td>\n",
              "      <td>0</td>\n",
              "      <td>1</td>\n",
              "      <td>0</td>\n",
              "      <td>0</td>\n",
              "    </tr>\n",
              "    <tr>\n",
              "      <th>4</th>\n",
              "      <td>5</td>\n",
              "      <td>15737888</td>\n",
              "      <td>Mitchell</td>\n",
              "      <td>2.063884</td>\n",
              "      <td>0</td>\n",
              "      <td>0.388871</td>\n",
              "      <td>-1.086246</td>\n",
              "      <td>0.785728</td>\n",
              "      <td>1</td>\n",
              "      <td>1</td>\n",
              "      <td>1</td>\n",
              "      <td>-0.365276</td>\n",
              "      <td>0</td>\n",
              "      <td>0</td>\n",
              "      <td>0</td>\n",
              "      <td>1</td>\n",
              "    </tr>\n",
              "  </tbody>\n",
              "</table>\n",
              "</div>"
            ],
            "text/plain": [
              "   row_number  customer_id   surname  credit_score  gender       age  \\\n",
              "0           1     15634602  Hargrave     -0.326221       0  0.293517   \n",
              "1           2     15647311      Hill     -0.440036       0  0.198164   \n",
              "2           3     15619304      Onio     -1.536794       0  0.293517   \n",
              "3           4     15701354      Boni      0.501521       0  0.007457   \n",
              "4           5     15737888  Mitchell      2.063884       0  0.388871   \n",
              "\n",
              "     tenure   balance  num_of_products  has_cr_card  is_active_member  \\\n",
              "0 -1.086246 -1.225848                1            1                 1   \n",
              "1 -1.448581  0.117350                1            0                 1   \n",
              "2  1.087768  1.333053                3            1                 0   \n",
              "3 -1.448581 -1.225848                2            0                 0   \n",
              "4 -1.086246  0.785728                1            1                 1   \n",
              "\n",
              "   estimated_salary  exited  geography_France  geography_Germany  \\\n",
              "0          0.021886       1                 1                  0   \n",
              "1          0.216534       0                 0                  0   \n",
              "2          0.240687       1                 1                  0   \n",
              "3         -0.108918       0                 1                  0   \n",
              "4         -0.365276       0                 0                  0   \n",
              "\n",
              "   geography_Spain  \n",
              "0                0  \n",
              "1                1  \n",
              "2                0  \n",
              "3                0  \n",
              "4                1  "
            ]
          },
          "execution_count": 127,
          "metadata": {},
          "output_type": "execute_result"
        }
      ],
      "source": [
        "# standar scale numeric variables: balance and estimated_salary\n",
        "\n",
        "scaler = StandardScaler()\n",
        "scaler.fit(df_new[numeric])\n",
        "df_new[numeric] = scaler.transform(df_new[numeric])\n",
        "df_new.head()"
      ]
    },
    {
      "cell_type": "markdown",
      "metadata": {
        "id": "wY0KQeXPdjM6"
      },
      "source": [
        "### Interim Conclusion\n",
        "\n",
        "The missing values are already filled. One-hot-encoder is already applied to geography. Standard-scaler is already applied to age, credit_scoring, balance, and estimated_salary. \n",
        "\n",
        "As the target class is unbalanced, then metric accuracy will not be used to validate the model. F1 and AUC-ROC scores will be used instead. \n",
        "\n",
        "The modified dataset is saved to a new variable, as both the old and the new will be used to make models with different algorithms."
      ]
    },
    {
      "cell_type": "markdown",
      "metadata": {
        "id": "-wildRbfdjM6"
      },
      "source": [
        "<div class=\"alert alert-block alert-success\">\n",
        "<b>Reviewer's comment v1</b> <a class=\"tocSkip\"></a>\n",
        "\n",
        "Secara umum pemrosesan data sudah bagus.\n",
        "</div>"
      ]
    },
    {
      "cell_type": "markdown",
      "metadata": {
        "id": "fcMtJcTBdjM7"
      },
      "source": [
        "## Train-test split dataset"
      ]
    },
    {
      "cell_type": "markdown",
      "metadata": {
        "id": "BaEK-EHodjM8"
      },
      "source": [
        "Now, we have 2 datasets. One is the dataset that is not modified, except for its columns' naming. The other one is the dataset that has been feature-engineered with OHE, standard scaler, as well as having its missing values filled.\n",
        "\n",
        "In the next step, both datasets will be split into three: train (75%), valid (15%), test (10%).\n",
        "\n",
        "The purpose of maintaining both datasets is to compare how different algorithms in building models with and without missing values, and without and with feature engineering result.\n",
        "\n",
        "Train test split will be stratified as the target class is imbalanced."
      ]
    },
    {
      "cell_type": "code",
      "execution_count": null,
      "metadata": {
        "scrolled": true,
        "id": "Rm4pvWhCdjM8",
        "outputId": "d9bfb193-af1e-48cd-dba2-5202f989e586"
      },
      "outputs": [
        {
          "data": {
            "text/html": [
              "<div>\n",
              "<style scoped>\n",
              "    .dataframe tbody tr th:only-of-type {\n",
              "        vertical-align: middle;\n",
              "    }\n",
              "\n",
              "    .dataframe tbody tr th {\n",
              "        vertical-align: top;\n",
              "    }\n",
              "\n",
              "    .dataframe thead th {\n",
              "        text-align: right;\n",
              "    }\n",
              "</style>\n",
              "<table border=\"1\" class=\"dataframe\">\n",
              "  <thead>\n",
              "    <tr style=\"text-align: right;\">\n",
              "      <th></th>\n",
              "      <th>credit_score</th>\n",
              "      <th>geography</th>\n",
              "      <th>gender</th>\n",
              "      <th>age</th>\n",
              "      <th>tenure</th>\n",
              "      <th>balance</th>\n",
              "      <th>num_of_products</th>\n",
              "      <th>has_cr_card</th>\n",
              "      <th>is_active_member</th>\n",
              "      <th>estimated_salary</th>\n",
              "    </tr>\n",
              "  </thead>\n",
              "  <tbody>\n",
              "    <tr>\n",
              "      <th>0</th>\n",
              "      <td>619</td>\n",
              "      <td>0</td>\n",
              "      <td>0</td>\n",
              "      <td>42</td>\n",
              "      <td>2.0</td>\n",
              "      <td>0.00</td>\n",
              "      <td>1</td>\n",
              "      <td>1</td>\n",
              "      <td>1</td>\n",
              "      <td>101348.88</td>\n",
              "    </tr>\n",
              "    <tr>\n",
              "      <th>1</th>\n",
              "      <td>608</td>\n",
              "      <td>2</td>\n",
              "      <td>0</td>\n",
              "      <td>41</td>\n",
              "      <td>1.0</td>\n",
              "      <td>83807.86</td>\n",
              "      <td>1</td>\n",
              "      <td>0</td>\n",
              "      <td>1</td>\n",
              "      <td>112542.58</td>\n",
              "    </tr>\n",
              "    <tr>\n",
              "      <th>2</th>\n",
              "      <td>502</td>\n",
              "      <td>0</td>\n",
              "      <td>0</td>\n",
              "      <td>42</td>\n",
              "      <td>8.0</td>\n",
              "      <td>159660.80</td>\n",
              "      <td>3</td>\n",
              "      <td>1</td>\n",
              "      <td>0</td>\n",
              "      <td>113931.57</td>\n",
              "    </tr>\n",
              "    <tr>\n",
              "      <th>3</th>\n",
              "      <td>699</td>\n",
              "      <td>0</td>\n",
              "      <td>0</td>\n",
              "      <td>39</td>\n",
              "      <td>1.0</td>\n",
              "      <td>0.00</td>\n",
              "      <td>2</td>\n",
              "      <td>0</td>\n",
              "      <td>0</td>\n",
              "      <td>93826.63</td>\n",
              "    </tr>\n",
              "    <tr>\n",
              "      <th>4</th>\n",
              "      <td>850</td>\n",
              "      <td>2</td>\n",
              "      <td>0</td>\n",
              "      <td>43</td>\n",
              "      <td>2.0</td>\n",
              "      <td>125510.82</td>\n",
              "      <td>1</td>\n",
              "      <td>1</td>\n",
              "      <td>1</td>\n",
              "      <td>79084.10</td>\n",
              "    </tr>\n",
              "  </tbody>\n",
              "</table>\n",
              "</div>"
            ],
            "text/plain": [
              "   credit_score  geography  gender  age  tenure    balance  num_of_products  \\\n",
              "0           619          0       0   42     2.0       0.00                1   \n",
              "1           608          2       0   41     1.0   83807.86                1   \n",
              "2           502          0       0   42     8.0  159660.80                3   \n",
              "3           699          0       0   39     1.0       0.00                2   \n",
              "4           850          2       0   43     2.0  125510.82                1   \n",
              "\n",
              "   has_cr_card  is_active_member  estimated_salary  \n",
              "0            1                 1         101348.88  \n",
              "1            0                 1         112542.58  \n",
              "2            1                 0         113931.57  \n",
              "3            0                 0          93826.63  \n",
              "4            1                 1          79084.10  "
            ]
          },
          "execution_count": 128,
          "metadata": {},
          "output_type": "execute_result"
        }
      ],
      "source": [
        "# select only relevant variables for features\n",
        "drop_cols = ['row_number', 'customer_id', 'surname', 'exited']\n",
        "df_x = df.drop(drop_cols, axis=1)\n",
        "df_x.head()"
      ]
    },
    {
      "cell_type": "code",
      "execution_count": null,
      "metadata": {
        "scrolled": false,
        "id": "AuhYCoVJdjM8",
        "outputId": "254f8e56-7db8-4365-eb66-eca391d129a3"
      },
      "outputs": [
        {
          "data": {
            "text/html": [
              "<div>\n",
              "<style scoped>\n",
              "    .dataframe tbody tr th:only-of-type {\n",
              "        vertical-align: middle;\n",
              "    }\n",
              "\n",
              "    .dataframe tbody tr th {\n",
              "        vertical-align: top;\n",
              "    }\n",
              "\n",
              "    .dataframe thead th {\n",
              "        text-align: right;\n",
              "    }\n",
              "</style>\n",
              "<table border=\"1\" class=\"dataframe\">\n",
              "  <thead>\n",
              "    <tr style=\"text-align: right;\">\n",
              "      <th></th>\n",
              "      <th>credit_score</th>\n",
              "      <th>gender</th>\n",
              "      <th>age</th>\n",
              "      <th>tenure</th>\n",
              "      <th>balance</th>\n",
              "      <th>num_of_products</th>\n",
              "      <th>has_cr_card</th>\n",
              "      <th>is_active_member</th>\n",
              "      <th>estimated_salary</th>\n",
              "      <th>geography_France</th>\n",
              "      <th>geography_Germany</th>\n",
              "      <th>geography_Spain</th>\n",
              "    </tr>\n",
              "  </thead>\n",
              "  <tbody>\n",
              "    <tr>\n",
              "      <th>0</th>\n",
              "      <td>-0.326221</td>\n",
              "      <td>0</td>\n",
              "      <td>0.293517</td>\n",
              "      <td>-1.086246</td>\n",
              "      <td>-1.225848</td>\n",
              "      <td>1</td>\n",
              "      <td>1</td>\n",
              "      <td>1</td>\n",
              "      <td>0.021886</td>\n",
              "      <td>1</td>\n",
              "      <td>0</td>\n",
              "      <td>0</td>\n",
              "    </tr>\n",
              "    <tr>\n",
              "      <th>1</th>\n",
              "      <td>-0.440036</td>\n",
              "      <td>0</td>\n",
              "      <td>0.198164</td>\n",
              "      <td>-1.448581</td>\n",
              "      <td>0.117350</td>\n",
              "      <td>1</td>\n",
              "      <td>0</td>\n",
              "      <td>1</td>\n",
              "      <td>0.216534</td>\n",
              "      <td>0</td>\n",
              "      <td>0</td>\n",
              "      <td>1</td>\n",
              "    </tr>\n",
              "    <tr>\n",
              "      <th>2</th>\n",
              "      <td>-1.536794</td>\n",
              "      <td>0</td>\n",
              "      <td>0.293517</td>\n",
              "      <td>1.087768</td>\n",
              "      <td>1.333053</td>\n",
              "      <td>3</td>\n",
              "      <td>1</td>\n",
              "      <td>0</td>\n",
              "      <td>0.240687</td>\n",
              "      <td>1</td>\n",
              "      <td>0</td>\n",
              "      <td>0</td>\n",
              "    </tr>\n",
              "    <tr>\n",
              "      <th>3</th>\n",
              "      <td>0.501521</td>\n",
              "      <td>0</td>\n",
              "      <td>0.007457</td>\n",
              "      <td>-1.448581</td>\n",
              "      <td>-1.225848</td>\n",
              "      <td>2</td>\n",
              "      <td>0</td>\n",
              "      <td>0</td>\n",
              "      <td>-0.108918</td>\n",
              "      <td>1</td>\n",
              "      <td>0</td>\n",
              "      <td>0</td>\n",
              "    </tr>\n",
              "    <tr>\n",
              "      <th>4</th>\n",
              "      <td>2.063884</td>\n",
              "      <td>0</td>\n",
              "      <td>0.388871</td>\n",
              "      <td>-1.086246</td>\n",
              "      <td>0.785728</td>\n",
              "      <td>1</td>\n",
              "      <td>1</td>\n",
              "      <td>1</td>\n",
              "      <td>-0.365276</td>\n",
              "      <td>0</td>\n",
              "      <td>0</td>\n",
              "      <td>1</td>\n",
              "    </tr>\n",
              "  </tbody>\n",
              "</table>\n",
              "</div>"
            ],
            "text/plain": [
              "   credit_score  gender       age    tenure   balance  num_of_products  \\\n",
              "0     -0.326221       0  0.293517 -1.086246 -1.225848                1   \n",
              "1     -0.440036       0  0.198164 -1.448581  0.117350                1   \n",
              "2     -1.536794       0  0.293517  1.087768  1.333053                3   \n",
              "3      0.501521       0  0.007457 -1.448581 -1.225848                2   \n",
              "4      2.063884       0  0.388871 -1.086246  0.785728                1   \n",
              "\n",
              "   has_cr_card  is_active_member  estimated_salary  geography_France  \\\n",
              "0            1                 1          0.021886                 1   \n",
              "1            0                 1          0.216534                 0   \n",
              "2            1                 0          0.240687                 1   \n",
              "3            0                 0         -0.108918                 1   \n",
              "4            1                 1         -0.365276                 0   \n",
              "\n",
              "   geography_Germany  geography_Spain  \n",
              "0                  0                0  \n",
              "1                  0                1  \n",
              "2                  0                0  \n",
              "3                  0                0  \n",
              "4                  0                1  "
            ]
          },
          "execution_count": 129,
          "metadata": {},
          "output_type": "execute_result"
        }
      ],
      "source": [
        "# select only relevant variables for features\n",
        "drop_cols = ['row_number', 'customer_id', 'surname', 'exited']\n",
        "df_new_x = df_new.drop(drop_cols, axis=1)\n",
        "df_new_x.head()"
      ]
    },
    {
      "cell_type": "code",
      "execution_count": null,
      "metadata": {
        "id": "XhcyTIQQdjM9",
        "outputId": "4d935b99-48e5-4466-ce5a-78b05563861a"
      },
      "outputs": [
        {
          "data": {
            "text/plain": [
              "0    1\n",
              "1    0\n",
              "2    1\n",
              "3    0\n",
              "4    0\n",
              "Name: exited, dtype: int64"
            ]
          },
          "execution_count": 130,
          "metadata": {},
          "output_type": "execute_result"
        }
      ],
      "source": [
        "# select variable exit as target\n",
        "df_y = df['exited']\n",
        "df_y.head()"
      ]
    },
    {
      "cell_type": "code",
      "execution_count": null,
      "metadata": {
        "id": "lGzOJUCtdjM9",
        "outputId": "06b5ff02-184b-4f24-af3b-5049f1b3d530"
      },
      "outputs": [
        {
          "data": {
            "text/plain": [
              "0    1\n",
              "1    0\n",
              "2    1\n",
              "3    0\n",
              "4    0\n",
              "Name: exited, dtype: int64"
            ]
          },
          "execution_count": 131,
          "metadata": {},
          "output_type": "execute_result"
        }
      ],
      "source": [
        "# select variable exit as target\n",
        "df_new_y = df['exited']\n",
        "df_new_y.head()"
      ]
    },
    {
      "cell_type": "code",
      "execution_count": null,
      "metadata": {
        "id": "MfNZNGp-djM9",
        "outputId": "0a0d6f85-2744-4104-8eed-d119e14aea2a"
      },
      "outputs": [
        {
          "data": {
            "text/plain": [
              "(1500, 10)"
            ]
          },
          "execution_count": 132,
          "metadata": {},
          "output_type": "execute_result"
        }
      ],
      "source": [
        "# train-test split with test size of 25%\n",
        "x_train, x_val_test, y_train, y_val_test = train_test_split(df_x, df_y, stratify=df_y, test_size = 0.25, random_state=123)\n",
        "x_valid, x_test, y_valid, y_test = train_test_split(x_val_test, y_val_test, stratify=y_val_test, test_size = 0.4, random_state=123)\n",
        "x_valid.shape\n"
      ]
    },
    {
      "cell_type": "code",
      "execution_count": null,
      "metadata": {
        "id": "CurgqAMAdjM-",
        "outputId": "9549ceb5-590f-4158-d68e-6bc61295c2e1"
      },
      "outputs": [
        {
          "data": {
            "text/plain": [
              "(1500, 12)"
            ]
          },
          "execution_count": 133,
          "metadata": {},
          "output_type": "execute_result"
        }
      ],
      "source": [
        "# train-test split with test size of 25%\n",
        "new_x_train, new_x_val_test, new_y_train, new_y_val_test = train_test_split(df_new_x, df_new_y, stratify=df_new_y, test_size = 0.25, random_state=123)\n",
        "new_x_valid, new_x_test, new_y_valid, new_y_test = train_test_split(new_x_val_test, new_y_val_test, stratify=new_y_val_test, test_size = 0.4, random_state=123)\n",
        "new_x_valid.shape\n"
      ]
    },
    {
      "cell_type": "markdown",
      "metadata": {
        "id": "ixofN96BdjM-"
      },
      "source": [
        "Both datasets are split already, each to train, valid, and test. The old dataset has 10 columns, while the new 12."
      ]
    },
    {
      "cell_type": "markdown",
      "metadata": {
        "id": "1CyelacRdjM_"
      },
      "source": [
        "## LightGBM Classifier\n",
        "\n",
        "With the first dataset that contains missing values, categorical variables left as they are, and no standar scaling applied to the numerical values, a model will be built using LightGBM Classifier.\n",
        "\n",
        "With the first dataset, there are 10 independent variables. We will see if setting L1 will do any good to the model.\n",
        "\n",
        "The dataset consists of 1,000 observed data. This is not a numerous amount, but we will see if setting L2 do any good to the model."
      ]
    },
    {
      "cell_type": "code",
      "execution_count": null,
      "metadata": {
        "scrolled": false,
        "id": "dTkmahz1djM_",
        "outputId": "7ee875bd-7599-47f3-eb81-93fafd13b319"
      },
      "outputs": [
        {
          "name": "stdout",
          "output_type": "stream",
          "text": [
            "num_leaves = 20 : 0.6111869031377899\n",
            "num_leaves = 30 : 0.6039325842696629\n",
            "num_leaves = 40 : 0.6013986013986014\n",
            "num_leaves = 50 : 0.6141078838174274\n",
            "num_leaves = 60 : 0.6141078838174274\n",
            "num_leaves = 70 : 0.6141078838174274\n"
          ]
        }
      ],
      "source": [
        "# train model and look for optimal n_estimators hyperparameter\n",
        "best_score = 0\n",
        "best_est = 0\n",
        "for leave in range(20, 71, 10):\n",
        "    lgbm = LGBMClassifier(boosting_type='gbdt', num_leaves=leave, max_depth=6, \n",
        "                          n_estimators=100, is_unbalance=True, min_child_samples = 100,\n",
        "                         random_state=123)\n",
        "    lgbm.fit(x_train, y_train)\n",
        "    predict_valid = lgbm.predict(x_valid)\n",
        "    f1_valid = f1_score(y_valid, predict_valid)\n",
        "    print(\"num_leaves =\", leave, \": \", end='')\n",
        "    print(f1_valid)"
      ]
    },
    {
      "cell_type": "markdown",
      "metadata": {
        "id": "cQTCAN69djNA"
      },
      "source": [
        "From training the model with different hyperparameter num_leaves, it seems that num_leaves of 20 gives a good result already. Using the valid dataset, F1 score is 0.61. Hence this num_leaves will be set at 20, and applied when training dataset."
      ]
    },
    {
      "cell_type": "code",
      "execution_count": null,
      "metadata": {
        "id": "1DPD9eBFdjNA",
        "outputId": "0551641a-66e7-4c9f-9d59-42f4e2f650bd"
      },
      "outputs": [
        {
          "name": "stdout",
          "output_type": "stream",
          "text": [
            "F1: 0.6784769962982549 , AUC-ROC:  0.9219692443444627\n"
          ]
        }
      ],
      "source": [
        "# set hyperparameter num_leave at 20, and find F1 and AUC-ROC score using the train dataset\n",
        "lgbm = LGBMClassifier(boosting_type='gbdt', num_leaves=20, max_depth=6, \n",
        "                      n_estimators=100, is_unbalance=True, min_child_samples = 100,\n",
        "                      random_state=123)\n",
        "lgbm.fit(x_train, y_train)\n",
        "predict_train = lgbm.predict(x_train)\n",
        "f1_train = f1_score(y_train, predict_train)\n",
        "f1_train\n",
        "\n",
        "prob_train = lgbm.predict_proba(x_train)\n",
        "prob_one_train = prob_train[:, 1]\n",
        "\n",
        "auc_roc_train = roc_auc_score(y_train, prob_one_train)\n",
        "\n",
        "print(\"F1:\", f1_train,\", \", end='')\n",
        "print( \"AUC-ROC: \", auc_roc_train)"
      ]
    },
    {
      "cell_type": "code",
      "execution_count": null,
      "metadata": {
        "id": "5YnA5HlSdjNA",
        "outputId": "ed7f54bc-a210-44df-f105-799cfd3b5c39"
      },
      "outputs": [
        {
          "name": "stdout",
          "output_type": "stream",
          "text": [
            "F1: 0.6111869031377899 , AUC-ROC:  0.8697029974621031\n"
          ]
        },
        {
          "data": {
            "image/png": "[encoded data removed]",
            "text/plain": [
              "<Figure size 432x288 with 1 Axes>"
            ]
          },
          "metadata": {
            "needs_background": "light"
          },
          "output_type": "display_data"
        }
      ],
      "source": [
        "# testing the model with the valid dataset, find F1 and AUC-ROC score, and make ROC curve using the valid dataset\n",
        "predict_valid = lgbm.predict(x_valid)\n",
        "f1_valid = f1_score(y_valid, predict_valid)\n",
        "f1_valid\n",
        "\n",
        "prob_valid = lgbm.predict_proba(x_valid)\n",
        "prob_one_valid = prob_valid[:, 1]\n",
        "\n",
        "auc_roc_valid = roc_auc_score(y_valid, prob_one_valid)\n",
        "\n",
        "print(\"F1:\", f1_valid,\", \", end='')\n",
        "print( \"AUC-ROC: \", auc_roc_valid)\n",
        "\n",
        "fpr, tpr, thresholds = roc_curve(y_valid, prob_one_valid)\n",
        "\n",
        "plt.figure()\n",
        "plt.plot(fpr, tpr)\n",
        "plt.plot([0, 1], [0, 1], linestyle='--')\n",
        "plt.xlim([0.0, 1.0])\n",
        "plt.ylim([0.0, 1.0])\n",
        "plt.xlabel('False Positive Rate')\n",
        "plt.ylabel('True Positive Rate')\n",
        "plt.title('ROC Curve')\n",
        "plt.show()"
      ]
    },
    {
      "cell_type": "code",
      "execution_count": null,
      "metadata": {
        "id": "nk6mjEs2djNB",
        "outputId": "f9e130f3-db95-440c-f47f-fd95e8e13f40"
      },
      "outputs": [
        {
          "name": "stdout",
          "output_type": "stream",
          "text": [
            "F1: 0.596958174904943 , AUC-ROC:  0.8590132032712583\n"
          ]
        }
      ],
      "source": [
        "# testing the model with the test dataset, find F1 and AUC-ROC score using the test dataset\n",
        "predict_test = lgbm.predict(x_test)\n",
        "f1_test = f1_score(y_test, predict_test)\n",
        "f1_test\n",
        "\n",
        "prob_test = lgbm.predict_proba(x_test)\n",
        "prob_one_test = prob_test[:, 1]\n",
        "\n",
        "auc_roc_test = roc_auc_score(y_test, prob_one_test)\n",
        "\n",
        "print(\"F1:\", f1_test,\", \", end='')\n",
        "print( \"AUC-ROC: \", auc_roc_test)"
      ]
    },
    {
      "cell_type": "markdown",
      "metadata": {
        "id": "43lgEG46djNB"
      },
      "source": [
        "### Interim Conclusion\n",
        "\n",
        "With algorithm LGBMClassifier, we manage to find a model with **F1 score above 0.59 and AUC-ROC score above 0.85**.\n",
        "\n",
        "The model is quite stable when reviewed using those 2 metrics as there is not much difference on the scores, regardless the datasets used to predict.\n",
        "\n",
        "Hence this LGBM model already meets the expectation on the minumin F1 score, and not being overfit."
      ]
    },
    {
      "cell_type": "markdown",
      "metadata": {
        "id": "sqY14kGAdjNC"
      },
      "source": [
        "## Random Forest\n",
        "\n",
        "We have succesfully built one model that meets the required criteria using LGBMClassifier. \n",
        "\n",
        "In LGBMClassifier, the imbalanced state of the target class is handled by the algorithm by tuning the related hyperparameter.\n",
        "\n",
        "In this next step, Random Forest will be used to build a model, with imbalanced data handled by upsampling the minority class. \n",
        "\n",
        "A comparison will be done by using downsampling method the majority class.\n",
        "\n",
        "For this, the second, new dataset will be needed (missing values filled, OHE applied, Standard Scaler applied)."
      ]
    },
    {
      "cell_type": "markdown",
      "metadata": {
        "id": "9D5hQ3EldjNC"
      },
      "source": [
        "### Upsampling"
      ]
    },
    {
      "cell_type": "code",
      "execution_count": null,
      "metadata": {
        "scrolled": true,
        "id": "6uQIjSakdjND",
        "outputId": "8a1f4cf3-a3ac-4d38-8a42-c577d7f6734e"
      },
      "outputs": [
        {
          "name": "stdout",
          "output_type": "stream",
          "text": [
            "(5972, 12)\n",
            "(4584, 12)\n"
          ]
        }
      ],
      "source": [
        "# upsample the observed data of target class 1\n",
        "def upsample(x, y, repeat):\n",
        "    x_zeros = x[y ==0]\n",
        "    x_ones = x[y ==1]\n",
        "    y_zeros = y [y==0]\n",
        "    y_ones = y [y==1]\n",
        "    x_upsampled = pd.concat([x_zeros] + [x_ones] * repeat)\n",
        "    y_upsampled = pd.concat([y_zeros] + [y_ones] * repeat)\n",
        "    x_upsampled, y_upsampled = shuffle(x_upsampled, y_upsampled, random_state=123)\n",
        "    return x_upsampled, y_upsampled\n",
        "\n",
        "x_upsampled, y_upsampled = upsample(new_x_train, new_y_train, 3)\n",
        "\n",
        "\n",
        "print(x_upsampled[y_upsampled == 0].shape)\n",
        "print(x_upsampled[y_upsampled == 1].shape)"
      ]
    },
    {
      "cell_type": "code",
      "execution_count": null,
      "metadata": {
        "id": "S0vxgAgQdjND",
        "outputId": "f53567ee-6550-4024-b1a9-64b00aa0a730"
      },
      "outputs": [
        {
          "name": "stdout",
          "output_type": "stream",
          "text": [
            "n_estimators = 40 : 0.6265432098765432\n",
            "n_estimators = 50 : 0.6125574272588056\n",
            "n_estimators = 60 : 0.6085626911314985\n",
            "n_estimators = 70 : 0.6109422492401215\n",
            "n_estimators = 80 : 0.6144578313253012\n",
            "n_estimators = 90 : 0.6172465960665658\n",
            "n_estimators = 100 : 0.6146926536731635\n"
          ]
        }
      ],
      "source": [
        "# train model and look for optimal n_estimators hyperparameter\n",
        "for est in range(40, 101, 10):\n",
        "    rfc = RandomForestClassifier(random_state=123, n_estimators=est, \n",
        "                                 max_depth=4)\n",
        "    rfc.fit(x_upsampled, y_upsampled)\n",
        "    predict_valid = rfc.predict(new_x_valid)\n",
        "    f1_valid = f1_score(new_y_valid, predict_valid)\n",
        "    print(\"n_estimators =\", est, \": \", end='')\n",
        "    print(f1_valid)\n",
        "    "
      ]
    },
    {
      "cell_type": "markdown",
      "metadata": {
        "id": "hzf2I2ZFdjND"
      },
      "source": [
        "The minority target class is upsampled for 3 times.\n",
        "\n",
        "Building the random forest with upsampled train dataset results in f1 score of above 0.60. With n_estimators set at 40, the model performs well already.\n",
        "\n",
        "In the next step, a comparison will be done to show how the performance differs when training is done using the imbalanced train dataset."
      ]
    },
    {
      "cell_type": "code",
      "execution_count": null,
      "metadata": {
        "id": "TEMRfSBidjND",
        "outputId": "4148b7d0-4b37-40d0-b4f3-fc48813064b5"
      },
      "outputs": [
        {
          "name": "stdout",
          "output_type": "stream",
          "text": [
            "              precision    recall  f1-score   support\n",
            "\n",
            "           0       0.91      0.88      0.90      1195\n",
            "           1       0.59      0.67      0.63       305\n",
            "\n",
            "    accuracy                           0.84      1500\n",
            "   macro avg       0.75      0.77      0.76      1500\n",
            "weighted avg       0.85      0.84      0.84      1500\n",
            "\n",
            "AUC-ROC:  0.855544276013444\n"
          ]
        },
        {
          "data": {
            "image/png": "[encoded data removed]",
            "text/plain": [
              "<Figure size 432x288 with 1 Axes>"
            ]
          },
          "metadata": {
            "needs_background": "light"
          },
          "output_type": "display_data"
        }
      ],
      "source": [
        "# build best model, with n_estimators set at 40, using upsampled train dataset\n",
        "\n",
        "rfc_v1 = RandomForestClassifier(random_state=123, n_estimators=40, \n",
        "                                max_depth=4)\n",
        "rfc_v1.fit(x_upsampled, y_upsampled)\n",
        "\n",
        "predict_valid = rfc_v1.predict(new_x_valid)\n",
        "\n",
        "prob_valid = rfc_v1.predict_proba(new_x_valid)\n",
        "prob_one_valid = prob_valid[:, 1]\n",
        "\n",
        "auc_roc_valid = roc_auc_score(new_y_valid, prob_one_valid)\n",
        "\n",
        "print(classification_report(new_y_valid, predict_valid))\n",
        "print( \"AUC-ROC: \", auc_roc_valid)\n",
        "\n",
        "fpr, tpr, thresholds = roc_curve(new_y_valid, prob_one_valid)\n",
        "\n",
        "plt.figure()\n",
        "plt.plot(fpr, tpr)\n",
        "plt.plot([0, 1], [0, 1], linestyle='--')\n",
        "plt.xlim([0.0, 1.0])\n",
        "plt.ylim([0.0, 1.0])\n",
        "plt.xlabel('False Positive Rate')\n",
        "plt.ylabel('True Positive Rate')\n",
        "plt.title('ROC Curve')\n",
        "plt.show()"
      ]
    },
    {
      "cell_type": "code",
      "execution_count": null,
      "metadata": {
        "id": "quXrfbDhdjNK",
        "outputId": "487884ef-42ea-4307-b63b-7c96f18f4b98"
      },
      "outputs": [
        {
          "name": "stdout",
          "output_type": "stream",
          "text": [
            "              precision    recall  f1-score   support\n",
            "\n",
            "           0       0.84      1.00      0.91      1195\n",
            "           1       0.96      0.24      0.39       305\n",
            "\n",
            "    accuracy                           0.84      1500\n",
            "   macro avg       0.90      0.62      0.65      1500\n",
            "weighted avg       0.86      0.84      0.80      1500\n",
            "\n",
            "AUC-ROC:  0.853599012277934\n"
          ]
        },
        {
          "data": {
            "image/png": "[encoded data removed]",
            "text/plain": [
              "<Figure size 432x288 with 1 Axes>"
            ]
          },
          "metadata": {
            "needs_background": "light"
          },
          "output_type": "display_data"
        }
      ],
      "source": [
        "# build best model, with n_estimators set at 40, with imbalanced train dataset\n",
        "\n",
        "rfc_v2 = RandomForestClassifier(random_state=123, n_estimators=40, \n",
        "                                max_depth=4)\n",
        "rfc_v2.fit(new_x_train, new_y_train)\n",
        "\n",
        "predict_valid = rfc_v2.predict(new_x_valid)\n",
        "\n",
        "prob_valid = rfc_v2.predict_proba(new_x_valid)\n",
        "prob_one_valid = prob_valid[:, 1]\n",
        "\n",
        "auc_roc_valid = roc_auc_score(new_y_valid, prob_one_valid)\n",
        "\n",
        "\n",
        "print(classification_report(new_y_valid, predict_valid))\n",
        "print( \"AUC-ROC: \", auc_roc_valid)\n",
        "\n",
        "fpr, tpr, thresholds = roc_curve(new_y_valid, prob_one_valid)\n",
        "\n",
        "plt.figure()\n",
        "plt.plot(fpr, tpr)\n",
        "plt.plot([0, 1], [0, 1], linestyle='--')\n",
        "plt.xlim([0.0, 1.0])\n",
        "plt.ylim([0.0, 1.0])\n",
        "plt.xlabel('False Positive Rate')\n",
        "plt.ylabel('True Positive Rate')\n",
        "plt.title('ROC Curve')\n",
        "plt.show()"
      ]
    },
    {
      "cell_type": "markdown",
      "metadata": {
        "id": "MyUfMP24djNK"
      },
      "source": [
        "It appears that training the randomforest model with imbalanced dataset results in very low performance model when measure using F1 score metric. \n",
        "\n",
        "All hyperparameters set at the same values, the F1 score is only 0.39. \n",
        "\n",
        "This is significantly lower than the F1 score of the upsampled dataset, that is 0.62.\n",
        "\n",
        "However one interesting fact is the AUC-ROC score for both the imbalanced and and upsampled dataset are well enough, above 0.85."
      ]
    },
    {
      "cell_type": "code",
      "execution_count": null,
      "metadata": {
        "scrolled": true,
        "id": "1-UOFN9idjNL",
        "outputId": "093b400a-6809-4c28-d459-c012c518e0b5"
      },
      "outputs": [
        {
          "name": "stdout",
          "output_type": "stream",
          "text": [
            "              precision    recall  f1-score   support\n",
            "\n",
            "           0       0.90      0.89      0.90      5972\n",
            "           1       0.59      0.63      0.61      1528\n",
            "\n",
            "    accuracy                           0.83      7500\n",
            "   macro avg       0.75      0.76      0.75      7500\n",
            "weighted avg       0.84      0.83      0.84      7500\n",
            "\n",
            "AUC-ROC:  0.8538446651564193\n"
          ]
        }
      ],
      "source": [
        "# using training dataset to get F1 score and AUC-ROC score\n",
        "\n",
        "predict_train = rfc_v1.predict(new_x_train)\n",
        "\n",
        "prob_train = rfc_v1.predict_proba(new_x_train)\n",
        "prob_one_train = prob_train[:, 1]\n",
        "\n",
        "auc_roc_train = roc_auc_score(new_y_train, prob_one_train)\n",
        "\n",
        "\n",
        "print(classification_report(new_y_train, predict_train))\n",
        "print( \"AUC-ROC: \", auc_roc_train)"
      ]
    },
    {
      "cell_type": "code",
      "execution_count": null,
      "metadata": {
        "scrolled": true,
        "id": "_Dt40b_vdjNL",
        "outputId": "f33d641a-55e8-47c4-a130-9dc5f3322f54"
      },
      "outputs": [
        {
          "name": "stdout",
          "output_type": "stream",
          "text": [
            "              precision    recall  f1-score   support\n",
            "\n",
            "           0       0.90      0.86      0.88       796\n",
            "           1       0.53      0.62      0.57       204\n",
            "\n",
            "    accuracy                           0.81      1000\n",
            "   macro avg       0.72      0.74      0.73      1000\n",
            "weighted avg       0.82      0.81      0.82      1000\n",
            "\n",
            "AUC-ROC:  0.8371822347029263\n"
          ]
        }
      ],
      "source": [
        "# using test dataset to get F1 score and AUC-ROC score\n",
        "\n",
        "predict_test = rfc_v1.predict(new_x_test)\n",
        "\n",
        "prob_test = rfc_v1.predict_proba(new_x_test)\n",
        "prob_one_test = prob_test[:, 1]\n",
        "\n",
        "auc_roc_test = roc_auc_score(new_y_test, prob_one_test)\n",
        "\n",
        "\n",
        "print(classification_report(new_y_test, predict_test))\n",
        "print( \"AUC-ROC: \", auc_roc_test)"
      ]
    },
    {
      "cell_type": "markdown",
      "metadata": {
        "id": "se7ntgdYdjNL"
      },
      "source": [
        "### Interim Conclusion\n",
        "\n",
        "With upsampling method, the random forest model performs significantly better. F1 score of 0.39 can increase to 0.62.\n",
        "\n",
        "There is no issue of overfitting.\n",
        "\n",
        "However the random forest model built here does not manage to meet the expectation of having F1 score (with the test dataset) of above 0.59. The upsampled trained model can only **score 0.57 on F1**. \n",
        "\n",
        "Although **the AUC-ROC is as high as 0.83**, the bank needs a model that can perform as good as one that has F1 score of 0.59 or more.\n",
        "\n"
      ]
    },
    {
      "cell_type": "markdown",
      "metadata": {
        "id": "1MPdoe8zdjNL"
      },
      "source": [
        "### Downsampling\n",
        "\n",
        "In this next step, downsample method will applied to the observed data of minority class in the train dataset to build a random forest model."
      ]
    },
    {
      "cell_type": "code",
      "execution_count": null,
      "metadata": {
        "id": "C4nkWOX3djNM",
        "outputId": "2d81d604-7e74-42bc-c5e0-b91b7c5d348d"
      },
      "outputs": [
        {
          "name": "stdout",
          "output_type": "stream",
          "text": [
            "(1792, 12)\n",
            "(1528, 12)\n"
          ]
        }
      ],
      "source": [
        "# downsample the observed data of target class 0\n",
        "\n",
        "def downsample(x, y, fraction):\n",
        "    x_zeros = x[y == 0]\n",
        "    x_ones = x[y == 1]\n",
        "    y_zeros = y[y == 0]\n",
        "    y_ones = y[y == 1]\n",
        "    x_downsampled = pd.concat([x_zeros.sample(frac=fraction, random_state=123)] + [x_ones])\n",
        "    y_downsampled = pd.concat([y_zeros.sample(frac=fraction, random_state=123)] + [y_ones])\n",
        "    x_downsampled, y_downsampled = shuffle(x_downsampled, y_downsampled, random_state=123)\n",
        "    return x_downsampled, y_downsampled\n",
        "\n",
        "\n",
        "x_downsampled, y_downsampled = downsample(new_x_train, new_y_train, 0.3)\n",
        "\n",
        "print(x_downsampled[y_downsampled == 0].shape)\n",
        "print(x_downsampled[y_downsampled == 1].shape)"
      ]
    },
    {
      "cell_type": "code",
      "execution_count": null,
      "metadata": {
        "id": "zoy8BsatdjNN",
        "outputId": "effc3e00-c157-46d2-9bf0-c4f1801c7e5c"
      },
      "outputs": [
        {
          "name": "stdout",
          "output_type": "stream",
          "text": [
            "n_estimators = 40 : 0.6054794520547946\n",
            "n_estimators = 50 : 0.612859097127223\n",
            "n_estimators = 60 : 0.610729023383769\n",
            "n_estimators = 70 : 0.6085753803596128\n",
            "n_estimators = 80 : 0.6052269601100413\n",
            "n_estimators = 90 : 0.6038251366120219\n",
            "n_estimators = 100 : 0.6010928961748634\n"
          ]
        }
      ],
      "source": [
        "# train model and look for optimal n_estimators hyperparameter\n",
        "for est in range(40, 101, 10):\n",
        "    rfc = RandomForestClassifier(random_state=123, n_estimators=est, \n",
        "                                 max_depth=4)\n",
        "    rfc.fit(x_downsampled, y_downsampled)\n",
        "    predict_valid = rfc.predict(new_x_valid)\n",
        "    f1_valid = f1_score(new_y_valid, predict_valid)\n",
        "    print(\"n_estimators =\", est, \": \", end='')\n",
        "    print(f1_valid)\n",
        "    "
      ]
    },
    {
      "cell_type": "markdown",
      "metadata": {
        "id": "RyP4HFACdjNN"
      },
      "source": [
        "The majority target class is downsampled to 0.3 fraction.\n",
        "\n",
        "Building the random forest with downsampled train dataset results in f1 score of above 0.60. With n_estimators set at 40, the model performs well already. Hence the n_estimators will be set at 40 the same like previous model using upsampling method, to check on performance comparison.\n",
        "\n",
        "In the next step, a comparison will be done to show how the performance differs when training is done using the imbalanced train dataset."
      ]
    },
    {
      "cell_type": "code",
      "execution_count": null,
      "metadata": {
        "id": "acgkhQgbdjNO",
        "outputId": "fb8e97cc-4628-491b-d8fe-1cbf171f32e7"
      },
      "outputs": [
        {
          "name": "stdout",
          "output_type": "stream",
          "text": [
            "              precision    recall  f1-score   support\n",
            "\n",
            "           0       0.92      0.83      0.87      1195\n",
            "           1       0.52      0.72      0.61       305\n",
            "\n",
            "    accuracy                           0.81      1500\n",
            "   macro avg       0.72      0.78      0.74      1500\n",
            "weighted avg       0.84      0.81      0.82      1500\n",
            "\n",
            "AUC-ROC:  0.857687084162151\n"
          ]
        },
        {
          "data": {
            "image/png": "[encoded data removed]",
            "text/plain": [
              "<Figure size 432x288 with 1 Axes>"
            ]
          },
          "metadata": {
            "needs_background": "light"
          },
          "output_type": "display_data"
        }
      ],
      "source": [
        "# build best model, with n_estimators set at 40, using downsampled train dataset\n",
        "\n",
        "rfc_v3 = RandomForestClassifier(random_state=123, n_estimators=40, \n",
        "                                max_depth=4)\n",
        "rfc_v3.fit(x_downsampled, y_downsampled)\n",
        "\n",
        "predict_valid = rfc_v3.predict(new_x_valid)\n",
        "\n",
        "prob_valid = rfc_v3.predict_proba(new_x_valid)\n",
        "prob_one_valid = prob_valid[:, 1]\n",
        "\n",
        "auc_roc_valid = roc_auc_score(new_y_valid, prob_one_valid)\n",
        "\n",
        "print(classification_report(new_y_valid, predict_valid))\n",
        "print( \"AUC-ROC: \", auc_roc_valid)\n",
        "\n",
        "fpr, tpr, thresholds = roc_curve(new_y_valid, prob_one_valid)\n",
        "\n",
        "plt.figure()\n",
        "plt.plot(fpr, tpr)\n",
        "plt.plot([0, 1], [0, 1], linestyle='--')\n",
        "plt.xlim([0.0, 1.0])\n",
        "plt.ylim([0.0, 1.0])\n",
        "plt.xlabel('False Positive Rate')\n",
        "plt.ylabel('True Positive Rate')\n",
        "plt.title('ROC Curve')\n",
        "plt.show()"
      ]
    },
    {
      "cell_type": "code",
      "execution_count": null,
      "metadata": {
        "id": "31iZvuR_djNO",
        "outputId": "11daad92-8d3e-40a0-df43-f3939b095a62"
      },
      "outputs": [
        {
          "name": "stdout",
          "output_type": "stream",
          "text": [
            "              precision    recall  f1-score   support\n",
            "\n",
            "           0       0.84      1.00      0.91      1195\n",
            "           1       0.96      0.24      0.39       305\n",
            "\n",
            "    accuracy                           0.84      1500\n",
            "   macro avg       0.90      0.62      0.65      1500\n",
            "weighted avg       0.86      0.84      0.80      1500\n",
            "\n",
            "AUC-ROC:  0.853599012277934\n"
          ]
        },
        {
          "data": {
            "image/png": "[encoded data removed]",
            "text/plain": [
              "<Figure size 432x288 with 1 Axes>"
            ]
          },
          "metadata": {
            "needs_background": "light"
          },
          "output_type": "display_data"
        }
      ],
      "source": [
        "# build best model, with n_estimators set at 40, with imbalanced train dataset\n",
        "\n",
        "rfc_v4 = RandomForestClassifier(random_state=123, n_estimators=40, \n",
        "                                max_depth=4)\n",
        "rfc_v4.fit(new_x_train, new_y_train)\n",
        "\n",
        "predict_valid = rfc_v4.predict(new_x_valid)\n",
        "\n",
        "prob_valid = rfc_v4.predict_proba(new_x_valid)\n",
        "prob_one_valid = prob_valid[:, 1]\n",
        "\n",
        "auc_roc_valid = roc_auc_score(new_y_valid, prob_one_valid)\n",
        "\n",
        "print(classification_report(new_y_valid, predict_valid))\n",
        "print( \"AUC-ROC: \", auc_roc_valid)\n",
        "\n",
        "fpr, tpr, thresholds = roc_curve(new_y_valid, prob_one_valid)\n",
        "\n",
        "plt.figure()\n",
        "plt.plot(fpr, tpr)\n",
        "plt.plot([0, 1], [0, 1], linestyle='--')\n",
        "plt.xlim([0.0, 1.0])\n",
        "plt.ylim([0.0, 1.0])\n",
        "plt.xlabel('False Positive Rate')\n",
        "plt.ylabel('True Positive Rate')\n",
        "plt.title('ROC Curve')\n",
        "plt.show()"
      ]
    },
    {
      "cell_type": "markdown",
      "metadata": {
        "id": "g01MYhFBdjNO"
      },
      "source": [
        "It appears that training the randomforest model with imbalanced dataset results in very low performance model when measure using F1 score metric. \n",
        "\n",
        "It leads in the same conclusion when applying upsample method to the minority class.\n",
        "\n",
        "All hyperparameters set at the same values, the F1 score is only 0.39. \n",
        "\n",
        "This is significantly lower than the F1 score of the upsampled dataset, that is 0.61.\n",
        "\n",
        "However one interesting fact is the AUC-ROC score for both the imbalanced and and upsampled dataset are well enough, above 0.85."
      ]
    },
    {
      "cell_type": "code",
      "execution_count": null,
      "metadata": {
        "scrolled": true,
        "id": "bReFbrnqdjNO",
        "outputId": "af14b0d4-918f-4795-9a0f-37ba8e420d75"
      },
      "outputs": [
        {
          "name": "stdout",
          "output_type": "stream",
          "text": [
            "              precision    recall  f1-score   support\n",
            "\n",
            "           0       0.92      0.83      0.87      5972\n",
            "           1       0.51      0.71      0.59      1528\n",
            "\n",
            "    accuracy                           0.80      7500\n",
            "   macro avg       0.72      0.77      0.73      7500\n",
            "weighted avg       0.83      0.80      0.81      7500\n",
            "\n",
            "AUC-ROC:  0.8525945029684777\n"
          ]
        }
      ],
      "source": [
        "# using training dataset to get F1 score and AUC-ROC score\n",
        "\n",
        "predict_train = rfc_v3.predict(new_x_train)\n",
        "\n",
        "prob_train = rfc_v3.predict_proba(new_x_train)\n",
        "prob_one_train = prob_train[:, 1]\n",
        "\n",
        "auc_roc_train = roc_auc_score(new_y_train, prob_one_train)\n",
        "\n",
        "\n",
        "print(classification_report(new_y_train, predict_train))\n",
        "print( \"AUC-ROC: \", auc_roc_train)"
      ]
    },
    {
      "cell_type": "code",
      "execution_count": null,
      "metadata": {
        "id": "au-DT02LdjNP",
        "outputId": "f464c857-546a-434f-e4d1-7b5c570c6338"
      },
      "outputs": [
        {
          "name": "stdout",
          "output_type": "stream",
          "text": [
            "              precision    recall  f1-score   support\n",
            "\n",
            "           0       0.91      0.81      0.86       796\n",
            "           1       0.48      0.69      0.57       204\n",
            "\n",
            "    accuracy                           0.78      1000\n",
            "   macro avg       0.69      0.75      0.71      1000\n",
            "weighted avg       0.82      0.78      0.80      1000\n",
            "\n",
            "AUC-ROC:  0.8343063355995666\n"
          ]
        }
      ],
      "source": [
        "# using test dataset to get F1 score and AUC-ROC score\n",
        "\n",
        "predict_test = rfc_v3.predict(new_x_test)\n",
        "\n",
        "prob_test = rfc_v3.predict_proba(new_x_test)\n",
        "prob_one_test = prob_test[:, 1]\n",
        "\n",
        "auc_roc_test = roc_auc_score(new_y_test, prob_one_test)\n",
        "\n",
        "\n",
        "print(classification_report(new_y_test, predict_test))\n",
        "print( \"AUC-ROC: \", auc_roc_test)"
      ]
    },
    {
      "cell_type": "markdown",
      "metadata": {
        "id": "yu41VNfedjNS"
      },
      "source": [
        "### Interim Conclusion\n",
        "\n",
        "With downsampling method, the random forest model performs significantly better. F1 score of 0.39 can increase to 0.61.\n",
        "\n",
        "There is no issue of overfitting.\n",
        "\n",
        "However the random forest model built here does not manage to meet the expectation of having F1 score (with the test dataset) of above 0.59. The downsampled trained model can only **score 0.57 on F1**.\n",
        "\n",
        "Although **the AUC-ROC is as high as 0.83**, the bank needs a model that can perform as good as one that has F1 score of 0.59 or more.\n",
        "\n",
        "It can be concluded that both model with upsample and downsample method increase performance of a model for an imbalanced dataset.\n",
        "\n",
        "In the next step, a regression algorithm will be used to build the next model."
      ]
    },
    {
      "cell_type": "markdown",
      "metadata": {
        "id": "7FDuilhodjNS"
      },
      "source": [
        "## Logistic Regression"
      ]
    },
    {
      "cell_type": "code",
      "execution_count": null,
      "metadata": {
        "id": "2AlRgo-OdjNU",
        "outputId": "c39bbe48-7cc2-49bd-9eae-efc132372b60"
      },
      "outputs": [
        {
          "name": "stdout",
          "output_type": "stream",
          "text": [
            "Best Penalty: l1\n",
            "Best C: 0.01\n",
            "Best Solver: liblinear\n"
          ]
        },
        {
          "data": {
            "text/plain": [
              "0.49275362318840576"
            ]
          },
          "execution_count": 150,
          "metadata": {},
          "output_type": "execute_result"
        }
      ],
      "source": [
        "\n",
        "#List Hyperparameters to test\n",
        "penalty = ['l1', 'l2', None]\n",
        "C = np.logspace(-2,2,10)\n",
        "solver= ['liblinear', 'newton-cholesky']\n",
        "hyperparameters = dict(penalty=penalty, C=C, solver=solver)\n",
        "\n",
        "#create model with grid search\n",
        "logreg = LogisticRegression(random_state=123, class_weight='balanced')\n",
        "clf = GridSearchCV(logreg, hyperparameters, cv=10)\n",
        "\n",
        "# train model\n",
        "logreg = clf.fit(new_x_train, new_y_train)\n",
        "print('Best Penalty:', logreg.best_estimator_.get_params()['penalty'])\n",
        "print('Best C:', logreg.best_estimator_.get_params()['C'])\n",
        "print('Best Solver:', logreg.best_estimator_.get_params()['solver'])\n",
        "\n",
        "# validate model\n",
        "predict_valid = logreg.predict(new_x_valid)\n",
        "f1_valid = f1_score(new_y_valid, predict_valid)\n",
        "f1_valid"
      ]
    },
    {
      "cell_type": "code",
      "execution_count": null,
      "metadata": {
        "id": "fGQFSsQadjNU",
        "outputId": "6b86e730-42f9-4034-fb77-979aa3073570"
      },
      "outputs": [
        {
          "name": "stdout",
          "output_type": "stream",
          "text": [
            "F1: 0.49275362318840576 , AUC-ROC:  0.7715865285684889\n"
          ]
        }
      ],
      "source": [
        "# Build final model with penalty set as 'l1' and C at 0.01, and solver liblinear\n",
        "logreg_final = LogisticRegression(random_state=123, class_weight='balanced', solver='liblinear', penalty='l1', C= 0.01)\n",
        "logreg_final.fit(new_x_train, new_y_train)\n",
        "predict_valid = logreg_final.predict(new_x_valid)\n",
        "f1_valid = f1_score(new_y_valid, predict_valid)\n",
        "f1_valid\n",
        "\n",
        "prob_valid = logreg_final.predict_proba(new_x_valid)\n",
        "prob_one_valid = prob_valid[:, 1]\n",
        "\n",
        "auc_roc_valid = roc_auc_score(new_y_valid, prob_one_valid)\n",
        "\n",
        "print(\"F1:\", f1_valid,\", \", end='')\n",
        "print( \"AUC-ROC: \", auc_roc_valid)"
      ]
    },
    {
      "cell_type": "code",
      "execution_count": null,
      "metadata": {
        "id": "b2DkXelAdjNV",
        "outputId": "6535292e-9f09-4574-cda8-a8947f2fcdf6"
      },
      "outputs": [
        {
          "name": "stdout",
          "output_type": "stream",
          "text": [
            "F1: 0.5128331688055281 , AUC-ROC:  0.7744171206467879\n"
          ]
        }
      ],
      "source": [
        "# F1 score of the model with the train dataset\n",
        "predict_train = logreg_final.predict(new_x_train)\n",
        "f1_train = f1_score(new_y_train, predict_train)\n",
        "f1_train\n",
        "\n",
        "prob_train = logreg_final.predict_proba(new_x_train)\n",
        "prob_one_train = prob_train[:, 1]\n",
        "\n",
        "auc_roc_train = roc_auc_score(new_y_train, prob_one_train)\n",
        "\n",
        "print(\"F1:\", f1_train,\", \", end='')\n",
        "print( \"AUC-ROC: \", auc_roc_train)"
      ]
    },
    {
      "cell_type": "code",
      "execution_count": null,
      "metadata": {
        "id": "r8X0WDqMdjNV",
        "outputId": "5f2292d1-cc15-4e7d-e68e-df6e587f7761"
      },
      "outputs": [
        {
          "name": "stdout",
          "output_type": "stream",
          "text": [
            "F1: 0.46554934823091243 , AUC-ROC:  0.736568873780668\n"
          ]
        }
      ],
      "source": [
        "# F1 score of the model with the test dataset\n",
        "predict_test = logreg_final.predict(new_x_test)\n",
        "f1_test = f1_score(new_y_test, predict_test)\n",
        "f1_test\n",
        "\n",
        "prob_test = logreg_final.predict_proba(new_x_test)\n",
        "prob_one_test = prob_test[:, 1]\n",
        "\n",
        "auc_roc_test = roc_auc_score(new_y_test, prob_one_test)\n",
        "\n",
        "print(\"F1:\", f1_test,\", \", end='')\n",
        "print( \"AUC-ROC: \", auc_roc_test)"
      ]
    },
    {
      "cell_type": "markdown",
      "metadata": {
        "id": "liXBCsVudjNV"
      },
      "source": [
        "With logistic regression, best combination of hyperparameters resulted from cross validation gridsearch:\n",
        "- solver: liblinear\n",
        "- c: 0.01\n",
        "- penalty: l1\n",
        "And class_weight set as balanced due to the imbalance dataset, the F1 score is 0.46 and AUC-ROC is 0.73.\n",
        "\n",
        "This model does not meet the required F1 score of 0.59."
      ]
    },
    {
      "cell_type": "markdown",
      "metadata": {
        "id": "vU6ivzoFdjNW"
      },
      "source": [
        "## Final Conclusions\n",
        "\n",
        "The project of building machine learning for Bank Beta is started by observing data, some exploratory data analysis, and continued by feature engineering.\n",
        "\n",
        "Missing values are handled, OHE is applied, and standard scaler is applied.\n",
        "\n",
        "There are three algorithm tested: LightGBM, RandomForest, and LogisticRegression.\n",
        "\n",
        "In building with LightGBM, missing values are handled by the machine, and imbalance dataset is left as is.\n",
        "\n",
        "The F1 score is 0.59 and AUC-ROC score is 0.85. That means this model meets the required minimum F1 score Bank Beta.\n",
        "\n",
        "Next, another models are built with alogirthm Random Forest. One is applied with Upsampling method. And the other, downsampling method.\n",
        "\n",
        "It shows that both upsampling method and downsampling method when training the models increase their performance significantly, as measured by their F1 score.\n",
        "\n",
        "However as the final test of the models show F1 score of 0.57, the models do not meet the required minimum F1 score Bank Beta.\n",
        "\n",
        "Lastly, another model is built using regression algorithm, that is LogisticRegression.\n",
        "\n",
        "Hyperparameters class_weigh set as balanced due to the imbalance dataset, and as a result from gridsearch CV, solver is set as liblinear, c at 0.01, and penalty as l1.\n",
        "\n",
        "Final testing of the model shows that it has F1 score of 0.46 and AUC-ROC of 0.73. This also does not meet the required minimum F1 score Bank Beta. \n",
        "\n",
        "Conclusion to this project is to use the model with algorithm LightGBM.\n",
        "\n",
        "Most interesting findings in building a model for this projects are:\n",
        "\n",
        "1. Both method of Upsampling and Downsampling does increase a performance of the model trained, especially when the observed data have imbalance target class.\n",
        "\n",
        "2. Two models might have similarly high AUC-ROC Score although one's F1 Score of positive class might be way more superior than the other's. Hence when the purpose is to build a model that is able to capture as many Positive class as possible, AUC-ROC score alone is not sufficient to be metric of its performance. F1 score is important.\n",
        "\n",
        "3. In the case of an imbalanced dataset, accuracy is not a metric to be referred to when measuring the model's performance, as it is easy to achieve high accuracy score just by make prediction by the majority class. F1 Score that relies on both precision and recall will be a lot better compass showing the how robust the model is. Further, when predicting one class is the most important end of building a model, F2 or more can be used, to put emphasize on Recall."
      ]
    }
  ],
  "metadata": {
    "kernelspec": {
      "display_name": "Python 3 (ipykernel)",
      "language": "python",
      "name": "python3"
    },
    "language_info": {
      "codemirror_mode": {
        "name": "ipython",
        "version": 3
      },
      "file_extension": ".py",
      "mimetype": "text/x-python",
      "name": "python",
      "nbconvert_exporter": "python",
      "pygments_lexer": "ipython3",
      "version": "3.9.5"
    },
    "toc": {
      "base_numbering": 1,
      "nav_menu": {},
      "number_sections": true,
      "sideBar": true,
      "skip_h1_title": true,
      "title_cell": "Table of Contents",
      "title_sidebar": "Contents",
      "toc_cell": false,
      "toc_position": {
        "height": "calc(100% - 180px)",
        "left": "10px",
        "top": "150px",
        "width": "228px"
      },
      "toc_section_display": true,
      "toc_window_display": true
    },
    "colab": {
      "provenance": [],
      "toc_visible": true
    }
  },
  "nbformat": 4,
  "nbformat_minor": 0
}