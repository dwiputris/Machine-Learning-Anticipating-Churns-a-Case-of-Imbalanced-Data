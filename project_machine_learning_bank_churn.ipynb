{
  "cells": [
    {
      "cell_type": "markdown",
      "metadata": {
        "id": "TsXE3rWjdjMf"
      },
      "source": [
        "# Predict on Exodus"
      ]
    },
    {
      "cell_type": "markdown",
      "metadata": {
        "id": "qgv_UqGjdjMh"
      },
      "source": [
        "Customers of Bank Beta is starting to leave. Their number is decreasing from month to month.\n",
        "\n",
        "Management of the bank realizes that the cost is lower in retaining its existing customers than to attaining new customers.\n",
        "\n",
        "\n",
        "In this project, a model will be built to predict if a customer is leaving the bank or not. \n",
        "\n",
        "A dataset is given on the historical behavior of the bank's clients, along with their contract termination.\n",
        "\n",
        "The goal is to have highest F1 score possible, with its minimum on 0.59 with the testing dataset.\n",
        "\n",
        "Other validation metric, AUC-ROC score, will also be measured, and then compared to the F1 score."
      ]
    },
    {
      "cell_type": "markdown",
      "metadata": {
        "id": "yjHvyTeLdjMj"
      },
      "source": [
        "## Pre-processing, EDA, Feature Engineering"
      ]
    },
    {
      "cell_type": "markdown",
      "metadata": {
        "id": "bpfynlMMdjMk"
      },
      "source": [
        "### Data observation"
      ]
    },
    {
      "cell_type": "code",
      "execution_count": 1,
      "metadata": {
        "colab": {
          "base_uri": "https://localhost:8080/"
        },
        "id": "ejLNU1pNdjMk",
        "outputId": "2ffdf54b-c83f-447f-ea37-6690fd50558a"
      },
      "outputs": [
        {
          "output_type": "stream",
          "name": "stdout",
          "text": [
            "Looking in indexes: https://pypi.org/simple, https://us-python.pkg.dev/colab-wheels/public/simple/\n",
            "Collecting treeinterpreter\n",
            "  Downloading treeinterpreter-0.2.3-py2.py3-none-any.whl (6.0 kB)\n",
            "Installing collected packages: treeinterpreter\n",
            "Successfully installed treeinterpreter-0.2.3\n"
          ]
        }
      ],
      "source": [
        "# import libraries\n",
        "import pandas as pd, numpy as np\n",
        "import matplotlib.pyplot as plt\n",
        "import seaborn as sns\n",
        "from lightgbm import LGBMClassifier, plot_importance \n",
        "from sklearn import svm\n",
        "from sklearn.model_selection import train_test_split, GridSearchCV\n",
        "from sklearn.tree import DecisionTreeClassifier, plot_tree\n",
        "from sklearn.ensemble import RandomForestClassifier\n",
        "from sklearn.linear_model import LogisticRegression\n",
        "from sklearn.metrics import classification_report, f1_score, roc_auc_score, roc_curve\n",
        "from sklearn.preprocessing import StandardScaler, OrdinalEncoder, LabelEncoder\n",
        "from sklearn.utils import shuffle\n",
        "!pip install treeinterpreter\n",
        "from treeinterpreter import treeinterpreter as ti\n",
        "import warnings\n",
        "warnings.filterwarnings('ignore')"
      ]
    },
    {
      "cell_type": "code",
      "execution_count": 2,
      "metadata": {
        "colab": {
          "base_uri": "https://localhost:8080/"
        },
        "id": "GA0QrIwjNCd_",
        "outputId": "e3974df3-b9d1-418d-dbf3-fcd36942bb2e"
      },
      "outputs": [
        {
          "output_type": "stream",
          "name": "stdout",
          "text": [
            "Mounted at /content/gdrive\n"
          ]
        }
      ],
      "source": [
        "# Connect to google drive\n",
        "from google.colab import drive\n",
        "drive.mount('/content/gdrive')"
      ]
    },
    {
      "cell_type": "code",
      "execution_count": 3,
      "metadata": {
        "colab": {
          "base_uri": "https://localhost:8080/",
          "height": 206
        },
        "id": "-GrkfRlodjMm",
        "outputId": "d6acfda7-a1a4-4f38-ed65-1e0745d88ba5",
        "scrolled": true
      },
      "outputs": [
        {
          "output_type": "execute_result",
          "data": {
            "text/plain": [
              "   RowNumber  CustomerId   Surname  CreditScore Geography  Gender  Age  \\\n",
              "0          1    15634602  Hargrave          619    France  Female   42   \n",
              "1          2    15647311      Hill          608     Spain  Female   41   \n",
              "2          3    15619304      Onio          502    France  Female   42   \n",
              "3          4    15701354      Boni          699    France  Female   39   \n",
              "4          5    15737888  Mitchell          850     Spain  Female   43   \n",
              "\n",
              "   Tenure    Balance  NumOfProducts  HasCrCard  IsActiveMember  \\\n",
              "0     2.0       0.00              1          1               1   \n",
              "1     1.0   83807.86              1          0               1   \n",
              "2     8.0  159660.80              3          1               0   \n",
              "3     1.0       0.00              2          0               0   \n",
              "4     2.0  125510.82              1          1               1   \n",
              "\n",
              "   EstimatedSalary  Exited  \n",
              "0        101348.88       1  \n",
              "1        112542.58       0  \n",
              "2        113931.57       1  \n",
              "3         93826.63       0  \n",
              "4         79084.10       0  "
            ],
            "text/html": [
              "\n",
              "  <div id=\"df-d63a6359-14d4-43dd-a0a3-3148e7ed7d0a\">\n",
              "    <div class=\"colab-df-container\">\n",
              "      <div>\n",
              "<style scoped>\n",
              "    .dataframe tbody tr th:only-of-type {\n",
              "        vertical-align: middle;\n",
              "    }\n",
              "\n",
              "    .dataframe tbody tr th {\n",
              "        vertical-align: top;\n",
              "    }\n",
              "\n",
              "    .dataframe thead th {\n",
              "        text-align: right;\n",
              "    }\n",
              "</style>\n",
              "<table border=\"1\" class=\"dataframe\">\n",
              "  <thead>\n",
              "    <tr style=\"text-align: right;\">\n",
              "      <th></th>\n",
              "      <th>RowNumber</th>\n",
              "      <th>CustomerId</th>\n",
              "      <th>Surname</th>\n",
              "      <th>CreditScore</th>\n",
              "      <th>Geography</th>\n",
              "      <th>Gender</th>\n",
              "      <th>Age</th>\n",
              "      <th>Tenure</th>\n",
              "      <th>Balance</th>\n",
              "      <th>NumOfProducts</th>\n",
              "      <th>HasCrCard</th>\n",
              "      <th>IsActiveMember</th>\n",
              "      <th>EstimatedSalary</th>\n",
              "      <th>Exited</th>\n",
              "    </tr>\n",
              "  </thead>\n",
              "  <tbody>\n",
              "    <tr>\n",
              "      <th>0</th>\n",
              "      <td>1</td>\n",
              "      <td>15634602</td>\n",
              "      <td>Hargrave</td>\n",
              "      <td>619</td>\n",
              "      <td>France</td>\n",
              "      <td>Female</td>\n",
              "      <td>42</td>\n",
              "      <td>2.0</td>\n",
              "      <td>0.00</td>\n",
              "      <td>1</td>\n",
              "      <td>1</td>\n",
              "      <td>1</td>\n",
              "      <td>101348.88</td>\n",
              "      <td>1</td>\n",
              "    </tr>\n",
              "    <tr>\n",
              "      <th>1</th>\n",
              "      <td>2</td>\n",
              "      <td>15647311</td>\n",
              "      <td>Hill</td>\n",
              "      <td>608</td>\n",
              "      <td>Spain</td>\n",
              "      <td>Female</td>\n",
              "      <td>41</td>\n",
              "      <td>1.0</td>\n",
              "      <td>83807.86</td>\n",
              "      <td>1</td>\n",
              "      <td>0</td>\n",
              "      <td>1</td>\n",
              "      <td>112542.58</td>\n",
              "      <td>0</td>\n",
              "    </tr>\n",
              "    <tr>\n",
              "      <th>2</th>\n",
              "      <td>3</td>\n",
              "      <td>15619304</td>\n",
              "      <td>Onio</td>\n",
              "      <td>502</td>\n",
              "      <td>France</td>\n",
              "      <td>Female</td>\n",
              "      <td>42</td>\n",
              "      <td>8.0</td>\n",
              "      <td>159660.80</td>\n",
              "      <td>3</td>\n",
              "      <td>1</td>\n",
              "      <td>0</td>\n",
              "      <td>113931.57</td>\n",
              "      <td>1</td>\n",
              "    </tr>\n",
              "    <tr>\n",
              "      <th>3</th>\n",
              "      <td>4</td>\n",
              "      <td>15701354</td>\n",
              "      <td>Boni</td>\n",
              "      <td>699</td>\n",
              "      <td>France</td>\n",
              "      <td>Female</td>\n",
              "      <td>39</td>\n",
              "      <td>1.0</td>\n",
              "      <td>0.00</td>\n",
              "      <td>2</td>\n",
              "      <td>0</td>\n",
              "      <td>0</td>\n",
              "      <td>93826.63</td>\n",
              "      <td>0</td>\n",
              "    </tr>\n",
              "    <tr>\n",
              "      <th>4</th>\n",
              "      <td>5</td>\n",
              "      <td>15737888</td>\n",
              "      <td>Mitchell</td>\n",
              "      <td>850</td>\n",
              "      <td>Spain</td>\n",
              "      <td>Female</td>\n",
              "      <td>43</td>\n",
              "      <td>2.0</td>\n",
              "      <td>125510.82</td>\n",
              "      <td>1</td>\n",
              "      <td>1</td>\n",
              "      <td>1</td>\n",
              "      <td>79084.10</td>\n",
              "      <td>0</td>\n",
              "    </tr>\n",
              "  </tbody>\n",
              "</table>\n",
              "</div>\n",
              "      <button class=\"colab-df-convert\" onclick=\"convertToInteractive('df-d63a6359-14d4-43dd-a0a3-3148e7ed7d0a')\"\n",
              "              title=\"Convert this dataframe to an interactive table.\"\n",
              "              style=\"display:none;\">\n",
              "        \n",
              "  <svg xmlns=\"http://www.w3.org/2000/svg\" height=\"24px\"viewBox=\"0 0 24 24\"\n",
              "       width=\"24px\">\n",
              "    <path d=\"M0 0h24v24H0V0z\" fill=\"none\"/>\n",
              "    <path d=\"M18.56 5.44l.94 2.06.94-2.06 2.06-.94-2.06-.94-.94-2.06-.94 2.06-2.06.94zm-11 1L8.5 8.5l.94-2.06 2.06-.94-2.06-.94L8.5 2.5l-.94 2.06-2.06.94zm10 10l.94 2.06.94-2.06 2.06-.94-2.06-.94-.94-2.06-.94 2.06-2.06.94z\"/><path d=\"M17.41 7.96l-1.37-1.37c-.4-.4-.92-.59-1.43-.59-.52 0-1.04.2-1.43.59L10.3 9.45l-7.72 7.72c-.78.78-.78 2.05 0 2.83L4 21.41c.39.39.9.59 1.41.59.51 0 1.02-.2 1.41-.59l7.78-7.78 2.81-2.81c.8-.78.8-2.07 0-2.86zM5.41 20L4 18.59l7.72-7.72 1.47 1.35L5.41 20z\"/>\n",
              "  </svg>\n",
              "      </button>\n",
              "      \n",
              "  <style>\n",
              "    .colab-df-container {\n",
              "      display:flex;\n",
              "      flex-wrap:wrap;\n",
              "      gap: 12px;\n",
              "    }\n",
              "\n",
              "    .colab-df-convert {\n",
              "      background-color: #E8F0FE;\n",
              "      border: none;\n",
              "      border-radius: 50%;\n",
              "      cursor: pointer;\n",
              "      display: none;\n",
              "      fill: #1967D2;\n",
              "      height: 32px;\n",
              "      padding: 0 0 0 0;\n",
              "      width: 32px;\n",
              "    }\n",
              "\n",
              "    .colab-df-convert:hover {\n",
              "      background-color: #E2EBFA;\n",
              "      box-shadow: 0px 1px 2px rgba(60, 64, 67, 0.3), 0px 1px 3px 1px rgba(60, 64, 67, 0.15);\n",
              "      fill: #174EA6;\n",
              "    }\n",
              "\n",
              "    [theme=dark] .colab-df-convert {\n",
              "      background-color: #3B4455;\n",
              "      fill: #D2E3FC;\n",
              "    }\n",
              "\n",
              "    [theme=dark] .colab-df-convert:hover {\n",
              "      background-color: #434B5C;\n",
              "      box-shadow: 0px 1px 3px 1px rgba(0, 0, 0, 0.15);\n",
              "      filter: drop-shadow(0px 1px 2px rgba(0, 0, 0, 0.3));\n",
              "      fill: #FFFFFF;\n",
              "    }\n",
              "  </style>\n",
              "\n",
              "      <script>\n",
              "        const buttonEl =\n",
              "          document.querySelector('#df-d63a6359-14d4-43dd-a0a3-3148e7ed7d0a button.colab-df-convert');\n",
              "        buttonEl.style.display =\n",
              "          google.colab.kernel.accessAllowed ? 'block' : 'none';\n",
              "\n",
              "        async function convertToInteractive(key) {\n",
              "          const element = document.querySelector('#df-d63a6359-14d4-43dd-a0a3-3148e7ed7d0a');\n",
              "          const dataTable =\n",
              "            await google.colab.kernel.invokeFunction('convertToInteractive',\n",
              "                                                     [key], {});\n",
              "          if (!dataTable) return;\n",
              "\n",
              "          const docLinkHtml = 'Like what you see? Visit the ' +\n",
              "            '<a target=\"_blank\" href=https://colab.research.google.com/notebooks/data_table.ipynb>data table notebook</a>'\n",
              "            + ' to learn more about interactive tables.';\n",
              "          element.innerHTML = '';\n",
              "          dataTable['output_type'] = 'display_data';\n",
              "          await google.colab.output.renderOutput(dataTable, element);\n",
              "          const docLink = document.createElement('div');\n",
              "          docLink.innerHTML = docLinkHtml;\n",
              "          element.appendChild(docLink);\n",
              "        }\n",
              "      </script>\n",
              "    </div>\n",
              "  </div>\n",
              "  "
            ]
          },
          "metadata": {},
          "execution_count": 3
        }
      ],
      "source": [
        "# save dataset in a variable and load its samples\n",
        "df = pd.read_csv('/content/gdrive/MyDrive/data_projects/moved_Churn.csv')\n",
        "df.head()\n"
      ]
    },
    {
      "cell_type": "code",
      "execution_count": 4,
      "metadata": {
        "colab": {
          "base_uri": "https://localhost:8080/"
        },
        "id": "6RD95jO6djMo",
        "outputId": "f9aab4e6-0030-423e-9c8f-1189c769f524",
        "scrolled": true
      },
      "outputs": [
        {
          "output_type": "stream",
          "name": "stdout",
          "text": [
            "<class 'pandas.core.frame.DataFrame'>\n",
            "RangeIndex: 10000 entries, 0 to 9999\n",
            "Data columns (total 14 columns):\n",
            " #   Column           Non-Null Count  Dtype  \n",
            "---  ------           --------------  -----  \n",
            " 0   RowNumber        10000 non-null  int64  \n",
            " 1   CustomerId       10000 non-null  int64  \n",
            " 2   Surname          10000 non-null  object \n",
            " 3   CreditScore      10000 non-null  int64  \n",
            " 4   Geography        10000 non-null  object \n",
            " 5   Gender           10000 non-null  object \n",
            " 6   Age              10000 non-null  int64  \n",
            " 7   Tenure           9091 non-null   float64\n",
            " 8   Balance          10000 non-null  float64\n",
            " 9   NumOfProducts    10000 non-null  int64  \n",
            " 10  HasCrCard        10000 non-null  int64  \n",
            " 11  IsActiveMember   10000 non-null  int64  \n",
            " 12  EstimatedSalary  10000 non-null  float64\n",
            " 13  Exited           10000 non-null  int64  \n",
            "dtypes: float64(3), int64(8), object(3)\n",
            "memory usage: 1.1+ MB\n"
          ]
        }
      ],
      "source": [
        "# load general info\n",
        "df.info()"
      ]
    },
    {
      "cell_type": "code",
      "execution_count": 5,
      "metadata": {
        "colab": {
          "base_uri": "https://localhost:8080/",
          "height": 300
        },
        "id": "EzdqKKRpdjMo",
        "outputId": "60f2aa12-f1fb-4336-9f83-339c3156b5ce",
        "scrolled": false
      },
      "outputs": [
        {
          "output_type": "execute_result",
          "data": {
            "text/plain": [
              "         RowNumber    CustomerId   CreditScore           Age       Tenure  \\\n",
              "count  10000.00000  1.000000e+04  10000.000000  10000.000000  9091.000000   \n",
              "mean    5000.50000  1.569094e+07    650.528800     38.921800     4.997690   \n",
              "std     2886.89568  7.193619e+04     96.653299     10.487806     2.894723   \n",
              "min        1.00000  1.556570e+07    350.000000     18.000000     0.000000   \n",
              "25%     2500.75000  1.562853e+07    584.000000     32.000000     2.000000   \n",
              "50%     5000.50000  1.569074e+07    652.000000     37.000000     5.000000   \n",
              "75%     7500.25000  1.575323e+07    718.000000     44.000000     7.000000   \n",
              "max    10000.00000  1.581569e+07    850.000000     92.000000    10.000000   \n",
              "\n",
              "             Balance  NumOfProducts    HasCrCard  IsActiveMember  \\\n",
              "count   10000.000000   10000.000000  10000.00000    10000.000000   \n",
              "mean    76485.889288       1.530200      0.70550        0.515100   \n",
              "std     62397.405202       0.581654      0.45584        0.499797   \n",
              "min         0.000000       1.000000      0.00000        0.000000   \n",
              "25%         0.000000       1.000000      0.00000        0.000000   \n",
              "50%     97198.540000       1.000000      1.00000        1.000000   \n",
              "75%    127644.240000       2.000000      1.00000        1.000000   \n",
              "max    250898.090000       4.000000      1.00000        1.000000   \n",
              "\n",
              "       EstimatedSalary        Exited  \n",
              "count     10000.000000  10000.000000  \n",
              "mean     100090.239881      0.203700  \n",
              "std       57510.492818      0.402769  \n",
              "min          11.580000      0.000000  \n",
              "25%       51002.110000      0.000000  \n",
              "50%      100193.915000      0.000000  \n",
              "75%      149388.247500      0.000000  \n",
              "max      199992.480000      1.000000  "
            ],
            "text/html": [
              "\n",
              "  <div id=\"df-446fc2e0-0800-4ae0-a75f-1329960a1fa0\">\n",
              "    <div class=\"colab-df-container\">\n",
              "      <div>\n",
              "<style scoped>\n",
              "    .dataframe tbody tr th:only-of-type {\n",
              "        vertical-align: middle;\n",
              "    }\n",
              "\n",
              "    .dataframe tbody tr th {\n",
              "        vertical-align: top;\n",
              "    }\n",
              "\n",
              "    .dataframe thead th {\n",
              "        text-align: right;\n",
              "    }\n",
              "</style>\n",
              "<table border=\"1\" class=\"dataframe\">\n",
              "  <thead>\n",
              "    <tr style=\"text-align: right;\">\n",
              "      <th></th>\n",
              "      <th>RowNumber</th>\n",
              "      <th>CustomerId</th>\n",
              "      <th>CreditScore</th>\n",
              "      <th>Age</th>\n",
              "      <th>Tenure</th>\n",
              "      <th>Balance</th>\n",
              "      <th>NumOfProducts</th>\n",
              "      <th>HasCrCard</th>\n",
              "      <th>IsActiveMember</th>\n",
              "      <th>EstimatedSalary</th>\n",
              "      <th>Exited</th>\n",
              "    </tr>\n",
              "  </thead>\n",
              "  <tbody>\n",
              "    <tr>\n",
              "      <th>count</th>\n",
              "      <td>10000.00000</td>\n",
              "      <td>1.000000e+04</td>\n",
              "      <td>10000.000000</td>\n",
              "      <td>10000.000000</td>\n",
              "      <td>9091.000000</td>\n",
              "      <td>10000.000000</td>\n",
              "      <td>10000.000000</td>\n",
              "      <td>10000.00000</td>\n",
              "      <td>10000.000000</td>\n",
              "      <td>10000.000000</td>\n",
              "      <td>10000.000000</td>\n",
              "    </tr>\n",
              "    <tr>\n",
              "      <th>mean</th>\n",
              "      <td>5000.50000</td>\n",
              "      <td>1.569094e+07</td>\n",
              "      <td>650.528800</td>\n",
              "      <td>38.921800</td>\n",
              "      <td>4.997690</td>\n",
              "      <td>76485.889288</td>\n",
              "      <td>1.530200</td>\n",
              "      <td>0.70550</td>\n",
              "      <td>0.515100</td>\n",
              "      <td>100090.239881</td>\n",
              "      <td>0.203700</td>\n",
              "    </tr>\n",
              "    <tr>\n",
              "      <th>std</th>\n",
              "      <td>2886.89568</td>\n",
              "      <td>7.193619e+04</td>\n",
              "      <td>96.653299</td>\n",
              "      <td>10.487806</td>\n",
              "      <td>2.894723</td>\n",
              "      <td>62397.405202</td>\n",
              "      <td>0.581654</td>\n",
              "      <td>0.45584</td>\n",
              "      <td>0.499797</td>\n",
              "      <td>57510.492818</td>\n",
              "      <td>0.402769</td>\n",
              "    </tr>\n",
              "    <tr>\n",
              "      <th>min</th>\n",
              "      <td>1.00000</td>\n",
              "      <td>1.556570e+07</td>\n",
              "      <td>350.000000</td>\n",
              "      <td>18.000000</td>\n",
              "      <td>0.000000</td>\n",
              "      <td>0.000000</td>\n",
              "      <td>1.000000</td>\n",
              "      <td>0.00000</td>\n",
              "      <td>0.000000</td>\n",
              "      <td>11.580000</td>\n",
              "      <td>0.000000</td>\n",
              "    </tr>\n",
              "    <tr>\n",
              "      <th>25%</th>\n",
              "      <td>2500.75000</td>\n",
              "      <td>1.562853e+07</td>\n",
              "      <td>584.000000</td>\n",
              "      <td>32.000000</td>\n",
              "      <td>2.000000</td>\n",
              "      <td>0.000000</td>\n",
              "      <td>1.000000</td>\n",
              "      <td>0.00000</td>\n",
              "      <td>0.000000</td>\n",
              "      <td>51002.110000</td>\n",
              "      <td>0.000000</td>\n",
              "    </tr>\n",
              "    <tr>\n",
              "      <th>50%</th>\n",
              "      <td>5000.50000</td>\n",
              "      <td>1.569074e+07</td>\n",
              "      <td>652.000000</td>\n",
              "      <td>37.000000</td>\n",
              "      <td>5.000000</td>\n",
              "      <td>97198.540000</td>\n",
              "      <td>1.000000</td>\n",
              "      <td>1.00000</td>\n",
              "      <td>1.000000</td>\n",
              "      <td>100193.915000</td>\n",
              "      <td>0.000000</td>\n",
              "    </tr>\n",
              "    <tr>\n",
              "      <th>75%</th>\n",
              "      <td>7500.25000</td>\n",
              "      <td>1.575323e+07</td>\n",
              "      <td>718.000000</td>\n",
              "      <td>44.000000</td>\n",
              "      <td>7.000000</td>\n",
              "      <td>127644.240000</td>\n",
              "      <td>2.000000</td>\n",
              "      <td>1.00000</td>\n",
              "      <td>1.000000</td>\n",
              "      <td>149388.247500</td>\n",
              "      <td>0.000000</td>\n",
              "    </tr>\n",
              "    <tr>\n",
              "      <th>max</th>\n",
              "      <td>10000.00000</td>\n",
              "      <td>1.581569e+07</td>\n",
              "      <td>850.000000</td>\n",
              "      <td>92.000000</td>\n",
              "      <td>10.000000</td>\n",
              "      <td>250898.090000</td>\n",
              "      <td>4.000000</td>\n",
              "      <td>1.00000</td>\n",
              "      <td>1.000000</td>\n",
              "      <td>199992.480000</td>\n",
              "      <td>1.000000</td>\n",
              "    </tr>\n",
              "  </tbody>\n",
              "</table>\n",
              "</div>\n",
              "      <button class=\"colab-df-convert\" onclick=\"convertToInteractive('df-446fc2e0-0800-4ae0-a75f-1329960a1fa0')\"\n",
              "              title=\"Convert this dataframe to an interactive table.\"\n",
              "              style=\"display:none;\">\n",
              "        \n",
              "  <svg xmlns=\"http://www.w3.org/2000/svg\" height=\"24px\"viewBox=\"0 0 24 24\"\n",
              "       width=\"24px\">\n",
              "    <path d=\"M0 0h24v24H0V0z\" fill=\"none\"/>\n",
              "    <path d=\"M18.56 5.44l.94 2.06.94-2.06 2.06-.94-2.06-.94-.94-2.06-.94 2.06-2.06.94zm-11 1L8.5 8.5l.94-2.06 2.06-.94-2.06-.94L8.5 2.5l-.94 2.06-2.06.94zm10 10l.94 2.06.94-2.06 2.06-.94-2.06-.94-.94-2.06-.94 2.06-2.06.94z\"/><path d=\"M17.41 7.96l-1.37-1.37c-.4-.4-.92-.59-1.43-.59-.52 0-1.04.2-1.43.59L10.3 9.45l-7.72 7.72c-.78.78-.78 2.05 0 2.83L4 21.41c.39.39.9.59 1.41.59.51 0 1.02-.2 1.41-.59l7.78-7.78 2.81-2.81c.8-.78.8-2.07 0-2.86zM5.41 20L4 18.59l7.72-7.72 1.47 1.35L5.41 20z\"/>\n",
              "  </svg>\n",
              "      </button>\n",
              "      \n",
              "  <style>\n",
              "    .colab-df-container {\n",
              "      display:flex;\n",
              "      flex-wrap:wrap;\n",
              "      gap: 12px;\n",
              "    }\n",
              "\n",
              "    .colab-df-convert {\n",
              "      background-color: #E8F0FE;\n",
              "      border: none;\n",
              "      border-radius: 50%;\n",
              "      cursor: pointer;\n",
              "      display: none;\n",
              "      fill: #1967D2;\n",
              "      height: 32px;\n",
              "      padding: 0 0 0 0;\n",
              "      width: 32px;\n",
              "    }\n",
              "\n",
              "    .colab-df-convert:hover {\n",
              "      background-color: #E2EBFA;\n",
              "      box-shadow: 0px 1px 2px rgba(60, 64, 67, 0.3), 0px 1px 3px 1px rgba(60, 64, 67, 0.15);\n",
              "      fill: #174EA6;\n",
              "    }\n",
              "\n",
              "    [theme=dark] .colab-df-convert {\n",
              "      background-color: #3B4455;\n",
              "      fill: #D2E3FC;\n",
              "    }\n",
              "\n",
              "    [theme=dark] .colab-df-convert:hover {\n",
              "      background-color: #434B5C;\n",
              "      box-shadow: 0px 1px 3px 1px rgba(0, 0, 0, 0.15);\n",
              "      filter: drop-shadow(0px 1px 2px rgba(0, 0, 0, 0.3));\n",
              "      fill: #FFFFFF;\n",
              "    }\n",
              "  </style>\n",
              "\n",
              "      <script>\n",
              "        const buttonEl =\n",
              "          document.querySelector('#df-446fc2e0-0800-4ae0-a75f-1329960a1fa0 button.colab-df-convert');\n",
              "        buttonEl.style.display =\n",
              "          google.colab.kernel.accessAllowed ? 'block' : 'none';\n",
              "\n",
              "        async function convertToInteractive(key) {\n",
              "          const element = document.querySelector('#df-446fc2e0-0800-4ae0-a75f-1329960a1fa0');\n",
              "          const dataTable =\n",
              "            await google.colab.kernel.invokeFunction('convertToInteractive',\n",
              "                                                     [key], {});\n",
              "          if (!dataTable) return;\n",
              "\n",
              "          const docLinkHtml = 'Like what you see? Visit the ' +\n",
              "            '<a target=\"_blank\" href=https://colab.research.google.com/notebooks/data_table.ipynb>data table notebook</a>'\n",
              "            + ' to learn more about interactive tables.';\n",
              "          element.innerHTML = '';\n",
              "          dataTable['output_type'] = 'display_data';\n",
              "          await google.colab.output.renderOutput(dataTable, element);\n",
              "          const docLink = document.createElement('div');\n",
              "          docLink.innerHTML = docLinkHtml;\n",
              "          element.appendChild(docLink);\n",
              "        }\n",
              "      </script>\n",
              "    </div>\n",
              "  </div>\n",
              "  "
            ]
          },
          "metadata": {},
          "execution_count": 5
        }
      ],
      "source": [
        "# load statistical description\n",
        "df.describe()"
      ]
    },
    {
      "cell_type": "code",
      "execution_count": 6,
      "metadata": {
        "id": "kijgi2zDdjMp"
      },
      "outputs": [],
      "source": [
        "# Change the columns name to lowercase for simplicity\n",
        "df.columns = ['row_number', 'customer_id', 'surname', 'credit_score', 'geography',\n",
        "       'gender', 'age', 'tenure', 'balance', 'num_of_products', 'has_cr_card',\n",
        "       'is_active_member', 'estimated_salary', 'exited']"
      ]
    },
    {
      "cell_type": "markdown",
      "metadata": {
        "id": "J8VivGU6djMq"
      },
      "source": [
        "### Exploratory Data Analysis"
      ]
    },
    {
      "cell_type": "code",
      "execution_count": 7,
      "metadata": {
        "colab": {
          "base_uri": "https://localhost:8080/",
          "height": 297
        },
        "id": "WjUsJHiMdjMq",
        "outputId": "2d21dc4a-f496-44cf-ac78-af30bde82e99"
      },
      "outputs": [
        {
          "output_type": "execute_result",
          "data": {
            "text/plain": [
              "<matplotlib.axes._subplots.AxesSubplot at 0x7fcc79ca5970>"
            ]
          },
          "metadata": {},
          "execution_count": 7
        },
        {
          "output_type": "display_data",
          "data": {
            "text/plain": [
              "<Figure size 432x288 with 1 Axes>"
            ],
            "image/png": "[encoded data removed]"
          },
          "metadata": {
            "needs_background": "light"
          }
        }
      ],
      "source": [
        "# Univariate analysis target\n",
        "sns.countplot(df['exited'])"
      ]
    },
    {
      "cell_type": "code",
      "execution_count": 8,
      "metadata": {
        "colab": {
          "base_uri": "https://localhost:8080/",
          "height": 1000
        },
        "id": "fA3tR3Y-djMr",
        "outputId": "c40e9778-0bca-4e6e-dc65-62fc18711439"
      },
      "outputs": [
        {
          "output_type": "display_data",
          "data": {
            "text/plain": [
              "<Figure size 864x1296 with 5 Axes>"
            ],
            "image/png": "[encoded data removed]"
          },
          "metadata": {
            "needs_background": "light"
          }
        }
      ],
      "source": [
        "# Univariate analysis relevant variables\n",
        "numeric=['age', 'credit_score', 'balance','estimated_salary', 'tenure']\n",
        "plt.subplots(figsize = (12, 18))\n",
        "for i, var in enumerate(numeric):\n",
        "    sns.boxplot(data=df, x=var, ax = plt.subplot(3, 2, i + 1))\n",
        "    plt.xticks(rotation = 45)"
      ]
    },
    {
      "cell_type": "code",
      "execution_count": 9,
      "metadata": {
        "colab": {
          "base_uri": "https://localhost:8080/",
          "height": 500
        },
        "id": "AbFHWFqUdjMs",
        "outputId": "786e5e54-0425-4fe6-9fab-6e9c5254b4ff",
        "scrolled": true
      },
      "outputs": [
        {
          "output_type": "display_data",
          "data": {
            "text/plain": [
              "<Figure size 576x576 with 2 Axes>"
            ],
            "image/png": "[encoded data removed]"
          },
          "metadata": {
            "needs_background": "light"
          }
        }
      ],
      "source": [
        "# Check for any strong correlation in variables with potential to be correlated\n",
        "related_variables = df[['credit_score', 'balance', 'estimated_salary']]\n",
        "\n",
        "plt.figure(figsize=(8,8))\n",
        "plt.title('Correlation between credit_score, balance, estimated_salary')\n",
        "sns.heatmap(related_variables.corr(),annot=True)\n",
        "plt.show()"
      ]
    },
    {
      "cell_type": "markdown",
      "metadata": {
        "id": "kLEGKwJ3djMs"
      },
      "source": [
        "From this early dataset observation it appears that:\n",
        "\n",
        "1. There are missing values in Tenure of 909 observed data.\n",
        "\n",
        "2. The target class is imbalanced. Class 1 only makes around 20% of total observed data.\n",
        "\n",
        "3. Some independent variables will be irrelevant to predicting model hence will need to be excluded from predictors:\n",
        "    - row_number\n",
        "    - customer_id\n",
        "    - surname\n",
        "\n",
        "4. Numeric variables need to be standard-scaled:\n",
        "    - balance\n",
        "    - estimated_salary\n",
        "    \n",
        "5. Writing of columns name are better in lowercase\n",
        "\n",
        "6. There might be no significant outliers as the standard deviations in each variables are relatively low, and the figures of mean and median are not significantly vary. Although our boxplots suggest that there may be a small number of outliers in age and credit score. Hence both variables are to be standar-scaled as well.\n",
        "\n",
        "7. There is unlikely correlation between variables. It is safe then to use all relevant variables as predictors.\n",
        "\n",
        "In the next step, missing values in tenure will be checked if they are results of a random event or if there is actually any relation to other independent variables."
      ]
    },
    {
      "cell_type": "markdown",
      "metadata": {
        "id": "PPVM7LI1djMt"
      },
      "source": [
        "### Checking Missing Values\n",
        "\n",
        "First, let us check the distribution of unique values in relevant variables. \n",
        "\n",
        "Next, after having the distribution of values in relevant variables, let us check if there the distributions differ significantly when filtered on the missing values."
      ]
    },
    {
      "cell_type": "code",
      "execution_count": 10,
      "metadata": {
        "colab": {
          "base_uri": "https://localhost:8080/"
        },
        "id": "jQINvQgtdjMt",
        "outputId": "99f8c839-6188-4d5b-f3e7-ee5ce74a2fcc",
        "scrolled": true
      },
      "outputs": [
        {
          "output_type": "execute_result",
          "data": {
            "text/plain": [
              "1.0     9.52\n",
              "2.0     9.50\n",
              "8.0     9.33\n",
              "3.0     9.28\n",
              "5.0     9.27\n",
              "7.0     9.25\n",
              "NaN     9.09\n",
              "4.0     8.85\n",
              "9.0     8.82\n",
              "6.0     8.81\n",
              "10.0    4.46\n",
              "0.0     3.82\n",
              "Name: tenure, dtype: float64"
            ]
          },
          "metadata": {},
          "execution_count": 10
        }
      ],
      "source": [
        "# check % distribution of values in tenure, especially the missing values\n",
        "df.tenure.value_counts(dropna=False, normalize=True)*100"
      ]
    },
    {
      "cell_type": "code",
      "execution_count": 11,
      "metadata": {
        "colab": {
          "base_uri": "https://localhost:8080/"
        },
        "id": "KNYbYNREdjMu",
        "outputId": "b3cb565f-8261-4ff5-efaf-8bd5228e37ea",
        "scrolled": true
      },
      "outputs": [
        {
          "output_type": "execute_result",
          "data": {
            "text/plain": [
              "850    2.33\n",
              "678    0.63\n",
              "655    0.54\n",
              "705    0.53\n",
              "667    0.53\n",
              "684    0.52\n",
              "670    0.50\n",
              "651    0.50\n",
              "683    0.48\n",
              "652    0.48\n",
              "Name: credit_score, dtype: float64"
            ]
          },
          "metadata": {},
          "execution_count": 11
        }
      ],
      "source": [
        "# check % distribution of values in credit_score\n",
        "(df.credit_score.value_counts(dropna=False, normalize=True)*100).head(10)"
      ]
    },
    {
      "cell_type": "code",
      "execution_count": 12,
      "metadata": {
        "colab": {
          "base_uri": "https://localhost:8080/"
        },
        "id": "bMS7W_TzdjMu",
        "outputId": "b89b3ee3-d5e9-4929-e4f4-313d021d4cf4",
        "scrolled": false
      },
      "outputs": [
        {
          "output_type": "execute_result",
          "data": {
            "text/plain": [
              "850    2.530253\n",
              "651    0.990099\n",
              "630    0.990099\n",
              "652    0.880088\n",
              "706    0.880088\n",
              "670    0.770077\n",
              "710    0.770077\n",
              "614    0.770077\n",
              "667    0.770077\n",
              "693    0.770077\n",
              "Name: credit_score, dtype: float64"
            ]
          },
          "metadata": {},
          "execution_count": 12
        }
      ],
      "source": [
        "# check if there's a relation of missing values to credit_score\n",
        "(df.loc[df.tenure.isna()]['credit_score'].value_counts(normalize=True)*100).head(10)\n"
      ]
    },
    {
      "cell_type": "code",
      "execution_count": 13,
      "metadata": {
        "colab": {
          "base_uri": "https://localhost:8080/"
        },
        "id": "7cYxVu8YdjMv",
        "outputId": "d7ebe7f7-88a4-4068-ae46-e95b903cdb58",
        "scrolled": true
      },
      "outputs": [
        {
          "output_type": "execute_result",
          "data": {
            "text/plain": [
              "France     50.14\n",
              "Germany    25.09\n",
              "Spain      24.77\n",
              "Name: geography, dtype: float64"
            ]
          },
          "metadata": {},
          "execution_count": 13
        }
      ],
      "source": [
        "# check % distribution of values in geography\n",
        "df.geography.value_counts(dropna=False, normalize=True)*100"
      ]
    },
    {
      "cell_type": "code",
      "execution_count": 14,
      "metadata": {
        "colab": {
          "base_uri": "https://localhost:8080/"
        },
        "id": "MDCEk1ERdjMv",
        "outputId": "f8e6b1f3-c298-4cad-a853-32f0b25ae4c7",
        "scrolled": true
      },
      "outputs": [
        {
          "output_type": "execute_result",
          "data": {
            "text/plain": [
              "France     51.045105\n",
              "Spain      25.192519\n",
              "Germany    23.762376\n",
              "Name: geography, dtype: float64"
            ]
          },
          "metadata": {},
          "execution_count": 14
        }
      ],
      "source": [
        "# check if there's a relation of missing values to geography\n",
        "df.loc[df.tenure.isna()]['geography'].value_counts(normalize=True)*100"
      ]
    },
    {
      "cell_type": "code",
      "execution_count": 15,
      "metadata": {
        "colab": {
          "base_uri": "https://localhost:8080/"
        },
        "id": "8o5ncd1wdjMw",
        "outputId": "33270c6f-5205-47a9-a5eb-aef7deb50252",
        "scrolled": true
      },
      "outputs": [
        {
          "output_type": "execute_result",
          "data": {
            "text/plain": [
              "Male      54.57\n",
              "Female    45.43\n",
              "Name: gender, dtype: float64"
            ]
          },
          "metadata": {},
          "execution_count": 15
        }
      ],
      "source": [
        "# check % distribution of values in gender\n",
        "df.gender.value_counts(dropna=False, normalize=True)*100"
      ]
    },
    {
      "cell_type": "code",
      "execution_count": 16,
      "metadata": {
        "colab": {
          "base_uri": "https://localhost:8080/"
        },
        "id": "E_rrrK0KdjMw",
        "outputId": "fbd0dd25-b24a-4103-e33f-a46cdd9970d6",
        "scrolled": true
      },
      "outputs": [
        {
          "output_type": "execute_result",
          "data": {
            "text/plain": [
              "Male      53.135314\n",
              "Female    46.864686\n",
              "Name: gender, dtype: float64"
            ]
          },
          "metadata": {},
          "execution_count": 16
        }
      ],
      "source": [
        "# check if there's a relation of missing values to gender\n",
        "df.loc[df.tenure.isna()]['gender'].value_counts(normalize=True)*100"
      ]
    },
    {
      "cell_type": "code",
      "execution_count": 17,
      "metadata": {
        "colab": {
          "base_uri": "https://localhost:8080/"
        },
        "id": "hbiguS1BdjMw",
        "outputId": "8898f448-5a42-4d30-d265-a7e99a1744f2",
        "scrolled": true
      },
      "outputs": [
        {
          "output_type": "execute_result",
          "data": {
            "text/plain": [
              "37    4.78\n",
              "38    4.77\n",
              "35    4.74\n",
              "36    4.56\n",
              "34    4.47\n",
              "33    4.42\n",
              "40    4.32\n",
              "39    4.23\n",
              "32    4.18\n",
              "31    4.04\n",
              "Name: age, dtype: float64"
            ]
          },
          "metadata": {},
          "execution_count": 17
        }
      ],
      "source": [
        "# check % distribution of values in age\n",
        "(df.age.value_counts(dropna=False, normalize=True)*100).head(10)"
      ]
    },
    {
      "cell_type": "code",
      "execution_count": 18,
      "metadata": {
        "colab": {
          "base_uri": "https://localhost:8080/"
        },
        "id": "zOFGkKpIdjMw",
        "outputId": "bc019350-9908-49f1-c343-fa3312bafce5",
        "scrolled": false
      },
      "outputs": [
        {
          "output_type": "execute_result",
          "data": {
            "text/plain": [
              "36    6.050605\n",
              "38    5.830583\n",
              "40    5.390539\n",
              "31    4.950495\n",
              "32    4.840484\n",
              "37    4.730473\n",
              "35    4.730473\n",
              "33    4.290429\n",
              "39    3.960396\n",
              "34    3.850385\n",
              "Name: age, dtype: float64"
            ]
          },
          "metadata": {},
          "execution_count": 18
        }
      ],
      "source": [
        "# check if there's a relation of missing values to num_of_products\n",
        "(df.loc[df.tenure.isna()]['age'].value_counts(normalize=True)*100).head(10)"
      ]
    },
    {
      "cell_type": "code",
      "execution_count": 19,
      "metadata": {
        "colab": {
          "base_uri": "https://localhost:8080/"
        },
        "id": "06Z5pv9-djMx",
        "outputId": "41b321b3-81c5-4a0f-e6e3-3556d09bd9a1",
        "scrolled": true
      },
      "outputs": [
        {
          "output_type": "execute_result",
          "data": {
            "text/plain": [
              "0.00         36.17\n",
              "130170.82     0.02\n",
              "105473.74     0.02\n",
              "85304.27      0.01\n",
              "159397.75     0.01\n",
              "             ...  \n",
              "81556.89      0.01\n",
              "112687.69     0.01\n",
              "108698.96     0.01\n",
              "238387.56     0.01\n",
              "130142.79     0.01\n",
              "Name: balance, Length: 6382, dtype: float64"
            ]
          },
          "metadata": {},
          "execution_count": 19
        }
      ],
      "source": [
        "# check % distribution of values in balance\n",
        "df.balance.value_counts(dropna=False, normalize=True)*100"
      ]
    },
    {
      "cell_type": "code",
      "execution_count": 20,
      "metadata": {
        "colab": {
          "base_uri": "https://localhost:8080/"
        },
        "id": "ECY35-4AdjMx",
        "outputId": "783a8ed2-a938-468f-ecca-81e9a0a2002f",
        "scrolled": false
      },
      "outputs": [
        {
          "output_type": "execute_result",
          "data": {
            "text/plain": [
              "0.00         36.743674\n",
              "103391.38     0.110011\n",
              "121513.31     0.110011\n",
              "148962.46     0.110011\n",
              "100107.99     0.110011\n",
              "               ...    \n",
              "91415.76      0.110011\n",
              "96814.46      0.110011\n",
              "97286.16      0.110011\n",
              "95140.44      0.110011\n",
              "130142.79     0.110011\n",
              "Name: balance, Length: 576, dtype: float64"
            ]
          },
          "metadata": {},
          "execution_count": 20
        }
      ],
      "source": [
        "# check if there's a relation of missing values to balance\n",
        "df.loc[df.tenure.isna()]['balance'].value_counts(normalize=True)*100"
      ]
    },
    {
      "cell_type": "code",
      "execution_count": 21,
      "metadata": {
        "colab": {
          "base_uri": "https://localhost:8080/"
        },
        "id": "w-R5sP9edjMx",
        "outputId": "fc0645b5-e973-4e7b-bcd8-96ac746fe681",
        "scrolled": false
      },
      "outputs": [
        {
          "output_type": "execute_result",
          "data": {
            "text/plain": [
              "1    50.84\n",
              "2    45.90\n",
              "3     2.66\n",
              "4     0.60\n",
              "Name: num_of_products, dtype: float64"
            ]
          },
          "metadata": {},
          "execution_count": 21
        }
      ],
      "source": [
        "# check % distribution of values in num_of_products\n",
        "df.num_of_products.value_counts(dropna=False, normalize=True)*100"
      ]
    },
    {
      "cell_type": "code",
      "execution_count": 22,
      "metadata": {
        "colab": {
          "base_uri": "https://localhost:8080/"
        },
        "id": "vlrnFcR8djMy",
        "outputId": "f052ce52-1317-4bba-bb2b-1923c6e034ef",
        "scrolled": true
      },
      "outputs": [
        {
          "output_type": "execute_result",
          "data": {
            "text/plain": [
              "1    51.375138\n",
              "2    44.664466\n",
              "3     3.520352\n",
              "4     0.440044\n",
              "Name: num_of_products, dtype: float64"
            ]
          },
          "metadata": {},
          "execution_count": 22
        }
      ],
      "source": [
        "# check if there's a relation of missing values to num_of_products\n",
        "df.loc[df.tenure.isna()]['num_of_products'].value_counts(normalize=True)*100"
      ]
    },
    {
      "cell_type": "code",
      "execution_count": 23,
      "metadata": {
        "colab": {
          "base_uri": "https://localhost:8080/"
        },
        "id": "nAdEMsCBdjMy",
        "outputId": "76f75917-e5b8-4642-d6d7-1345a5f1cffb",
        "scrolled": true
      },
      "outputs": [
        {
          "output_type": "execute_result",
          "data": {
            "text/plain": [
              "1    70.55\n",
              "0    29.45\n",
              "Name: has_cr_card, dtype: float64"
            ]
          },
          "metadata": {},
          "execution_count": 23
        }
      ],
      "source": [
        "# check % distribution of values in has_cr_card\n",
        "df.has_cr_card.value_counts(dropna=False, normalize=True)*100"
      ]
    },
    {
      "cell_type": "code",
      "execution_count": 24,
      "metadata": {
        "colab": {
          "base_uri": "https://localhost:8080/"
        },
        "id": "PElwaqQLdjMz",
        "outputId": "e209c6a2-557d-4dd9-a9a4-ea838a7e1833"
      },
      "outputs": [
        {
          "output_type": "execute_result",
          "data": {
            "text/plain": [
              "1    71.067107\n",
              "0    28.932893\n",
              "Name: has_cr_card, dtype: float64"
            ]
          },
          "metadata": {},
          "execution_count": 24
        }
      ],
      "source": [
        "# check if there's a relation of missing values to has_cr_card\n",
        "df.loc[df.tenure.isna()]['has_cr_card'].value_counts(normalize=True)*100"
      ]
    },
    {
      "cell_type": "code",
      "execution_count": 25,
      "metadata": {
        "colab": {
          "base_uri": "https://localhost:8080/"
        },
        "id": "61eEANPKdjMz",
        "outputId": "9d5009b0-7b99-4ac7-cd70-d57f13ae3411",
        "scrolled": true
      },
      "outputs": [
        {
          "output_type": "execute_result",
          "data": {
            "text/plain": [
              "1    51.51\n",
              "0    48.49\n",
              "Name: is_active_member, dtype: float64"
            ]
          },
          "metadata": {},
          "execution_count": 25
        }
      ],
      "source": [
        "# check % distribution of values in is_active_member\n",
        "df.is_active_member.value_counts(dropna=False, normalize=True)*100"
      ]
    },
    {
      "cell_type": "code",
      "execution_count": 26,
      "metadata": {
        "colab": {
          "base_uri": "https://localhost:8080/"
        },
        "id": "s0GeisAadjMz",
        "outputId": "d7eaa4a6-cff7-4c92-c55d-a7a65f62df2a",
        "scrolled": true
      },
      "outputs": [
        {
          "output_type": "execute_result",
          "data": {
            "text/plain": [
              "1    51.045105\n",
              "0    48.954895\n",
              "Name: is_active_member, dtype: float64"
            ]
          },
          "metadata": {},
          "execution_count": 26
        }
      ],
      "source": [
        "# check if there's a relation of missing values to is_active_member\n",
        "df.loc[df.tenure.isna()]['is_active_member'].value_counts(normalize=True)*100"
      ]
    },
    {
      "cell_type": "code",
      "execution_count": 27,
      "metadata": {
        "colab": {
          "base_uri": "https://localhost:8080/"
        },
        "id": "rF_sahq-djM1",
        "outputId": "dbcc79f2-7f6a-4c2b-baf0-524db503dfbd",
        "scrolled": false
      },
      "outputs": [
        {
          "output_type": "execute_result",
          "data": {
            "text/plain": [
              "0    79.63\n",
              "1    20.37\n",
              "Name: exited, dtype: float64"
            ]
          },
          "metadata": {},
          "execution_count": 27
        }
      ],
      "source": [
        "# check % distribution of values of each class\n",
        "df.exited.value_counts(dropna=False, normalize=True)*100"
      ]
    },
    {
      "cell_type": "code",
      "execution_count": 28,
      "metadata": {
        "colab": {
          "base_uri": "https://localhost:8080/"
        },
        "id": "7TjtryYSdjM1",
        "outputId": "9b4c8916-7f34-4b7f-feab-fb04bd6e3514",
        "scrolled": false
      },
      "outputs": [
        {
          "output_type": "execute_result",
          "data": {
            "text/plain": [
              "0    79.867987\n",
              "1    20.132013\n",
              "Name: exited, dtype: float64"
            ]
          },
          "metadata": {},
          "execution_count": 28
        }
      ],
      "source": [
        "# check if there's a relation of missing values to exited\n",
        "df.loc[df.tenure.isna()]['exited'].value_counts(normalize=True)*100"
      ]
    },
    {
      "cell_type": "markdown",
      "metadata": {
        "id": "KFmRSUXCdjM2"
      },
      "source": [
        "From checking the distributions of values in relevant variables, and the possibilities of any relation between them, it seems that the missing values in tenure are results of random events.\n",
        "\n",
        "In the next step, a new dataset will be created with:\n",
        "\n",
        "1. Missing values filled with its median value\n",
        "\n",
        "2. One-hot-encoder for variables geography because it has 3 classes\n",
        "\n",
        "3. Standard scale on variable balance and estimated_salary because their values can vary widely."
      ]
    },
    {
      "cell_type": "markdown",
      "metadata": {
        "id": "ux5bH_q6djM2"
      },
      "source": [
        "### Handling Missing Values"
      ]
    },
    {
      "cell_type": "code",
      "execution_count": 29,
      "metadata": {
        "colab": {
          "base_uri": "https://localhost:8080/"
        },
        "id": "gdJXDrOBdjM2",
        "outputId": "0bf719ef-ca15-43c1-dae5-3c9a771e399c",
        "scrolled": true
      },
      "outputs": [
        {
          "output_type": "stream",
          "name": "stdout",
          "text": [
            "<class 'pandas.core.frame.DataFrame'>\n",
            "RangeIndex: 10000 entries, 0 to 9999\n",
            "Data columns (total 14 columns):\n",
            " #   Column            Non-Null Count  Dtype  \n",
            "---  ------            --------------  -----  \n",
            " 0   row_number        10000 non-null  int64  \n",
            " 1   customer_id       10000 non-null  int64  \n",
            " 2   surname           10000 non-null  object \n",
            " 3   credit_score      10000 non-null  int64  \n",
            " 4   geography         10000 non-null  object \n",
            " 5   gender            10000 non-null  object \n",
            " 6   age               10000 non-null  int64  \n",
            " 7   tenure            10000 non-null  float64\n",
            " 8   balance           10000 non-null  float64\n",
            " 9   num_of_products   10000 non-null  int64  \n",
            " 10  has_cr_card       10000 non-null  int64  \n",
            " 11  is_active_member  10000 non-null  int64  \n",
            " 12  estimated_salary  10000 non-null  float64\n",
            " 13  exited            10000 non-null  int64  \n",
            "dtypes: float64(3), int64(8), object(3)\n",
            "memory usage: 1.1+ MB\n"
          ]
        }
      ],
      "source": [
        "# create new dataset with missing values filled\n",
        "df_new = df.fillna(df.tenure.median())\n",
        "df_new.info()"
      ]
    },
    {
      "cell_type": "markdown",
      "metadata": {
        "id": "_W19qiO_djM2"
      },
      "source": [
        "### Label Encoding\n",
        "\n",
        "In this step, the categorical variables will be labeled using numerical values so that that libraries can read them when building the model."
      ]
    },
    {
      "cell_type": "code",
      "execution_count": 30,
      "metadata": {
        "colab": {
          "base_uri": "https://localhost:8080/"
        },
        "id": "0a8mMDLHdjM3",
        "outputId": "3a5d4fdb-79ca-46ab-f22c-56194f8faf87",
        "scrolled": true
      },
      "outputs": [
        {
          "output_type": "execute_result",
          "data": {
            "text/plain": [
              "1    5457\n",
              "0    4543\n",
              "Name: gender, dtype: int64"
            ]
          },
          "metadata": {},
          "execution_count": 30
        }
      ],
      "source": [
        "# label encode variable gender\n",
        "encoder = LabelEncoder()\n",
        "df.gender = pd.DataFrame(encoder.fit_transform(df.gender))\n",
        "df.gender.value_counts()"
      ]
    },
    {
      "cell_type": "code",
      "execution_count": 31,
      "metadata": {
        "colab": {
          "base_uri": "https://localhost:8080/"
        },
        "id": "3KeS0s1kdjM3",
        "outputId": "212c7b10-db9f-46ad-e111-591fd1f41ee7"
      },
      "outputs": [
        {
          "output_type": "execute_result",
          "data": {
            "text/plain": [
              "0    5014\n",
              "1    2509\n",
              "2    2477\n",
              "Name: geography, dtype: int64"
            ]
          },
          "metadata": {},
          "execution_count": 31
        }
      ],
      "source": [
        "# label encode variable geography\n",
        "df.geography = pd.DataFrame(encoder.fit_transform(df.geography))\n",
        "df.geography.value_counts()"
      ]
    },
    {
      "cell_type": "markdown",
      "metadata": {
        "id": "rCcD-ZjgdjM5"
      },
      "source": [
        "### One-hot encode categorical variables"
      ]
    },
    {
      "cell_type": "code",
      "execution_count": 32,
      "metadata": {
        "colab": {
          "base_uri": "https://localhost:8080/",
          "height": 270
        },
        "id": "dVThK_dPdjM5",
        "outputId": "a416aab2-ed5c-448c-986e-63df4e237c48",
        "scrolled": false
      },
      "outputs": [
        {
          "output_type": "execute_result",
          "data": {
            "text/plain": [
              "   row_number  customer_id   surname  credit_score  gender  age  tenure  \\\n",
              "0           1     15634602  Hargrave           619  Female   42     2.0   \n",
              "1           2     15647311      Hill           608  Female   41     1.0   \n",
              "2           3     15619304      Onio           502  Female   42     8.0   \n",
              "3           4     15701354      Boni           699  Female   39     1.0   \n",
              "4           5     15737888  Mitchell           850  Female   43     2.0   \n",
              "\n",
              "     balance  num_of_products  has_cr_card  is_active_member  \\\n",
              "0       0.00                1            1                 1   \n",
              "1   83807.86                1            0                 1   \n",
              "2  159660.80                3            1                 0   \n",
              "3       0.00                2            0                 0   \n",
              "4  125510.82                1            1                 1   \n",
              "\n",
              "   estimated_salary  exited  geography_France  geography_Germany  \\\n",
              "0         101348.88       1                 1                  0   \n",
              "1         112542.58       0                 0                  0   \n",
              "2         113931.57       1                 1                  0   \n",
              "3          93826.63       0                 1                  0   \n",
              "4          79084.10       0                 0                  0   \n",
              "\n",
              "   geography_Spain  \n",
              "0                0  \n",
              "1                1  \n",
              "2                0  \n",
              "3                0  \n",
              "4                1  "
            ],
            "text/html": [
              "\n",
              "  <div id=\"df-9d6fdaac-d9d5-4076-ab77-075effd00bd2\">\n",
              "    <div class=\"colab-df-container\">\n",
              "      <div>\n",
              "<style scoped>\n",
              "    .dataframe tbody tr th:only-of-type {\n",
              "        vertical-align: middle;\n",
              "    }\n",
              "\n",
              "    .dataframe tbody tr th {\n",
              "        vertical-align: top;\n",
              "    }\n",
              "\n",
              "    .dataframe thead th {\n",
              "        text-align: right;\n",
              "    }\n",
              "</style>\n",
              "<table border=\"1\" class=\"dataframe\">\n",
              "  <thead>\n",
              "    <tr style=\"text-align: right;\">\n",
              "      <th></th>\n",
              "      <th>row_number</th>\n",
              "      <th>customer_id</th>\n",
              "      <th>surname</th>\n",
              "      <th>credit_score</th>\n",
              "      <th>gender</th>\n",
              "      <th>age</th>\n",
              "      <th>tenure</th>\n",
              "      <th>balance</th>\n",
              "      <th>num_of_products</th>\n",
              "      <th>has_cr_card</th>\n",
              "      <th>is_active_member</th>\n",
              "      <th>estimated_salary</th>\n",
              "      <th>exited</th>\n",
              "      <th>geography_France</th>\n",
              "      <th>geography_Germany</th>\n",
              "      <th>geography_Spain</th>\n",
              "    </tr>\n",
              "  </thead>\n",
              "  <tbody>\n",
              "    <tr>\n",
              "      <th>0</th>\n",
              "      <td>1</td>\n",
              "      <td>15634602</td>\n",
              "      <td>Hargrave</td>\n",
              "      <td>619</td>\n",
              "      <td>Female</td>\n",
              "      <td>42</td>\n",
              "      <td>2.0</td>\n",
              "      <td>0.00</td>\n",
              "      <td>1</td>\n",
              "      <td>1</td>\n",
              "      <td>1</td>\n",
              "      <td>101348.88</td>\n",
              "      <td>1</td>\n",
              "      <td>1</td>\n",
              "      <td>0</td>\n",
              "      <td>0</td>\n",
              "    </tr>\n",
              "    <tr>\n",
              "      <th>1</th>\n",
              "      <td>2</td>\n",
              "      <td>15647311</td>\n",
              "      <td>Hill</td>\n",
              "      <td>608</td>\n",
              "      <td>Female</td>\n",
              "      <td>41</td>\n",
              "      <td>1.0</td>\n",
              "      <td>83807.86</td>\n",
              "      <td>1</td>\n",
              "      <td>0</td>\n",
              "      <td>1</td>\n",
              "      <td>112542.58</td>\n",
              "      <td>0</td>\n",
              "      <td>0</td>\n",
              "      <td>0</td>\n",
              "      <td>1</td>\n",
              "    </tr>\n",
              "    <tr>\n",
              "      <th>2</th>\n",
              "      <td>3</td>\n",
              "      <td>15619304</td>\n",
              "      <td>Onio</td>\n",
              "      <td>502</td>\n",
              "      <td>Female</td>\n",
              "      <td>42</td>\n",
              "      <td>8.0</td>\n",
              "      <td>159660.80</td>\n",
              "      <td>3</td>\n",
              "      <td>1</td>\n",
              "      <td>0</td>\n",
              "      <td>113931.57</td>\n",
              "      <td>1</td>\n",
              "      <td>1</td>\n",
              "      <td>0</td>\n",
              "      <td>0</td>\n",
              "    </tr>\n",
              "    <tr>\n",
              "      <th>3</th>\n",
              "      <td>4</td>\n",
              "      <td>15701354</td>\n",
              "      <td>Boni</td>\n",
              "      <td>699</td>\n",
              "      <td>Female</td>\n",
              "      <td>39</td>\n",
              "      <td>1.0</td>\n",
              "      <td>0.00</td>\n",
              "      <td>2</td>\n",
              "      <td>0</td>\n",
              "      <td>0</td>\n",
              "      <td>93826.63</td>\n",
              "      <td>0</td>\n",
              "      <td>1</td>\n",
              "      <td>0</td>\n",
              "      <td>0</td>\n",
              "    </tr>\n",
              "    <tr>\n",
              "      <th>4</th>\n",
              "      <td>5</td>\n",
              "      <td>15737888</td>\n",
              "      <td>Mitchell</td>\n",
              "      <td>850</td>\n",
              "      <td>Female</td>\n",
              "      <td>43</td>\n",
              "      <td>2.0</td>\n",
              "      <td>125510.82</td>\n",
              "      <td>1</td>\n",
              "      <td>1</td>\n",
              "      <td>1</td>\n",
              "      <td>79084.10</td>\n",
              "      <td>0</td>\n",
              "      <td>0</td>\n",
              "      <td>0</td>\n",
              "      <td>1</td>\n",
              "    </tr>\n",
              "  </tbody>\n",
              "</table>\n",
              "</div>\n",
              "      <button class=\"colab-df-convert\" onclick=\"convertToInteractive('df-9d6fdaac-d9d5-4076-ab77-075effd00bd2')\"\n",
              "              title=\"Convert this dataframe to an interactive table.\"\n",
              "              style=\"display:none;\">\n",
              "        \n",
              "  <svg xmlns=\"http://www.w3.org/2000/svg\" height=\"24px\"viewBox=\"0 0 24 24\"\n",
              "       width=\"24px\">\n",
              "    <path d=\"M0 0h24v24H0V0z\" fill=\"none\"/>\n",
              "    <path d=\"M18.56 5.44l.94 2.06.94-2.06 2.06-.94-2.06-.94-.94-2.06-.94 2.06-2.06.94zm-11 1L8.5 8.5l.94-2.06 2.06-.94-2.06-.94L8.5 2.5l-.94 2.06-2.06.94zm10 10l.94 2.06.94-2.06 2.06-.94-2.06-.94-.94-2.06-.94 2.06-2.06.94z\"/><path d=\"M17.41 7.96l-1.37-1.37c-.4-.4-.92-.59-1.43-.59-.52 0-1.04.2-1.43.59L10.3 9.45l-7.72 7.72c-.78.78-.78 2.05 0 2.83L4 21.41c.39.39.9.59 1.41.59.51 0 1.02-.2 1.41-.59l7.78-7.78 2.81-2.81c.8-.78.8-2.07 0-2.86zM5.41 20L4 18.59l7.72-7.72 1.47 1.35L5.41 20z\"/>\n",
              "  </svg>\n",
              "      </button>\n",
              "      \n",
              "  <style>\n",
              "    .colab-df-container {\n",
              "      display:flex;\n",
              "      flex-wrap:wrap;\n",
              "      gap: 12px;\n",
              "    }\n",
              "\n",
              "    .colab-df-convert {\n",
              "      background-color: #E8F0FE;\n",
              "      border: none;\n",
              "      border-radius: 50%;\n",
              "      cursor: pointer;\n",
              "      display: none;\n",
              "      fill: #1967D2;\n",
              "      height: 32px;\n",
              "      padding: 0 0 0 0;\n",
              "      width: 32px;\n",
              "    }\n",
              "\n",
              "    .colab-df-convert:hover {\n",
              "      background-color: #E2EBFA;\n",
              "      box-shadow: 0px 1px 2px rgba(60, 64, 67, 0.3), 0px 1px 3px 1px rgba(60, 64, 67, 0.15);\n",
              "      fill: #174EA6;\n",
              "    }\n",
              "\n",
              "    [theme=dark] .colab-df-convert {\n",
              "      background-color: #3B4455;\n",
              "      fill: #D2E3FC;\n",
              "    }\n",
              "\n",
              "    [theme=dark] .colab-df-convert:hover {\n",
              "      background-color: #434B5C;\n",
              "      box-shadow: 0px 1px 3px 1px rgba(0, 0, 0, 0.15);\n",
              "      filter: drop-shadow(0px 1px 2px rgba(0, 0, 0, 0.3));\n",
              "      fill: #FFFFFF;\n",
              "    }\n",
              "  </style>\n",
              "\n",
              "      <script>\n",
              "        const buttonEl =\n",
              "          document.querySelector('#df-9d6fdaac-d9d5-4076-ab77-075effd00bd2 button.colab-df-convert');\n",
              "        buttonEl.style.display =\n",
              "          google.colab.kernel.accessAllowed ? 'block' : 'none';\n",
              "\n",
              "        async function convertToInteractive(key) {\n",
              "          const element = document.querySelector('#df-9d6fdaac-d9d5-4076-ab77-075effd00bd2');\n",
              "          const dataTable =\n",
              "            await google.colab.kernel.invokeFunction('convertToInteractive',\n",
              "                                                     [key], {});\n",
              "          if (!dataTable) return;\n",
              "\n",
              "          const docLinkHtml = 'Like what you see? Visit the ' +\n",
              "            '<a target=\"_blank\" href=https://colab.research.google.com/notebooks/data_table.ipynb>data table notebook</a>'\n",
              "            + ' to learn more about interactive tables.';\n",
              "          element.innerHTML = '';\n",
              "          dataTable['output_type'] = 'display_data';\n",
              "          await google.colab.output.renderOutput(dataTable, element);\n",
              "          const docLink = document.createElement('div');\n",
              "          docLink.innerHTML = docLinkHtml;\n",
              "          element.appendChild(docLink);\n",
              "        }\n",
              "      </script>\n",
              "    </div>\n",
              "  </div>\n",
              "  "
            ]
          },
          "metadata": {},
          "execution_count": 32
        }
      ],
      "source": [
        "# apply one-hot-encoder to geography\n",
        "df_new = pd.get_dummies(df_new, columns=['geography'])\n",
        "df_new.head()"
      ]
    },
    {
      "cell_type": "code",
      "execution_count": 33,
      "metadata": {
        "colab": {
          "base_uri": "https://localhost:8080/"
        },
        "id": "MkHt8ZRZdjM5",
        "outputId": "b774812c-195a-4eb0-f2c5-98cdb94bf71d"
      },
      "outputs": [
        {
          "output_type": "execute_result",
          "data": {
            "text/plain": [
              "1    5457\n",
              "0    4543\n",
              "Name: gender, dtype: int64"
            ]
          },
          "metadata": {},
          "execution_count": 33
        }
      ],
      "source": [
        "# label encode the gender class\n",
        "df_new.gender = pd.DataFrame(encoder.fit_transform(df_new.gender))\n",
        "df_new.gender.value_counts()"
      ]
    },
    {
      "cell_type": "markdown",
      "metadata": {
        "id": "x3wVYlLZdjM5"
      },
      "source": [
        "### Standars-scale numeric variables"
      ]
    },
    {
      "cell_type": "code",
      "execution_count": 34,
      "metadata": {
        "colab": {
          "base_uri": "https://localhost:8080/",
          "height": 270
        },
        "id": "F-jAeQ4HdjM6",
        "outputId": "36208f50-17d1-4e12-f5e4-6e638f8a6ad9",
        "scrolled": true
      },
      "outputs": [
        {
          "output_type": "execute_result",
          "data": {
            "text/plain": [
              "   row_number  customer_id   surname  credit_score  gender       age  \\\n",
              "0           1     15634602  Hargrave     -0.326221       0  0.293517   \n",
              "1           2     15647311      Hill     -0.440036       0  0.198164   \n",
              "2           3     15619304      Onio     -1.536794       0  0.293517   \n",
              "3           4     15701354      Boni      0.501521       0  0.007457   \n",
              "4           5     15737888  Mitchell      2.063884       0  0.388871   \n",
              "\n",
              "     tenure   balance  num_of_products  has_cr_card  is_active_member  \\\n",
              "0 -1.086246 -1.225848                1            1                 1   \n",
              "1 -1.448581  0.117350                1            0                 1   \n",
              "2  1.087768  1.333053                3            1                 0   \n",
              "3 -1.448581 -1.225848                2            0                 0   \n",
              "4 -1.086246  0.785728                1            1                 1   \n",
              "\n",
              "   estimated_salary  exited  geography_France  geography_Germany  \\\n",
              "0          0.021886       1                 1                  0   \n",
              "1          0.216534       0                 0                  0   \n",
              "2          0.240687       1                 1                  0   \n",
              "3         -0.108918       0                 1                  0   \n",
              "4         -0.365276       0                 0                  0   \n",
              "\n",
              "   geography_Spain  \n",
              "0                0  \n",
              "1                1  \n",
              "2                0  \n",
              "3                0  \n",
              "4                1  "
            ],
            "text/html": [
              "\n",
              "  <div id=\"df-bcc77660-6efd-43aa-bc57-e53cdfea33bf\">\n",
              "    <div class=\"colab-df-container\">\n",
              "      <div>\n",
              "<style scoped>\n",
              "    .dataframe tbody tr th:only-of-type {\n",
              "        vertical-align: middle;\n",
              "    }\n",
              "\n",
              "    .dataframe tbody tr th {\n",
              "        vertical-align: top;\n",
              "    }\n",
              "\n",
              "    .dataframe thead th {\n",
              "        text-align: right;\n",
              "    }\n",
              "</style>\n",
              "<table border=\"1\" class=\"dataframe\">\n",
              "  <thead>\n",
              "    <tr style=\"text-align: right;\">\n",
              "      <th></th>\n",
              "      <th>row_number</th>\n",
              "      <th>customer_id</th>\n",
              "      <th>surname</th>\n",
              "      <th>credit_score</th>\n",
              "      <th>gender</th>\n",
              "      <th>age</th>\n",
              "      <th>tenure</th>\n",
              "      <th>balance</th>\n",
              "      <th>num_of_products</th>\n",
              "      <th>has_cr_card</th>\n",
              "      <th>is_active_member</th>\n",
              "      <th>estimated_salary</th>\n",
              "      <th>exited</th>\n",
              "      <th>geography_France</th>\n",
              "      <th>geography_Germany</th>\n",
              "      <th>geography_Spain</th>\n",
              "    </tr>\n",
              "  </thead>\n",
              "  <tbody>\n",
              "    <tr>\n",
              "      <th>0</th>\n",
              "      <td>1</td>\n",
              "      <td>15634602</td>\n",
              "      <td>Hargrave</td>\n",
              "      <td>-0.326221</td>\n",
              "      <td>0</td>\n",
              "      <td>0.293517</td>\n",
              "      <td>-1.086246</td>\n",
              "      <td>-1.225848</td>\n",
              "      <td>1</td>\n",
              "      <td>1</td>\n",
              "      <td>1</td>\n",
              "      <td>0.021886</td>\n",
              "      <td>1</td>\n",
              "      <td>1</td>\n",
              "      <td>0</td>\n",
              "      <td>0</td>\n",
              "    </tr>\n",
              "    <tr>\n",
              "      <th>1</th>\n",
              "      <td>2</td>\n",
              "      <td>15647311</td>\n",
              "      <td>Hill</td>\n",
              "      <td>-0.440036</td>\n",
              "      <td>0</td>\n",
              "      <td>0.198164</td>\n",
              "      <td>-1.448581</td>\n",
              "      <td>0.117350</td>\n",
              "      <td>1</td>\n",
              "      <td>0</td>\n",
              "      <td>1</td>\n",
              "      <td>0.216534</td>\n",
              "      <td>0</td>\n",
              "      <td>0</td>\n",
              "      <td>0</td>\n",
              "      <td>1</td>\n",
              "    </tr>\n",
              "    <tr>\n",
              "      <th>2</th>\n",
              "      <td>3</td>\n",
              "      <td>15619304</td>\n",
              "      <td>Onio</td>\n",
              "      <td>-1.536794</td>\n",
              "      <td>0</td>\n",
              "      <td>0.293517</td>\n",
              "      <td>1.087768</td>\n",
              "      <td>1.333053</td>\n",
              "      <td>3</td>\n",
              "      <td>1</td>\n",
              "      <td>0</td>\n",
              "      <td>0.240687</td>\n",
              "      <td>1</td>\n",
              "      <td>1</td>\n",
              "      <td>0</td>\n",
              "      <td>0</td>\n",
              "    </tr>\n",
              "    <tr>\n",
              "      <th>3</th>\n",
              "      <td>4</td>\n",
              "      <td>15701354</td>\n",
              "      <td>Boni</td>\n",
              "      <td>0.501521</td>\n",
              "      <td>0</td>\n",
              "      <td>0.007457</td>\n",
              "      <td>-1.448581</td>\n",
              "      <td>-1.225848</td>\n",
              "      <td>2</td>\n",
              "      <td>0</td>\n",
              "      <td>0</td>\n",
              "      <td>-0.108918</td>\n",
              "      <td>0</td>\n",
              "      <td>1</td>\n",
              "      <td>0</td>\n",
              "      <td>0</td>\n",
              "    </tr>\n",
              "    <tr>\n",
              "      <th>4</th>\n",
              "      <td>5</td>\n",
              "      <td>15737888</td>\n",
              "      <td>Mitchell</td>\n",
              "      <td>2.063884</td>\n",
              "      <td>0</td>\n",
              "      <td>0.388871</td>\n",
              "      <td>-1.086246</td>\n",
              "      <td>0.785728</td>\n",
              "      <td>1</td>\n",
              "      <td>1</td>\n",
              "      <td>1</td>\n",
              "      <td>-0.365276</td>\n",
              "      <td>0</td>\n",
              "      <td>0</td>\n",
              "      <td>0</td>\n",
              "      <td>1</td>\n",
              "    </tr>\n",
              "  </tbody>\n",
              "</table>\n",
              "</div>\n",
              "      <button class=\"colab-df-convert\" onclick=\"convertToInteractive('df-bcc77660-6efd-43aa-bc57-e53cdfea33bf')\"\n",
              "              title=\"Convert this dataframe to an interactive table.\"\n",
              "              style=\"display:none;\">\n",
              "        \n",
              "  <svg xmlns=\"http://www.w3.org/2000/svg\" height=\"24px\"viewBox=\"0 0 24 24\"\n",
              "       width=\"24px\">\n",
              "    <path d=\"M0 0h24v24H0V0z\" fill=\"none\"/>\n",
              "    <path d=\"M18.56 5.44l.94 2.06.94-2.06 2.06-.94-2.06-.94-.94-2.06-.94 2.06-2.06.94zm-11 1L8.5 8.5l.94-2.06 2.06-.94-2.06-.94L8.5 2.5l-.94 2.06-2.06.94zm10 10l.94 2.06.94-2.06 2.06-.94-2.06-.94-.94-2.06-.94 2.06-2.06.94z\"/><path d=\"M17.41 7.96l-1.37-1.37c-.4-.4-.92-.59-1.43-.59-.52 0-1.04.2-1.43.59L10.3 9.45l-7.72 7.72c-.78.78-.78 2.05 0 2.83L4 21.41c.39.39.9.59 1.41.59.51 0 1.02-.2 1.41-.59l7.78-7.78 2.81-2.81c.8-.78.8-2.07 0-2.86zM5.41 20L4 18.59l7.72-7.72 1.47 1.35L5.41 20z\"/>\n",
              "  </svg>\n",
              "      </button>\n",
              "      \n",
              "  <style>\n",
              "    .colab-df-container {\n",
              "      display:flex;\n",
              "      flex-wrap:wrap;\n",
              "      gap: 12px;\n",
              "    }\n",
              "\n",
              "    .colab-df-convert {\n",
              "      background-color: #E8F0FE;\n",
              "      border: none;\n",
              "      border-radius: 50%;\n",
              "      cursor: pointer;\n",
              "      display: none;\n",
              "      fill: #1967D2;\n",
              "      height: 32px;\n",
              "      padding: 0 0 0 0;\n",
              "      width: 32px;\n",
              "    }\n",
              "\n",
              "    .colab-df-convert:hover {\n",
              "      background-color: #E2EBFA;\n",
              "      box-shadow: 0px 1px 2px rgba(60, 64, 67, 0.3), 0px 1px 3px 1px rgba(60, 64, 67, 0.15);\n",
              "      fill: #174EA6;\n",
              "    }\n",
              "\n",
              "    [theme=dark] .colab-df-convert {\n",
              "      background-color: #3B4455;\n",
              "      fill: #D2E3FC;\n",
              "    }\n",
              "\n",
              "    [theme=dark] .colab-df-convert:hover {\n",
              "      background-color: #434B5C;\n",
              "      box-shadow: 0px 1px 3px 1px rgba(0, 0, 0, 0.15);\n",
              "      filter: drop-shadow(0px 1px 2px rgba(0, 0, 0, 0.3));\n",
              "      fill: #FFFFFF;\n",
              "    }\n",
              "  </style>\n",
              "\n",
              "      <script>\n",
              "        const buttonEl =\n",
              "          document.querySelector('#df-bcc77660-6efd-43aa-bc57-e53cdfea33bf button.colab-df-convert');\n",
              "        buttonEl.style.display =\n",
              "          google.colab.kernel.accessAllowed ? 'block' : 'none';\n",
              "\n",
              "        async function convertToInteractive(key) {\n",
              "          const element = document.querySelector('#df-bcc77660-6efd-43aa-bc57-e53cdfea33bf');\n",
              "          const dataTable =\n",
              "            await google.colab.kernel.invokeFunction('convertToInteractive',\n",
              "                                                     [key], {});\n",
              "          if (!dataTable) return;\n",
              "\n",
              "          const docLinkHtml = 'Like what you see? Visit the ' +\n",
              "            '<a target=\"_blank\" href=https://colab.research.google.com/notebooks/data_table.ipynb>data table notebook</a>'\n",
              "            + ' to learn more about interactive tables.';\n",
              "          element.innerHTML = '';\n",
              "          dataTable['output_type'] = 'display_data';\n",
              "          await google.colab.output.renderOutput(dataTable, element);\n",
              "          const docLink = document.createElement('div');\n",
              "          docLink.innerHTML = docLinkHtml;\n",
              "          element.appendChild(docLink);\n",
              "        }\n",
              "      </script>\n",
              "    </div>\n",
              "  </div>\n",
              "  "
            ]
          },
          "metadata": {},
          "execution_count": 34
        }
      ],
      "source": [
        "# standar scale numeric variables: balance and estimated_salary\n",
        "\n",
        "scaler = StandardScaler()\n",
        "scaler.fit(df_new[numeric])\n",
        "df_new[numeric] = scaler.transform(df_new[numeric])\n",
        "df_new.head()"
      ]
    },
    {
      "cell_type": "markdown",
      "metadata": {
        "id": "wY0KQeXPdjM6"
      },
      "source": [
        "### Interim Conclusions\n",
        "\n",
        "The missing values are already filled. One-hot-encoder is already applied to geography. Standard-scaler is already applied to age, credit_scoring, balance, and estimated_salary. \n",
        "\n",
        "As the target class is unbalanced, then metric accuracy will not be used to validate the model. F1 and AUC-ROC scores will be used instead. \n",
        "\n",
        "The modified dataset is saved to a new variable, as both the old and the new will be used to make models with different algorithms."
      ]
    },
    {
      "cell_type": "markdown",
      "metadata": {
        "id": "fcMtJcTBdjM7"
      },
      "source": [
        "## Train-test split dataset"
      ]
    },
    {
      "cell_type": "markdown",
      "metadata": {
        "id": "BaEK-EHodjM8"
      },
      "source": [
        "Now, we have 2 datasets. One is the dataset that is not modified, except for its columns' naming. The other one is the dataset that has been feature-engineered with OHE, standard scaler, as well as having its missing values filled.\n",
        "\n",
        "In the next step, both datasets will be split into three: train (75%), valid (15%), test (10%).\n",
        "\n",
        "The purpose of maintaining both datasets is to compare how different algorithms in building models with and without missing values, and without and with feature engineering result.\n",
        "\n",
        "Train test split will be stratified as the target class is imbalanced."
      ]
    },
    {
      "cell_type": "code",
      "execution_count": 35,
      "metadata": {
        "colab": {
          "base_uri": "https://localhost:8080/",
          "height": 206
        },
        "id": "Rm4pvWhCdjM8",
        "outputId": "f043ec93-c3df-4c37-e907-04248b6d8b6c",
        "scrolled": true
      },
      "outputs": [
        {
          "output_type": "execute_result",
          "data": {
            "text/plain": [
              "   credit_score  geography  gender  age  tenure    balance  num_of_products  \\\n",
              "0           619          0       0   42     2.0       0.00                1   \n",
              "1           608          2       0   41     1.0   83807.86                1   \n",
              "2           502          0       0   42     8.0  159660.80                3   \n",
              "3           699          0       0   39     1.0       0.00                2   \n",
              "4           850          2       0   43     2.0  125510.82                1   \n",
              "\n",
              "   has_cr_card  is_active_member  estimated_salary  \n",
              "0            1                 1         101348.88  \n",
              "1            0                 1         112542.58  \n",
              "2            1                 0         113931.57  \n",
              "3            0                 0          93826.63  \n",
              "4            1                 1          79084.10  "
            ],
            "text/html": [
              "\n",
              "  <div id=\"df-1053a147-b0f1-4096-b80e-e78014f4b969\">\n",
              "    <div class=\"colab-df-container\">\n",
              "      <div>\n",
              "<style scoped>\n",
              "    .dataframe tbody tr th:only-of-type {\n",
              "        vertical-align: middle;\n",
              "    }\n",
              "\n",
              "    .dataframe tbody tr th {\n",
              "        vertical-align: top;\n",
              "    }\n",
              "\n",
              "    .dataframe thead th {\n",
              "        text-align: right;\n",
              "    }\n",
              "</style>\n",
              "<table border=\"1\" class=\"dataframe\">\n",
              "  <thead>\n",
              "    <tr style=\"text-align: right;\">\n",
              "      <th></th>\n",
              "      <th>credit_score</th>\n",
              "      <th>geography</th>\n",
              "      <th>gender</th>\n",
              "      <th>age</th>\n",
              "      <th>tenure</th>\n",
              "      <th>balance</th>\n",
              "      <th>num_of_products</th>\n",
              "      <th>has_cr_card</th>\n",
              "      <th>is_active_member</th>\n",
              "      <th>estimated_salary</th>\n",
              "    </tr>\n",
              "  </thead>\n",
              "  <tbody>\n",
              "    <tr>\n",
              "      <th>0</th>\n",
              "      <td>619</td>\n",
              "      <td>0</td>\n",
              "      <td>0</td>\n",
              "      <td>42</td>\n",
              "      <td>2.0</td>\n",
              "      <td>0.00</td>\n",
              "      <td>1</td>\n",
              "      <td>1</td>\n",
              "      <td>1</td>\n",
              "      <td>101348.88</td>\n",
              "    </tr>\n",
              "    <tr>\n",
              "      <th>1</th>\n",
              "      <td>608</td>\n",
              "      <td>2</td>\n",
              "      <td>0</td>\n",
              "      <td>41</td>\n",
              "      <td>1.0</td>\n",
              "      <td>83807.86</td>\n",
              "      <td>1</td>\n",
              "      <td>0</td>\n",
              "      <td>1</td>\n",
              "      <td>112542.58</td>\n",
              "    </tr>\n",
              "    <tr>\n",
              "      <th>2</th>\n",
              "      <td>502</td>\n",
              "      <td>0</td>\n",
              "      <td>0</td>\n",
              "      <td>42</td>\n",
              "      <td>8.0</td>\n",
              "      <td>159660.80</td>\n",
              "      <td>3</td>\n",
              "      <td>1</td>\n",
              "      <td>0</td>\n",
              "      <td>113931.57</td>\n",
              "    </tr>\n",
              "    <tr>\n",
              "      <th>3</th>\n",
              "      <td>699</td>\n",
              "      <td>0</td>\n",
              "      <td>0</td>\n",
              "      <td>39</td>\n",
              "      <td>1.0</td>\n",
              "      <td>0.00</td>\n",
              "      <td>2</td>\n",
              "      <td>0</td>\n",
              "      <td>0</td>\n",
              "      <td>93826.63</td>\n",
              "    </tr>\n",
              "    <tr>\n",
              "      <th>4</th>\n",
              "      <td>850</td>\n",
              "      <td>2</td>\n",
              "      <td>0</td>\n",
              "      <td>43</td>\n",
              "      <td>2.0</td>\n",
              "      <td>125510.82</td>\n",
              "      <td>1</td>\n",
              "      <td>1</td>\n",
              "      <td>1</td>\n",
              "      <td>79084.10</td>\n",
              "    </tr>\n",
              "  </tbody>\n",
              "</table>\n",
              "</div>\n",
              "      <button class=\"colab-df-convert\" onclick=\"convertToInteractive('df-1053a147-b0f1-4096-b80e-e78014f4b969')\"\n",
              "              title=\"Convert this dataframe to an interactive table.\"\n",
              "              style=\"display:none;\">\n",
              "        \n",
              "  <svg xmlns=\"http://www.w3.org/2000/svg\" height=\"24px\"viewBox=\"0 0 24 24\"\n",
              "       width=\"24px\">\n",
              "    <path d=\"M0 0h24v24H0V0z\" fill=\"none\"/>\n",
              "    <path d=\"M18.56 5.44l.94 2.06.94-2.06 2.06-.94-2.06-.94-.94-2.06-.94 2.06-2.06.94zm-11 1L8.5 8.5l.94-2.06 2.06-.94-2.06-.94L8.5 2.5l-.94 2.06-2.06.94zm10 10l.94 2.06.94-2.06 2.06-.94-2.06-.94-.94-2.06-.94 2.06-2.06.94z\"/><path d=\"M17.41 7.96l-1.37-1.37c-.4-.4-.92-.59-1.43-.59-.52 0-1.04.2-1.43.59L10.3 9.45l-7.72 7.72c-.78.78-.78 2.05 0 2.83L4 21.41c.39.39.9.59 1.41.59.51 0 1.02-.2 1.41-.59l7.78-7.78 2.81-2.81c.8-.78.8-2.07 0-2.86zM5.41 20L4 18.59l7.72-7.72 1.47 1.35L5.41 20z\"/>\n",
              "  </svg>\n",
              "      </button>\n",
              "      \n",
              "  <style>\n",
              "    .colab-df-container {\n",
              "      display:flex;\n",
              "      flex-wrap:wrap;\n",
              "      gap: 12px;\n",
              "    }\n",
              "\n",
              "    .colab-df-convert {\n",
              "      background-color: #E8F0FE;\n",
              "      border: none;\n",
              "      border-radius: 50%;\n",
              "      cursor: pointer;\n",
              "      display: none;\n",
              "      fill: #1967D2;\n",
              "      height: 32px;\n",
              "      padding: 0 0 0 0;\n",
              "      width: 32px;\n",
              "    }\n",
              "\n",
              "    .colab-df-convert:hover {\n",
              "      background-color: #E2EBFA;\n",
              "      box-shadow: 0px 1px 2px rgba(60, 64, 67, 0.3), 0px 1px 3px 1px rgba(60, 64, 67, 0.15);\n",
              "      fill: #174EA6;\n",
              "    }\n",
              "\n",
              "    [theme=dark] .colab-df-convert {\n",
              "      background-color: #3B4455;\n",
              "      fill: #D2E3FC;\n",
              "    }\n",
              "\n",
              "    [theme=dark] .colab-df-convert:hover {\n",
              "      background-color: #434B5C;\n",
              "      box-shadow: 0px 1px 3px 1px rgba(0, 0, 0, 0.15);\n",
              "      filter: drop-shadow(0px 1px 2px rgba(0, 0, 0, 0.3));\n",
              "      fill: #FFFFFF;\n",
              "    }\n",
              "  </style>\n",
              "\n",
              "      <script>\n",
              "        const buttonEl =\n",
              "          document.querySelector('#df-1053a147-b0f1-4096-b80e-e78014f4b969 button.colab-df-convert');\n",
              "        buttonEl.style.display =\n",
              "          google.colab.kernel.accessAllowed ? 'block' : 'none';\n",
              "\n",
              "        async function convertToInteractive(key) {\n",
              "          const element = document.querySelector('#df-1053a147-b0f1-4096-b80e-e78014f4b969');\n",
              "          const dataTable =\n",
              "            await google.colab.kernel.invokeFunction('convertToInteractive',\n",
              "                                                     [key], {});\n",
              "          if (!dataTable) return;\n",
              "\n",
              "          const docLinkHtml = 'Like what you see? Visit the ' +\n",
              "            '<a target=\"_blank\" href=https://colab.research.google.com/notebooks/data_table.ipynb>data table notebook</a>'\n",
              "            + ' to learn more about interactive tables.';\n",
              "          element.innerHTML = '';\n",
              "          dataTable['output_type'] = 'display_data';\n",
              "          await google.colab.output.renderOutput(dataTable, element);\n",
              "          const docLink = document.createElement('div');\n",
              "          docLink.innerHTML = docLinkHtml;\n",
              "          element.appendChild(docLink);\n",
              "        }\n",
              "      </script>\n",
              "    </div>\n",
              "  </div>\n",
              "  "
            ]
          },
          "metadata": {},
          "execution_count": 35
        }
      ],
      "source": [
        "# select only relevant variables for features\n",
        "drop_cols = ['row_number', 'customer_id', 'surname', 'exited']\n",
        "df_x = df.drop(drop_cols, axis=1)\n",
        "df_x.head()"
      ]
    },
    {
      "cell_type": "code",
      "execution_count": 36,
      "metadata": {
        "colab": {
          "base_uri": "https://localhost:8080/",
          "height": 206
        },
        "id": "AuhYCoVJdjM8",
        "outputId": "a18ae578-c389-4b96-8782-6ca685db69ec",
        "scrolled": false
      },
      "outputs": [
        {
          "output_type": "execute_result",
          "data": {
            "text/plain": [
              "   credit_score  gender       age    tenure   balance  num_of_products  \\\n",
              "0     -0.326221       0  0.293517 -1.086246 -1.225848                1   \n",
              "1     -0.440036       0  0.198164 -1.448581  0.117350                1   \n",
              "2     -1.536794       0  0.293517  1.087768  1.333053                3   \n",
              "3      0.501521       0  0.007457 -1.448581 -1.225848                2   \n",
              "4      2.063884       0  0.388871 -1.086246  0.785728                1   \n",
              "\n",
              "   has_cr_card  is_active_member  estimated_salary  geography_France  \\\n",
              "0            1                 1          0.021886                 1   \n",
              "1            0                 1          0.216534                 0   \n",
              "2            1                 0          0.240687                 1   \n",
              "3            0                 0         -0.108918                 1   \n",
              "4            1                 1         -0.365276                 0   \n",
              "\n",
              "   geography_Germany  geography_Spain  \n",
              "0                  0                0  \n",
              "1                  0                1  \n",
              "2                  0                0  \n",
              "3                  0                0  \n",
              "4                  0                1  "
            ],
            "text/html": [
              "\n",
              "  <div id=\"df-0daf284c-a63a-414c-b8bf-0876a3fb71e7\">\n",
              "    <div class=\"colab-df-container\">\n",
              "      <div>\n",
              "<style scoped>\n",
              "    .dataframe tbody tr th:only-of-type {\n",
              "        vertical-align: middle;\n",
              "    }\n",
              "\n",
              "    .dataframe tbody tr th {\n",
              "        vertical-align: top;\n",
              "    }\n",
              "\n",
              "    .dataframe thead th {\n",
              "        text-align: right;\n",
              "    }\n",
              "</style>\n",
              "<table border=\"1\" class=\"dataframe\">\n",
              "  <thead>\n",
              "    <tr style=\"text-align: right;\">\n",
              "      <th></th>\n",
              "      <th>credit_score</th>\n",
              "      <th>gender</th>\n",
              "      <th>age</th>\n",
              "      <th>tenure</th>\n",
              "      <th>balance</th>\n",
              "      <th>num_of_products</th>\n",
              "      <th>has_cr_card</th>\n",
              "      <th>is_active_member</th>\n",
              "      <th>estimated_salary</th>\n",
              "      <th>geography_France</th>\n",
              "      <th>geography_Germany</th>\n",
              "      <th>geography_Spain</th>\n",
              "    </tr>\n",
              "  </thead>\n",
              "  <tbody>\n",
              "    <tr>\n",
              "      <th>0</th>\n",
              "      <td>-0.326221</td>\n",
              "      <td>0</td>\n",
              "      <td>0.293517</td>\n",
              "      <td>-1.086246</td>\n",
              "      <td>-1.225848</td>\n",
              "      <td>1</td>\n",
              "      <td>1</td>\n",
              "      <td>1</td>\n",
              "      <td>0.021886</td>\n",
              "      <td>1</td>\n",
              "      <td>0</td>\n",
              "      <td>0</td>\n",
              "    </tr>\n",
              "    <tr>\n",
              "      <th>1</th>\n",
              "      <td>-0.440036</td>\n",
              "      <td>0</td>\n",
              "      <td>0.198164</td>\n",
              "      <td>-1.448581</td>\n",
              "      <td>0.117350</td>\n",
              "      <td>1</td>\n",
              "      <td>0</td>\n",
              "      <td>1</td>\n",
              "      <td>0.216534</td>\n",
              "      <td>0</td>\n",
              "      <td>0</td>\n",
              "      <td>1</td>\n",
              "    </tr>\n",
              "    <tr>\n",
              "      <th>2</th>\n",
              "      <td>-1.536794</td>\n",
              "      <td>0</td>\n",
              "      <td>0.293517</td>\n",
              "      <td>1.087768</td>\n",
              "      <td>1.333053</td>\n",
              "      <td>3</td>\n",
              "      <td>1</td>\n",
              "      <td>0</td>\n",
              "      <td>0.240687</td>\n",
              "      <td>1</td>\n",
              "      <td>0</td>\n",
              "      <td>0</td>\n",
              "    </tr>\n",
              "    <tr>\n",
              "      <th>3</th>\n",
              "      <td>0.501521</td>\n",
              "      <td>0</td>\n",
              "      <td>0.007457</td>\n",
              "      <td>-1.448581</td>\n",
              "      <td>-1.225848</td>\n",
              "      <td>2</td>\n",
              "      <td>0</td>\n",
              "      <td>0</td>\n",
              "      <td>-0.108918</td>\n",
              "      <td>1</td>\n",
              "      <td>0</td>\n",
              "      <td>0</td>\n",
              "    </tr>\n",
              "    <tr>\n",
              "      <th>4</th>\n",
              "      <td>2.063884</td>\n",
              "      <td>0</td>\n",
              "      <td>0.388871</td>\n",
              "      <td>-1.086246</td>\n",
              "      <td>0.785728</td>\n",
              "      <td>1</td>\n",
              "      <td>1</td>\n",
              "      <td>1</td>\n",
              "      <td>-0.365276</td>\n",
              "      <td>0</td>\n",
              "      <td>0</td>\n",
              "      <td>1</td>\n",
              "    </tr>\n",
              "  </tbody>\n",
              "</table>\n",
              "</div>\n",
              "      <button class=\"colab-df-convert\" onclick=\"convertToInteractive('df-0daf284c-a63a-414c-b8bf-0876a3fb71e7')\"\n",
              "              title=\"Convert this dataframe to an interactive table.\"\n",
              "              style=\"display:none;\">\n",
              "        \n",
              "  <svg xmlns=\"http://www.w3.org/2000/svg\" height=\"24px\"viewBox=\"0 0 24 24\"\n",
              "       width=\"24px\">\n",
              "    <path d=\"M0 0h24v24H0V0z\" fill=\"none\"/>\n",
              "    <path d=\"M18.56 5.44l.94 2.06.94-2.06 2.06-.94-2.06-.94-.94-2.06-.94 2.06-2.06.94zm-11 1L8.5 8.5l.94-2.06 2.06-.94-2.06-.94L8.5 2.5l-.94 2.06-2.06.94zm10 10l.94 2.06.94-2.06 2.06-.94-2.06-.94-.94-2.06-.94 2.06-2.06.94z\"/><path d=\"M17.41 7.96l-1.37-1.37c-.4-.4-.92-.59-1.43-.59-.52 0-1.04.2-1.43.59L10.3 9.45l-7.72 7.72c-.78.78-.78 2.05 0 2.83L4 21.41c.39.39.9.59 1.41.59.51 0 1.02-.2 1.41-.59l7.78-7.78 2.81-2.81c.8-.78.8-2.07 0-2.86zM5.41 20L4 18.59l7.72-7.72 1.47 1.35L5.41 20z\"/>\n",
              "  </svg>\n",
              "      </button>\n",
              "      \n",
              "  <style>\n",
              "    .colab-df-container {\n",
              "      display:flex;\n",
              "      flex-wrap:wrap;\n",
              "      gap: 12px;\n",
              "    }\n",
              "\n",
              "    .colab-df-convert {\n",
              "      background-color: #E8F0FE;\n",
              "      border: none;\n",
              "      border-radius: 50%;\n",
              "      cursor: pointer;\n",
              "      display: none;\n",
              "      fill: #1967D2;\n",
              "      height: 32px;\n",
              "      padding: 0 0 0 0;\n",
              "      width: 32px;\n",
              "    }\n",
              "\n",
              "    .colab-df-convert:hover {\n",
              "      background-color: #E2EBFA;\n",
              "      box-shadow: 0px 1px 2px rgba(60, 64, 67, 0.3), 0px 1px 3px 1px rgba(60, 64, 67, 0.15);\n",
              "      fill: #174EA6;\n",
              "    }\n",
              "\n",
              "    [theme=dark] .colab-df-convert {\n",
              "      background-color: #3B4455;\n",
              "      fill: #D2E3FC;\n",
              "    }\n",
              "\n",
              "    [theme=dark] .colab-df-convert:hover {\n",
              "      background-color: #434B5C;\n",
              "      box-shadow: 0px 1px 3px 1px rgba(0, 0, 0, 0.15);\n",
              "      filter: drop-shadow(0px 1px 2px rgba(0, 0, 0, 0.3));\n",
              "      fill: #FFFFFF;\n",
              "    }\n",
              "  </style>\n",
              "\n",
              "      <script>\n",
              "        const buttonEl =\n",
              "          document.querySelector('#df-0daf284c-a63a-414c-b8bf-0876a3fb71e7 button.colab-df-convert');\n",
              "        buttonEl.style.display =\n",
              "          google.colab.kernel.accessAllowed ? 'block' : 'none';\n",
              "\n",
              "        async function convertToInteractive(key) {\n",
              "          const element = document.querySelector('#df-0daf284c-a63a-414c-b8bf-0876a3fb71e7');\n",
              "          const dataTable =\n",
              "            await google.colab.kernel.invokeFunction('convertToInteractive',\n",
              "                                                     [key], {});\n",
              "          if (!dataTable) return;\n",
              "\n",
              "          const docLinkHtml = 'Like what you see? Visit the ' +\n",
              "            '<a target=\"_blank\" href=https://colab.research.google.com/notebooks/data_table.ipynb>data table notebook</a>'\n",
              "            + ' to learn more about interactive tables.';\n",
              "          element.innerHTML = '';\n",
              "          dataTable['output_type'] = 'display_data';\n",
              "          await google.colab.output.renderOutput(dataTable, element);\n",
              "          const docLink = document.createElement('div');\n",
              "          docLink.innerHTML = docLinkHtml;\n",
              "          element.appendChild(docLink);\n",
              "        }\n",
              "      </script>\n",
              "    </div>\n",
              "  </div>\n",
              "  "
            ]
          },
          "metadata": {},
          "execution_count": 36
        }
      ],
      "source": [
        "# select only relevant variables for features\n",
        "drop_cols = ['row_number', 'customer_id', 'surname', 'exited']\n",
        "df_new_x = df_new.drop(drop_cols, axis=1)\n",
        "df_new_x.head()"
      ]
    },
    {
      "cell_type": "code",
      "execution_count": 37,
      "metadata": {
        "colab": {
          "base_uri": "https://localhost:8080/"
        },
        "id": "XhcyTIQQdjM9",
        "outputId": "e9cc63a1-ab30-4429-cb45-e7ca85db667f"
      },
      "outputs": [
        {
          "output_type": "execute_result",
          "data": {
            "text/plain": [
              "0    1\n",
              "1    0\n",
              "2    1\n",
              "3    0\n",
              "4    0\n",
              "Name: exited, dtype: int64"
            ]
          },
          "metadata": {},
          "execution_count": 37
        }
      ],
      "source": [
        "# select variable exit as target\n",
        "df_y = df['exited']\n",
        "df_y.head()"
      ]
    },
    {
      "cell_type": "code",
      "execution_count": 38,
      "metadata": {
        "colab": {
          "base_uri": "https://localhost:8080/"
        },
        "id": "lGzOJUCtdjM9",
        "outputId": "3b1dd7ac-3622-4e98-e271-ce1558d4133e"
      },
      "outputs": [
        {
          "output_type": "execute_result",
          "data": {
            "text/plain": [
              "0    1\n",
              "1    0\n",
              "2    1\n",
              "3    0\n",
              "4    0\n",
              "Name: exited, dtype: int64"
            ]
          },
          "metadata": {},
          "execution_count": 38
        }
      ],
      "source": [
        "# select variable exit as target\n",
        "df_new_y = df['exited']\n",
        "df_new_y.head()"
      ]
    },
    {
      "cell_type": "code",
      "execution_count": 39,
      "metadata": {
        "colab": {
          "base_uri": "https://localhost:8080/"
        },
        "id": "MfNZNGp-djM9",
        "outputId": "5883e4cb-f451-40b2-ed59-a5b3ef660e38"
      },
      "outputs": [
        {
          "output_type": "execute_result",
          "data": {
            "text/plain": [
              "(1500, 10)"
            ]
          },
          "metadata": {},
          "execution_count": 39
        }
      ],
      "source": [
        "# train-test split with test size of 25%\n",
        "x_train, x_val_test, y_train, y_val_test = train_test_split(df_x, df_y, stratify=df_y, test_size = 0.25, random_state=123)\n",
        "x_valid, x_test, y_valid, y_test = train_test_split(x_val_test, y_val_test, stratify=y_val_test, test_size = 0.4, random_state=123)\n",
        "x_valid.shape\n"
      ]
    },
    {
      "cell_type": "code",
      "execution_count": 40,
      "metadata": {
        "colab": {
          "base_uri": "https://localhost:8080/"
        },
        "id": "CurgqAMAdjM-",
        "outputId": "636700ed-9983-4f0c-af71-d7d0854593e8"
      },
      "outputs": [
        {
          "output_type": "execute_result",
          "data": {
            "text/plain": [
              "(1500, 12)"
            ]
          },
          "metadata": {},
          "execution_count": 40
        }
      ],
      "source": [
        "# train-test split with test size of 25%\n",
        "new_x_train, new_x_val_test, new_y_train, new_y_val_test = train_test_split(df_new_x, df_new_y, stratify=df_new_y, test_size = 0.25, random_state=123)\n",
        "new_x_valid, new_x_test, new_y_valid, new_y_test = train_test_split(new_x_val_test, new_y_val_test, stratify=new_y_val_test, test_size = 0.4, random_state=123)\n",
        "new_x_valid.shape\n"
      ]
    },
    {
      "cell_type": "markdown",
      "metadata": {
        "id": "ixofN96BdjM-"
      },
      "source": [
        "Both datasets are split already, each to train, valid, and test. The old dataset has 10 columns, while the new 12."
      ]
    },
    {
      "cell_type": "markdown",
      "metadata": {
        "id": "1CyelacRdjM_"
      },
      "source": [
        "## LightGBM Classifier\n",
        "\n",
        "With the first dataset that contains missing values, categorical variables left as they are, and no standar scaling applied to the numerical values, a model will be built using LightGBM Classifier.\n",
        "\n",
        "With the first dataset, there are 10 independent variables. We will see if setting L1 will do any good to the model.\n",
        "\n",
        "The dataset consists of 1,000 observed data. This is not a numerous amount, but we will see if setting L2 do any good to the model."
      ]
    },
    {
      "cell_type": "code",
      "execution_count": 41,
      "metadata": {
        "colab": {
          "base_uri": "https://localhost:8080/"
        },
        "id": "dTkmahz1djM_",
        "outputId": "d4bce82a-85c9-4c95-bd0e-33aa0f3dd209",
        "scrolled": false
      },
      "outputs": [
        {
          "output_type": "stream",
          "name": "stdout",
          "text": [
            "num_leaves = 2 : 0.5938303341902315\n",
            "num_leaves = 3 : 0.6050198150594451\n",
            "num_leaves = 4 : 0.5992010652463383\n",
            "num_leaves = 5 : 0.6168478260869564\n",
            "num_leaves = 6 : 0.608695652173913\n",
            "num_leaves = 7 : 0.6162162162162163\n",
            "num_leaves = 8 : 0.6143437077131259\n"
          ]
        }
      ],
      "source": [
        "# train model and look for optimal n_estimators hyperparameter\n",
        "for leave in range(2, 9):\n",
        "    lgbm = LGBMClassifier(boosting_type='gbdt', num_leaves=leave, max_depth=3, \n",
        "                          n_estimators=200, is_unbalance=True, min_child_samples = 100,\n",
        "                         random_state=123)\n",
        "    lgbm.fit(x_train, y_train)\n",
        "    predict_valid = lgbm.predict(x_valid)\n",
        "    f1_valid = f1_score(y_valid, predict_valid)\n",
        "    print(\"num_leaves =\", leave, \": \", end='')\n",
        "    print(f1_valid)"
      ]
    },
    {
      "cell_type": "markdown",
      "metadata": {
        "id": "cQTCAN69djNA"
      },
      "source": [
        "From training the model with different hyperparameter num_leaves, it seems that num_leaves of 7 gives a good result already. Using the valid dataset, F1 score is 0.61. Hence this num_leaves will be set at 7, and applied when training dataset."
      ]
    },
    {
      "cell_type": "code",
      "execution_count": 43,
      "metadata": {
        "colab": {
          "base_uri": "https://localhost:8080/"
        },
        "id": "1DPD9eBFdjNA",
        "outputId": "91955088-c57e-45bb-bee6-d5d70ba30f17"
      },
      "outputs": [
        {
          "output_type": "stream",
          "name": "stdout",
          "text": [
            "F1: 0.642781875658588 , AUC-ROC:  0.8959940235935236\n"
          ]
        }
      ],
      "source": [
        "# set hyperparameter num_leave at 20, and find F1 and AUC-ROC score using the train dataset\n",
        "lgbm = LGBMClassifier(boosting_type='gbdt', num_leaves=7, max_depth=3, \n",
        "                      n_estimators=200, is_unbalance=True, min_child_samples = 100,\n",
        "                      random_state=123)\n",
        "lgbm.fit(x_train, y_train)\n",
        "predict_train = lgbm.predict(x_train)\n",
        "f1_train = f1_score(y_train, predict_train)\n",
        "f1_train\n",
        "\n",
        "prob_train = lgbm.predict_proba(x_train)\n",
        "prob_one_train_lgbm = prob_train[:, 1]\n",
        "\n",
        "auc_roc_train = roc_auc_score(y_train, prob_one_train_lgbm)\n",
        "\n",
        "print(\"F1:\", f1_train,\", \", end='')\n",
        "print( \"AUC-ROC: \", auc_roc_train)"
      ]
    },
    {
      "cell_type": "code",
      "execution_count": 44,
      "metadata": {
        "colab": {
          "base_uri": "https://localhost:8080/",
          "height": 331
        },
        "id": "5YnA5HlSdjNA",
        "outputId": "9a5323db-9e99-4aaa-d4af-cb57f338ffa0"
      },
      "outputs": [
        {
          "output_type": "stream",
          "name": "stdout",
          "text": [
            "F1: 0.6162162162162163 , AUC-ROC:  0.8725948281775155\n"
          ]
        },
        {
          "output_type": "execute_result",
          "data": {
            "text/plain": [
              "Text(0.5, 1.0, 'ROC Curve')"
            ]
          },
          "metadata": {},
          "execution_count": 44
        },
        {
          "output_type": "display_data",
          "data": {
            "text/plain": [
              "<Figure size 432x288 with 1 Axes>"
            ],
            "image/png": "[encoded data removed]"
          },
          "metadata": {
            "needs_background": "light"
          }
        }
      ],
      "source": [
        "# testing the model with the valid dataset, find F1 and AUC-ROC score, and make ROC curve using the valid dataset\n",
        "predict_valid = lgbm.predict(x_valid)\n",
        "f1_valid = f1_score(y_valid, predict_valid)\n",
        "f1_valid\n",
        "\n",
        "prob_valid = lgbm.predict_proba(x_valid)\n",
        "prob_one_valid = prob_valid[:, 1]\n",
        "\n",
        "auc_roc_valid = roc_auc_score(y_valid, prob_one_valid)\n",
        "\n",
        "print(\"F1:\", f1_valid,\", \", end='')\n",
        "print( \"AUC-ROC: \", auc_roc_valid)\n",
        "\n",
        "fpr, tpr, thresholds = roc_curve(y_valid, prob_one_valid)\n",
        "\n",
        "plt.figure(figsize=(6,4))\n",
        "plt.plot(fpr, tpr)\n",
        "plt.plot([0, 1], [0, 1], linestyle='--')\n",
        "plt.xlim([0.0, 1.0])\n",
        "plt.ylim([0.0, 1.0])\n",
        "plt.xlabel('False Positive Rate')\n",
        "plt.ylabel('True Positive Rate')\n",
        "plt.title('ROC Curve')\n"
      ]
    },
    {
      "cell_type": "code",
      "execution_count": 45,
      "metadata": {
        "colab": {
          "base_uri": "https://localhost:8080/"
        },
        "id": "nk6mjEs2djNB",
        "outputId": "94ae380b-0644-4759-ab5d-f2bbf0502a5e"
      },
      "outputs": [
        {
          "output_type": "stream",
          "name": "stdout",
          "text": [
            "F1: 0.5962264150943396 , AUC-ROC:  0.8561988865898117\n"
          ]
        }
      ],
      "source": [
        "# testing the model with the test dataset, find F1 and AUC-ROC score using the test dataset\n",
        "predict_test = lgbm.predict(x_test)\n",
        "f1_test = f1_score(y_test, predict_test)\n",
        "f1_test\n",
        "\n",
        "prob_test = lgbm.predict_proba(x_test)\n",
        "prob_one_test = prob_test[:, 1]\n",
        "\n",
        "auc_roc_test = roc_auc_score(y_test, prob_one_test)\n",
        "\n",
        "print(\"F1:\", f1_test,\", \", end='')\n",
        "print( \"AUC-ROC: \", auc_roc_test)"
      ]
    },
    {
      "cell_type": "code",
      "execution_count": 46,
      "metadata": {
        "colab": {
          "base_uri": "https://localhost:8080/",
          "height": 368
        },
        "id": "og5AW8VEkRZm",
        "outputId": "0ef9ede8-49c6-444a-fb06-89ed0169a113"
      },
      "outputs": [
        {
          "output_type": "execute_result",
          "data": {
            "text/plain": [
              "<matplotlib.axes._subplots.AxesSubplot at 0x7fcc785a6d60>"
            ]
          },
          "metadata": {},
          "execution_count": 46
        },
        {
          "output_type": "display_data",
          "data": {
            "text/plain": [
              "<Figure size 360x360 with 1 Axes>"
            ],
            "image/png": "[encoded data removed]"
          },
          "metadata": {
            "needs_background": "light"
          }
        }
      ],
      "source": [
        "# load feature importance figures plot\n",
        "plot_importance(lgbm, figsize=(5, 5))"
      ]
    },
    {
      "cell_type": "markdown",
      "metadata": {
        "id": "43lgEG46djNB"
      },
      "source": [
        "### Interim Conclusions\n",
        "\n",
        "With algorithm LGBMClassifier, we manage to find a model with **F1 score above 0.59 and AUC-ROC score above 0.85**.\n",
        "\n",
        "The model is quite stable when reviewed over those 2 metrics as there are not much of difference on the scores, regardless the datasets used to predict.\n",
        "\n",
        "Hence this LGBM model already meets the expectation on the minumin F1 score, and not being overfit.\n",
        "\n",
        "The LGBM model assigns below predictors as the most significant variables when predicting the exit customers:\n",
        "\n",
        "1. Balance that they have\n",
        "\n",
        "2. Their age\n",
        "\n",
        "3. Their estimated salary"
      ]
    },
    {
      "cell_type": "markdown",
      "metadata": {
        "id": "sqY14kGAdjNC"
      },
      "source": [
        "## Random Forest\n",
        "\n",
        "We have succesfully built one model that meets the required criteria using LGBMClassifier. \n",
        "\n",
        "In LGBMClassifier, the imbalanced state of the target class is handled by the algorithm by tuning the related hyperparameter.\n",
        "\n",
        "In this next step, Random Forest will be used to build a model, with imbalanced data handled by upsampling the minority class. \n",
        "\n",
        "A comparison will be done by using downsampling method the majority class.\n",
        "\n",
        "For this, the second, new dataset will be needed (missing values filled, OHE applied, Standard Scaler applied)."
      ]
    },
    {
      "cell_type": "markdown",
      "metadata": {
        "id": "9D5hQ3EldjNC"
      },
      "source": [
        "### Upsampling"
      ]
    },
    {
      "cell_type": "code",
      "execution_count": 47,
      "metadata": {
        "colab": {
          "base_uri": "https://localhost:8080/"
        },
        "id": "6uQIjSakdjND",
        "outputId": "f0e663f1-0180-416c-f525-38291a82e1a9",
        "scrolled": true
      },
      "outputs": [
        {
          "output_type": "stream",
          "name": "stdout",
          "text": [
            "(5972, 12)\n",
            "(4584, 12)\n"
          ]
        }
      ],
      "source": [
        "# upsample the observed data of target class 1\n",
        "def upsample(x, y, repeat):\n",
        "    x_zeros = x[y ==0]\n",
        "    x_ones = x[y ==1]\n",
        "    y_zeros = y [y==0]\n",
        "    y_ones = y [y==1]\n",
        "    x_upsampled = pd.concat([x_zeros] + [x_ones] * repeat)\n",
        "    y_upsampled = pd.concat([y_zeros] + [y_ones] * repeat)\n",
        "    x_upsampled, y_upsampled = shuffle(x_upsampled, y_upsampled, random_state=123)\n",
        "    return x_upsampled, y_upsampled\n",
        "\n",
        "x_upsampled, y_upsampled = upsample(new_x_train, new_y_train, 3)\n",
        "\n",
        "\n",
        "print(x_upsampled[y_upsampled == 0].shape)\n",
        "print(x_upsampled[y_upsampled == 1].shape)"
      ]
    },
    {
      "cell_type": "code",
      "execution_count": 48,
      "metadata": {
        "colab": {
          "base_uri": "https://localhost:8080/"
        },
        "id": "S0vxgAgQdjND",
        "outputId": "cabea50a-338e-4d92-f7aa-38507305926d"
      },
      "outputs": [
        {
          "output_type": "stream",
          "name": "stdout",
          "text": [
            "n_estimators = 40 : 0.6265432098765432\n",
            "n_estimators = 50 : 0.6125574272588056\n",
            "n_estimators = 60 : 0.6085626911314985\n",
            "n_estimators = 70 : 0.6109422492401215\n",
            "n_estimators = 80 : 0.6144578313253012\n",
            "n_estimators = 90 : 0.6172465960665658\n",
            "n_estimators = 100 : 0.6146926536731635\n"
          ]
        }
      ],
      "source": [
        "# train model and look for optimal n_estimators hyperparameter\n",
        "for est in range(40, 101, 10):\n",
        "    rfc = RandomForestClassifier(random_state=123, n_estimators=est, \n",
        "                                 max_depth=4)\n",
        "    rfc.fit(x_upsampled, y_upsampled)\n",
        "    predict_valid = rfc.predict(new_x_valid)\n",
        "    f1_valid = f1_score(new_y_valid, predict_valid)\n",
        "    print(\"n_estimators =\", est, \": \", end='')\n",
        "    print(f1_valid)\n",
        "    "
      ]
    },
    {
      "cell_type": "markdown",
      "metadata": {
        "id": "hzf2I2ZFdjND"
      },
      "source": [
        "The minority target class is upsampled for 3 times.\n",
        "\n",
        "Building the random forest with upsampled train dataset results in f1 score of above 0.60. With n_estimators set at 40, the model performs well already.\n",
        "\n",
        "In the next step, a comparison will be done to show how the performance differs when training is done using the imbalanced train dataset."
      ]
    },
    {
      "cell_type": "code",
      "execution_count": 49,
      "metadata": {
        "colab": {
          "base_uri": "https://localhost:8080/",
          "height": 474
        },
        "id": "TEMRfSBidjND",
        "outputId": "0fea3456-a5b6-4d0a-9b31-c233ba12117f"
      },
      "outputs": [
        {
          "output_type": "stream",
          "name": "stdout",
          "text": [
            "              precision    recall  f1-score   support\n",
            "\n",
            "           0       0.91      0.88      0.90      1195\n",
            "           1       0.59      0.67      0.63       305\n",
            "\n",
            "    accuracy                           0.84      1500\n",
            "   macro avg       0.75      0.77      0.76      1500\n",
            "weighted avg       0.85      0.84      0.84      1500\n",
            "\n",
            "AUC-ROC:  0.855544276013444\n"
          ]
        },
        {
          "output_type": "display_data",
          "data": {
            "text/plain": [
              "<Figure size 432x288 with 1 Axes>"
            ],
            "image/png": "[encoded data removed]"
          },
          "metadata": {
            "needs_background": "light"
          }
        }
      ],
      "source": [
        "# build best model, with n_estimators set at 40, using upsampled train dataset\n",
        "\n",
        "rfc_v1 = RandomForestClassifier(random_state=123, n_estimators=40, \n",
        "                                max_depth=4)\n",
        "rfc_v1.fit(x_upsampled, y_upsampled)\n",
        "\n",
        "predict_valid = rfc_v1.predict(new_x_valid)\n",
        "\n",
        "prob_valid = rfc_v1.predict_proba(new_x_valid)\n",
        "prob_one_valid = prob_valid[:, 1]\n",
        "\n",
        "auc_roc_valid = roc_auc_score(new_y_valid, prob_one_valid)\n",
        "\n",
        "print(classification_report(new_y_valid, predict_valid))\n",
        "print( \"AUC-ROC: \", auc_roc_valid)\n",
        "\n",
        "fpr, tpr, thresholds = roc_curve(new_y_valid, prob_one_valid)\n",
        "\n",
        "plt.figure()\n",
        "plt.plot(fpr, tpr)\n",
        "plt.plot([0, 1], [0, 1], linestyle='--')\n",
        "plt.xlim([0.0, 1.0])\n",
        "plt.ylim([0.0, 1.0])\n",
        "plt.xlabel('False Positive Rate')\n",
        "plt.ylabel('True Positive Rate')\n",
        "plt.title('ROC Curve')\n",
        "plt.show()"
      ]
    },
    {
      "cell_type": "code",
      "execution_count": 50,
      "metadata": {
        "colab": {
          "base_uri": "https://localhost:8080/",
          "height": 474
        },
        "id": "quXrfbDhdjNK",
        "outputId": "1a05090a-98bb-43b0-a93d-6287cc643fa8"
      },
      "outputs": [
        {
          "output_type": "stream",
          "name": "stdout",
          "text": [
            "              precision    recall  f1-score   support\n",
            "\n",
            "           0       0.84      1.00      0.91      1195\n",
            "           1       0.96      0.24      0.39       305\n",
            "\n",
            "    accuracy                           0.84      1500\n",
            "   macro avg       0.90      0.62      0.65      1500\n",
            "weighted avg       0.86      0.84      0.80      1500\n",
            "\n",
            "AUC-ROC:  0.853599012277934\n"
          ]
        },
        {
          "output_type": "display_data",
          "data": {
            "text/plain": [
              "<Figure size 432x288 with 1 Axes>"
            ],
            "image/png": "[encoded data removed]"
          },
          "metadata": {
            "needs_background": "light"
          }
        }
      ],
      "source": [
        "# build best model, with n_estimators set at 40, with imbalanced train dataset\n",
        "\n",
        "rfc_v2 = RandomForestClassifier(random_state=123, n_estimators=40, \n",
        "                                max_depth=4)\n",
        "rfc_v2.fit(new_x_train, new_y_train)\n",
        "\n",
        "predict_valid = rfc_v2.predict(new_x_valid)\n",
        "\n",
        "prob_valid = rfc_v2.predict_proba(new_x_valid)\n",
        "prob_one_valid = prob_valid[:, 1]\n",
        "\n",
        "auc_roc_valid = roc_auc_score(new_y_valid, prob_one_valid)\n",
        "\n",
        "\n",
        "print(classification_report(new_y_valid, predict_valid))\n",
        "print( \"AUC-ROC: \", auc_roc_valid)\n",
        "\n",
        "fpr, tpr, thresholds = roc_curve(new_y_valid, prob_one_valid)\n",
        "\n",
        "plt.figure()\n",
        "plt.plot(fpr, tpr)\n",
        "plt.plot([0, 1], [0, 1], linestyle='--')\n",
        "plt.xlim([0.0, 1.0])\n",
        "plt.ylim([0.0, 1.0])\n",
        "plt.xlabel('False Positive Rate')\n",
        "plt.ylabel('True Positive Rate')\n",
        "plt.title('ROC Curve')\n",
        "plt.show()"
      ]
    },
    {
      "cell_type": "markdown",
      "metadata": {
        "id": "MyUfMP24djNK"
      },
      "source": [
        "It appears that training the randomforest model with imbalanced dataset results in very low performance model when measure using F1 score metric. \n",
        "\n",
        "All hyperparameters set at the same values, the F1 score is only 0.39. \n",
        "\n",
        "This is significantly lower than the F1 score of the upsampled dataset, that is 0.63.\n",
        "\n",
        "However one interesting fact is the AUC-ROC score for both the imbalanced and and upsampled dataset are well enough, above 0.85."
      ]
    },
    {
      "cell_type": "code",
      "execution_count": 51,
      "metadata": {
        "colab": {
          "base_uri": "https://localhost:8080/"
        },
        "id": "1-UOFN9idjNL",
        "outputId": "93d3ce0c-2d92-4f3a-eca0-071cb145212a",
        "scrolled": true
      },
      "outputs": [
        {
          "output_type": "stream",
          "name": "stdout",
          "text": [
            "              precision    recall  f1-score   support\n",
            "\n",
            "           0       0.90      0.89      0.90      5972\n",
            "           1       0.59      0.63      0.61      1528\n",
            "\n",
            "    accuracy                           0.83      7500\n",
            "   macro avg       0.75      0.76      0.75      7500\n",
            "weighted avg       0.84      0.83      0.84      7500\n",
            "\n",
            "AUC-ROC:  0.8538446651564193\n"
          ]
        }
      ],
      "source": [
        "# using training dataset to get F1 score and AUC-ROC score\n",
        "\n",
        "predict_train = rfc_v1.predict(new_x_train)\n",
        "\n",
        "prob_train = rfc_v1.predict_proba(new_x_train)\n",
        "prob_one_train = prob_train[:, 1]\n",
        "\n",
        "auc_roc_train = roc_auc_score(new_y_train, prob_one_train)\n",
        "\n",
        "\n",
        "print(classification_report(new_y_train, predict_train))\n",
        "print( \"AUC-ROC: \", auc_roc_train)"
      ]
    },
    {
      "cell_type": "code",
      "execution_count": 52,
      "metadata": {
        "colab": {
          "base_uri": "https://localhost:8080/"
        },
        "id": "_Dt40b_vdjNL",
        "outputId": "273d7d8a-77d9-4138-d637-2cf5b6296634",
        "scrolled": true
      },
      "outputs": [
        {
          "output_type": "stream",
          "name": "stdout",
          "text": [
            "              precision    recall  f1-score   support\n",
            "\n",
            "           0       0.90      0.86      0.88       796\n",
            "           1       0.53      0.62      0.57       204\n",
            "\n",
            "    accuracy                           0.81      1000\n",
            "   macro avg       0.72      0.74      0.73      1000\n",
            "weighted avg       0.82      0.81      0.82      1000\n",
            "\n",
            "AUC-ROC:  0.8371822347029263\n"
          ]
        }
      ],
      "source": [
        "# using test dataset to get F1 score and AUC-ROC score\n",
        "\n",
        "predict_test = rfc_v1.predict(new_x_test)\n",
        "\n",
        "prob_test = rfc_v1.predict_proba(new_x_test)\n",
        "prob_one_test = prob_test[:, 1]\n",
        "\n",
        "auc_roc_test = roc_auc_score(new_y_test, prob_one_test)\n",
        "\n",
        "\n",
        "print(classification_report(new_y_test, predict_test))\n",
        "print( \"AUC-ROC: \", auc_roc_test)"
      ]
    },
    {
      "cell_type": "markdown",
      "metadata": {
        "id": "se7ntgdYdjNL"
      },
      "source": [
        "### Interim Conclusions\n",
        "\n",
        "With upsampling method, the random forest model performs significantly better. F1 score of 0.39 can increase to 0.62.\n",
        "\n",
        "There is no issue of overfitting.\n",
        "\n",
        "However the random forest model built here does not manage to meet the expectation of having F1 score (with the test dataset) of above 0.59. The upsampled trained model can only **score 0.57 on F1**. \n",
        "\n",
        "Although **the AUC-ROC is as high as 0.83**, the bank needs a model that can perform as good as one that has F1 score of 0.59 or more.\n",
        "\n"
      ]
    },
    {
      "cell_type": "markdown",
      "metadata": {
        "id": "1MPdoe8zdjNL"
      },
      "source": [
        "### Downsampling\n",
        "\n",
        "In this next step, downsample method will applied to the observed data of minority class in the train dataset to build a random forest model."
      ]
    },
    {
      "cell_type": "code",
      "execution_count": 53,
      "metadata": {
        "colab": {
          "base_uri": "https://localhost:8080/"
        },
        "id": "C4nkWOX3djNM",
        "outputId": "59c89fc3-b45c-4159-93ca-27ac3695891a"
      },
      "outputs": [
        {
          "output_type": "stream",
          "name": "stdout",
          "text": [
            "(1792, 12)\n",
            "(1528, 12)\n"
          ]
        }
      ],
      "source": [
        "# downsample the observed data of target class 0\n",
        "def downsample(x, y, fraction):\n",
        "    x_zeros = x[y == 0]\n",
        "    x_ones = x[y == 1]\n",
        "    y_zeros = y[y == 0]\n",
        "    y_ones = y[y == 1]\n",
        "    x_downsampled = pd.concat([x_zeros.sample(frac=fraction, random_state=123)] + [x_ones])\n",
        "    y_downsampled = pd.concat([y_zeros.sample(frac=fraction, random_state=123)] + [y_ones])\n",
        "    x_downsampled, y_downsampled = shuffle(x_downsampled, y_downsampled, random_state=123)\n",
        "    return x_downsampled, y_downsampled\n",
        "\n",
        "\n",
        "x_downsampled, y_downsampled = downsample(new_x_train, new_y_train, 0.3)\n",
        "\n",
        "print(x_downsampled[y_downsampled == 0].shape)\n",
        "print(x_downsampled[y_downsampled == 1].shape)"
      ]
    },
    {
      "cell_type": "code",
      "execution_count": 54,
      "metadata": {
        "colab": {
          "base_uri": "https://localhost:8080/"
        },
        "id": "zoy8BsatdjNN",
        "outputId": "748d5c2e-db19-4492-e192-642f8f32f3ea"
      },
      "outputs": [
        {
          "output_type": "stream",
          "name": "stdout",
          "text": [
            "n_estimators = 40 : 0.6054794520547946\n",
            "n_estimators = 50 : 0.612859097127223\n",
            "n_estimators = 60 : 0.610729023383769\n",
            "n_estimators = 70 : 0.6085753803596128\n",
            "n_estimators = 80 : 0.6052269601100413\n",
            "n_estimators = 90 : 0.6038251366120219\n",
            "n_estimators = 100 : 0.6010928961748634\n"
          ]
        }
      ],
      "source": [
        "# train model and look for optimal n_estimators hyperparameter\n",
        "for est in range(40, 101, 10):\n",
        "    rfc = RandomForestClassifier(random_state=123, n_estimators=est, \n",
        "                                 max_depth=4)\n",
        "    rfc.fit(x_downsampled, y_downsampled)\n",
        "    predict_valid = rfc.predict(new_x_valid)\n",
        "    f1_valid = f1_score(new_y_valid, predict_valid)\n",
        "    print(\"n_estimators =\", est, \": \", end='')\n",
        "    print(f1_valid)\n",
        "    "
      ]
    },
    {
      "cell_type": "markdown",
      "metadata": {
        "id": "RyP4HFACdjNN"
      },
      "source": [
        "The majority target class is downsampled to 0.3 fraction.\n",
        "\n",
        "Building the random forest with downsampled train dataset results in f1 score of above 0.60. With n_estimators set at 40, the model performs well already. Hence the n_estimators will be set at 40 the same like previous model using upsampling method, to check on performance comparison.\n",
        "\n",
        "In the next step, a comparison will be done to show how the performance differs when training is done using the imbalanced train dataset."
      ]
    },
    {
      "cell_type": "code",
      "execution_count": 55,
      "metadata": {
        "colab": {
          "base_uri": "https://localhost:8080/",
          "height": 474
        },
        "id": "acgkhQgbdjNO",
        "outputId": "68003a93-2298-4e5b-af07-bf8a252c76c9"
      },
      "outputs": [
        {
          "output_type": "stream",
          "name": "stdout",
          "text": [
            "              precision    recall  f1-score   support\n",
            "\n",
            "           0       0.92      0.83      0.87      1195\n",
            "           1       0.52      0.72      0.61       305\n",
            "\n",
            "    accuracy                           0.81      1500\n",
            "   macro avg       0.72      0.78      0.74      1500\n",
            "weighted avg       0.84      0.81      0.82      1500\n",
            "\n",
            "AUC-ROC:  0.857687084162151\n"
          ]
        },
        {
          "output_type": "display_data",
          "data": {
            "text/plain": [
              "<Figure size 432x288 with 1 Axes>"
            ],
            "image/png": "[encoded data removed]"
          },
          "metadata": {
            "needs_background": "light"
          }
        }
      ],
      "source": [
        "# build best model, with n_estimators set at 40, using downsampled train dataset\n",
        "\n",
        "rfc_v3 = RandomForestClassifier(random_state=123, n_estimators=40, \n",
        "                                max_depth=4)\n",
        "rfc_v3.fit(x_downsampled, y_downsampled)\n",
        "\n",
        "predict_valid = rfc_v3.predict(new_x_valid)\n",
        "\n",
        "prob_valid = rfc_v3.predict_proba(new_x_valid)\n",
        "prob_one_valid = prob_valid[:, 1]\n",
        "\n",
        "auc_roc_valid = roc_auc_score(new_y_valid, prob_one_valid)\n",
        "\n",
        "print(classification_report(new_y_valid, predict_valid))\n",
        "print( \"AUC-ROC: \", auc_roc_valid)\n",
        "\n",
        "fpr, tpr, thresholds = roc_curve(new_y_valid, prob_one_valid)\n",
        "\n",
        "plt.figure()\n",
        "plt.plot(fpr, tpr)\n",
        "plt.plot([0, 1], [0, 1], linestyle='--')\n",
        "plt.xlim([0.0, 1.0])\n",
        "plt.ylim([0.0, 1.0])\n",
        "plt.xlabel('False Positive Rate')\n",
        "plt.ylabel('True Positive Rate')\n",
        "plt.title('ROC Curve')\n",
        "plt.show()"
      ]
    },
    {
      "cell_type": "code",
      "execution_count": 56,
      "metadata": {
        "colab": {
          "base_uri": "https://localhost:8080/",
          "height": 474
        },
        "id": "31iZvuR_djNO",
        "outputId": "d5d42a90-a19e-4b08-ba13-bce592c1c812"
      },
      "outputs": [
        {
          "output_type": "stream",
          "name": "stdout",
          "text": [
            "              precision    recall  f1-score   support\n",
            "\n",
            "           0       0.84      1.00      0.91      1195\n",
            "           1       0.96      0.24      0.39       305\n",
            "\n",
            "    accuracy                           0.84      1500\n",
            "   macro avg       0.90      0.62      0.65      1500\n",
            "weighted avg       0.86      0.84      0.80      1500\n",
            "\n",
            "AUC-ROC:  0.853599012277934\n"
          ]
        },
        {
          "output_type": "display_data",
          "data": {
            "text/plain": [
              "<Figure size 432x288 with 1 Axes>"
            ],
            "image/png": "[encoded data removed]"
          },
          "metadata": {
            "needs_background": "light"
          }
        }
      ],
      "source": [
        "# build best model, with n_estimators set at 40, with imbalanced train dataset\n",
        "\n",
        "rfc_v4 = RandomForestClassifier(random_state=123, n_estimators=40, \n",
        "                                max_depth=4)\n",
        "rfc_v4.fit(new_x_train, new_y_train)\n",
        "\n",
        "predict_valid = rfc_v4.predict(new_x_valid)\n",
        "\n",
        "prob_valid = rfc_v4.predict_proba(new_x_valid)\n",
        "prob_one_valid = prob_valid[:, 1]\n",
        "\n",
        "auc_roc_valid = roc_auc_score(new_y_valid, prob_one_valid)\n",
        "\n",
        "print(classification_report(new_y_valid, predict_valid))\n",
        "print( \"AUC-ROC: \", auc_roc_valid)\n",
        "\n",
        "fpr, tpr, thresholds = roc_curve(new_y_valid, prob_one_valid)\n",
        "\n",
        "plt.figure()\n",
        "plt.plot(fpr, tpr)\n",
        "plt.plot([0, 1], [0, 1], linestyle='--')\n",
        "plt.xlim([0.0, 1.0])\n",
        "plt.ylim([0.0, 1.0])\n",
        "plt.xlabel('False Positive Rate')\n",
        "plt.ylabel('True Positive Rate')\n",
        "plt.title('ROC Curve')\n",
        "plt.show()"
      ]
    },
    {
      "cell_type": "markdown",
      "metadata": {
        "id": "g01MYhFBdjNO"
      },
      "source": [
        "It appears that training the randomforest model with imbalanced dataset results in very low performance model when measure using F1 score metric. \n",
        "\n",
        "It leads in the same conclusion when applying upsample method to the minority class.\n",
        "\n",
        "All hyperparameters set at the same values, the F1 score is only 0.39. \n",
        "\n",
        "This is significantly lower than the F1 score of the upsampled dataset, that is 0.61.\n",
        "\n",
        "However one interesting fact is the AUC-ROC score for both the imbalanced and and upsampled dataset are well enough, above 0.85."
      ]
    },
    {
      "cell_type": "code",
      "execution_count": 57,
      "metadata": {
        "colab": {
          "base_uri": "https://localhost:8080/"
        },
        "id": "bReFbrnqdjNO",
        "outputId": "80632d2a-83e2-4e38-c384-503a074e45f6",
        "scrolled": true
      },
      "outputs": [
        {
          "output_type": "stream",
          "name": "stdout",
          "text": [
            "              precision    recall  f1-score   support\n",
            "\n",
            "           0       0.92      0.83      0.87      5972\n",
            "           1       0.51      0.71      0.59      1528\n",
            "\n",
            "    accuracy                           0.80      7500\n",
            "   macro avg       0.72      0.77      0.73      7500\n",
            "weighted avg       0.83      0.80      0.81      7500\n",
            "\n",
            "AUC-ROC:  0.8525945029684777\n"
          ]
        }
      ],
      "source": [
        "# using training dataset to get F1 score and AUC-ROC score\n",
        "\n",
        "predict_train = rfc_v3.predict(new_x_train)\n",
        "\n",
        "prob_train = rfc_v3.predict_proba(new_x_train)\n",
        "prob_one_train = prob_train[:, 1]\n",
        "\n",
        "auc_roc_train = roc_auc_score(new_y_train, prob_one_train)\n",
        "\n",
        "\n",
        "print(classification_report(new_y_train, predict_train))\n",
        "print( \"AUC-ROC: \", auc_roc_train)"
      ]
    },
    {
      "cell_type": "code",
      "execution_count": 58,
      "metadata": {
        "colab": {
          "base_uri": "https://localhost:8080/"
        },
        "id": "au-DT02LdjNP",
        "outputId": "b77d423e-c51f-4f6c-f2ca-ac023de3ce05"
      },
      "outputs": [
        {
          "output_type": "stream",
          "name": "stdout",
          "text": [
            "              precision    recall  f1-score   support\n",
            "\n",
            "           0       0.91      0.81      0.86       796\n",
            "           1       0.48      0.69      0.57       204\n",
            "\n",
            "    accuracy                           0.78      1000\n",
            "   macro avg       0.69      0.75      0.71      1000\n",
            "weighted avg       0.82      0.78      0.80      1000\n",
            "\n",
            "AUC-ROC:  0.8343063355995666\n"
          ]
        }
      ],
      "source": [
        "# using test dataset to get F1 score and AUC-ROC score\n",
        "predict_test = rfc_v3.predict(new_x_test)\n",
        "\n",
        "prob_test = rfc_v3.predict_proba(new_x_test)\n",
        "prob_one_test = prob_test[:, 1]\n",
        "\n",
        "auc_roc_test = roc_auc_score(new_y_test, prob_one_test)\n",
        "\n",
        "\n",
        "print(classification_report(new_y_test, predict_test))\n",
        "print( \"AUC-ROC: \", auc_roc_test)"
      ]
    },
    {
      "cell_type": "code",
      "execution_count": 59,
      "metadata": {
        "colab": {
          "base_uri": "https://localhost:8080/",
          "height": 341
        },
        "id": "jvsHye3bMq39",
        "outputId": "0c21c05d-48db-4884-dab9-b59cc6fb724e"
      },
      "outputs": [
        {
          "output_type": "display_data",
          "data": {
            "text/plain": [
              "<Figure size 468x324 with 1 Axes>"
            ],
            "image/png": "[encoded data removed]"
          },
          "metadata": {
            "needs_background": "light"
          }
        },
        {
          "output_type": "display_data",
          "data": {
            "text/plain": [
              "<Figure size 360x360 with 0 Axes>"
            ]
          },
          "metadata": {}
        }
      ],
      "source": [
        "# check each feature's importance\n",
        "y = rfc_v3.feature_importances_\n",
        "fig, ax = plt.subplots() \n",
        "width = 0.4\n",
        "ind = np.arange(len(y))\n",
        "ax.barh(ind, y, width, color='green')\n",
        "ax.set_yticks(ind+width/10)\n",
        "ax.set_yticklabels(new_x_train.columns, minor=False)\n",
        "plt.title('Feature Importance in Random Forest Classifier')\n",
        "plt.xlabel('Relative Importance')\n",
        "plt.ylabel('Feature') \n",
        "plt.figure(figsize=(5,5))\n",
        "fig.set_size_inches(6.5, 4.5, forward=True)"
      ]
    },
    {
      "cell_type": "code",
      "execution_count": 60,
      "metadata": {
        "colab": {
          "base_uri": "https://localhost:8080/",
          "height": 376
        },
        "id": "En06JN9TivrU",
        "outputId": "df6f03a9-db3e-480e-c488-7f928ce13a64"
      },
      "outputs": [
        {
          "output_type": "display_data",
          "data": {
            "text/plain": [
              "<Figure size 432x288 with 1 Axes>"
            ],
            "image/png": "[encoded data removed]"
          },
          "metadata": {
            "needs_background": "light"
          }
        }
      ],
      "source": [
        "# load contribution of figures plot\n",
        "index = ['credit_score', 'gender', 'age', 'tenure', 'balance', 'num_of_products',\n",
        "       'has_cr_card', 'is_active_member', 'estimated_salary',\n",
        "       'geography_France', 'geography_Germany', 'geography_Spain', 'class_label']\n",
        "prediction, bias, contributions = ti.predict(rfc_v3, new_x_train)\n",
        "N = 13\n",
        "not_exit = []\n",
        "exit = []\n",
        "for j in range(2):\n",
        "    list_ =  [not_exit, exit]\n",
        "    for i in range(12):\n",
        "        val = contributions[0,i,j]\n",
        "        list_[j].append(val)\n",
        "not_exit.append(prediction[0,0]/12)\n",
        "exit.append(prediction[0,1]/12)\n",
        "fig, ax = plt.subplots()\n",
        "ind = np.arange(N)   \n",
        "width = 0.15        \n",
        "p1 = ax.bar(ind, not_exit, width, color='green', bottom=0)\n",
        "p2 = ax.bar(ind+width, exit, width, color='red', bottom=0)\n",
        "xlabels = index\n",
        "ax.set_title('Contribution of all features')\n",
        "ax.set_xticks(ind + width)\n",
        "ax.set_xticklabels(xlabels, rotation = 90)\n",
        "ax.legend((p1[0], p2[0]), ('not_exit', 'exit') , bbox_to_anchor=(1.04,1), loc=\"upper left\")\n",
        "ax.autoscale_view()\n",
        "plt.show()"
      ]
    },
    {
      "cell_type": "markdown",
      "metadata": {
        "id": "yu41VNfedjNS"
      },
      "source": [
        "### Interim Conclusion\n",
        "\n",
        "With downsampling method, the random forest model performs significantly better. F1 score of 0.39 can increase to 0.61.\n",
        "\n",
        "There is no issue of overfitting.\n",
        "\n",
        "However the random forest model built here does not manage to meet the expectation of having F1 score (with the test dataset) of above 0.59. The downsampled trained model can only **score 0.57 on F1**.\n",
        "\n",
        "Although **the AUC-ROC is as high as 0.83**, the bank needs a model that can perform as good as one that has F1 score of 0.59 or more.\n",
        "\n",
        "It can be concluded that both model with upsample and downsample method increase performance of a model for an imbalanced dataset.\n",
        "\n",
        "The Random Forest model assigns below predictors as the most significant variables when predicting the exit customers is their age.\n",
        "\n",
        "This is quite different to significant predictors of the LGBM model.\n",
        "\n",
        "In the next step, a regression algorithm will be used to build the next model."
      ]
    },
    {
      "cell_type": "code",
      "execution_count": 61,
      "metadata": {
        "id": "8_-Dq0FZFqWQ"
      },
      "outputs": [],
      "source": [
        "#List hyperparameters to test\n",
        "min_samples_split = np.arange(50, 101, 10)\n",
        "min_samples_leaf= np.arange(10, 21, 2)\n",
        "\n",
        "hyperparameters = dict(min_samples_split=min_samples_split, min_samples_leaf=min_samples_leaf\n",
        "                       )\n",
        "\n",
        "#create model with grid search\n",
        "rfc_final = RandomForestClassifier(random_state=123, n_estimators=200, max_depth=5)\n",
        "clf = GridSearchCV(rfc_final, hyperparameters, cv=10)\n",
        "\n",
        "# train model\n",
        "rfc_final = clf.fit(x_upsampled, y_upsampled)\n",
        "print('min_samples_split:', rfc_final.best_estimator_.get_params()['min_samples_split'])\n",
        "print('min_samples_leaf:', rfc_final.best_estimator_.get_params()['min_samples_leaf'])\n",
        "\n",
        "\n",
        "# validate model\n",
        "predict_valid = rfc_final.predict(new_x_valid)\n",
        "f1_valid = f1_score(new_y_valid, predict_valid)\n",
        "f1_valid"
      ]
    },
    {
      "cell_type": "code",
      "source": [
        "rfc_final = RandomForestClassifier(random_state=123, n_estimators=200, max_depth=5, min_samples_split=60, min_samples_leaf=18)\n",
        "rfc_final.fit(x_upsampled, y_upsampled)\n",
        "predict_valid = rfc_final.predict(new_x_valid)\n",
        "f1_valid = f1_score(new_y_valid, predict_valid)\n",
        "f1_valid"
      ],
      "metadata": {
        "colab": {
          "base_uri": "https://localhost:8080/"
        },
        "id": "kgd670QP8zx2",
        "outputId": "b4c71bdd-89c9-4a89-8240-70f70f5636b5"
      },
      "execution_count": 62,
      "outputs": [
        {
          "output_type": "execute_result",
          "data": {
            "text/plain": [
              "0.6218236173393124"
            ]
          },
          "metadata": {},
          "execution_count": 62
        }
      ]
    },
    {
      "cell_type": "code",
      "source": [
        "predict_train= rfc_final.predict(new_x_train)\n",
        "f1_train = f1_score(new_y_train, predict_train)\n",
        "f1_train"
      ],
      "metadata": {
        "colab": {
          "base_uri": "https://localhost:8080/"
        },
        "id": "AOA30Ogm9RFm",
        "outputId": "bfa7bc2e-0d54-4646-f596-1baeafa374a4"
      },
      "execution_count": 63,
      "outputs": [
        {
          "output_type": "execute_result",
          "data": {
            "text/plain": [
              "0.6206896551724138"
            ]
          },
          "metadata": {},
          "execution_count": 63
        }
      ]
    },
    {
      "cell_type": "code",
      "source": [
        "predict_test = rfc_final.predict(new_x_test)\n",
        "f1_test = f1_score(new_y_test, predict_test)\n",
        "f1_test"
      ],
      "metadata": {
        "colab": {
          "base_uri": "https://localhost:8080/"
        },
        "id": "xVdmEkeX9cXx",
        "outputId": "6a0f4eaf-c9b7-4a7f-f470-3d7d74eba8df"
      },
      "execution_count": 64,
      "outputs": [
        {
          "output_type": "execute_result",
          "data": {
            "text/plain": [
              "0.575221238938053"
            ]
          },
          "metadata": {},
          "execution_count": 64
        }
      ]
    },
    {
      "cell_type": "markdown",
      "metadata": {
        "id": "7FDuilhodjNS"
      },
      "source": [
        "## Logistic Regression"
      ]
    },
    {
      "cell_type": "code",
      "execution_count": 89,
      "metadata": {
        "id": "2AlRgo-OdjNU",
        "colab": {
          "base_uri": "https://localhost:8080/"
        },
        "outputId": "89988d56-248a-4404-cd21-a68fdc9ced34"
      },
      "outputs": [
        {
          "output_type": "stream",
          "name": "stdout",
          "text": [
            "Best Penalty: l1\n",
            "Best C: 0.01\n",
            "Best Solver: liblinear\n"
          ]
        },
        {
          "output_type": "execute_result",
          "data": {
            "text/plain": [
              "0.49275362318840576"
            ]
          },
          "metadata": {},
          "execution_count": 89
        }
      ],
      "source": [
        "# Using GridSearch to find combination of hyperparameter 'penalty', 'C', and 'solver' with best F1 score\n",
        "#List Hyperparameters to test\n",
        "penalty = ['l1', 'l2', None]\n",
        "C = np.logspace(-2,2,10)\n",
        "solver= ['liblinear', 'newton-cholesky']\n",
        "hyperparameters = dict(penalty=penalty, C=C, solver=solver)\n",
        "\n",
        "#create model with grid search\n",
        "logreg = LogisticRegression(random_state=123, class_weight='balanced')\n",
        "clf = GridSearchCV(logreg, hyperparameters, cv=10)\n",
        "\n",
        "# train model\n",
        "logreg = clf.fit(new_x_train, new_y_train)\n",
        "print('Best Penalty:', logreg.best_estimator_.get_params()['penalty'])\n",
        "print('Best C:', logreg.best_estimator_.get_params()['C'])\n",
        "print('Best Solver:', logreg.best_estimator_.get_params()['solver'])\n",
        "\n",
        "# validate model\n",
        "predict_valid = logreg.predict(new_x_valid)\n",
        "f1_valid = f1_score(new_y_valid, predict_valid)\n",
        "f1_valid"
      ]
    },
    {
      "cell_type": "code",
      "execution_count": 66,
      "metadata": {
        "id": "fGQFSsQadjNU",
        "colab": {
          "base_uri": "https://localhost:8080/"
        },
        "outputId": "0b6f5bd3-c9a7-4227-d1af-96d1334b20b2"
      },
      "outputs": [
        {
          "output_type": "stream",
          "name": "stdout",
          "text": [
            "F1: 0.49275362318840576 , AUC-ROC:  0.7715865285684889\n"
          ]
        }
      ],
      "source": [
        "# Build final model with penalty set as 'l1' and C at 0.01, and solver liblinear\n",
        "logreg_final = LogisticRegression(random_state=123, class_weight='balanced', solver='liblinear', penalty='l1', C= 0.01)\n",
        "logreg_final.fit(new_x_train, new_y_train)\n",
        "predict_valid = logreg_final.predict(new_x_valid)\n",
        "f1_valid = f1_score(new_y_valid, predict_valid)\n",
        "f1_valid\n",
        "\n",
        "prob_valid = logreg_final.predict_proba(new_x_valid)\n",
        "prob_one_valid = prob_valid[:, 1]\n",
        "\n",
        "auc_roc_valid = roc_auc_score(new_y_valid, prob_one_valid)\n",
        "\n",
        "print(\"F1:\", f1_valid,\", \", end='')\n",
        "print( \"AUC-ROC: \", auc_roc_valid)"
      ]
    },
    {
      "cell_type": "code",
      "execution_count": 67,
      "metadata": {
        "id": "b2DkXelAdjNV",
        "colab": {
          "base_uri": "https://localhost:8080/"
        },
        "outputId": "d4092c7d-d7fa-43b4-988f-158b83be8066"
      },
      "outputs": [
        {
          "output_type": "stream",
          "name": "stdout",
          "text": [
            "F1: 0.5128331688055281 , AUC-ROC:  0.7744171206467879\n"
          ]
        }
      ],
      "source": [
        "# F1 score of the model with the train dataset\n",
        "predict_train = logreg_final.predict(new_x_train)\n",
        "f1_train = f1_score(new_y_train, predict_train)\n",
        "f1_train\n",
        "\n",
        "prob_train = logreg_final.predict_proba(new_x_train)\n",
        "prob_one_train = prob_train[:, 1]\n",
        "\n",
        "auc_roc_train = roc_auc_score(new_y_train, prob_one_train)\n",
        "\n",
        "print(\"F1:\", f1_train,\", \", end='')\n",
        "print( \"AUC-ROC: \", auc_roc_train)"
      ]
    },
    {
      "cell_type": "code",
      "execution_count": 68,
      "metadata": {
        "id": "r8X0WDqMdjNV",
        "colab": {
          "base_uri": "https://localhost:8080/"
        },
        "outputId": "629dac69-2eb9-44d2-aa6c-fa908f5140a1"
      },
      "outputs": [
        {
          "output_type": "stream",
          "name": "stdout",
          "text": [
            "F1: 0.46554934823091243 , AUC-ROC:  0.736568873780668\n"
          ]
        }
      ],
      "source": [
        "# F1 score of the model with the test dataset\n",
        "predict_test = logreg_final.predict(new_x_test)\n",
        "f1_test = f1_score(new_y_test, predict_test)\n",
        "f1_test\n",
        "\n",
        "prob_test = logreg_final.predict_proba(new_x_test)\n",
        "prob_one_test = prob_test[:, 1]\n",
        "\n",
        "auc_roc_test = roc_auc_score(new_y_test, prob_one_test)\n",
        "\n",
        "print(\"F1:\", f1_test,\", \", end='')\n",
        "print( \"AUC-ROC: \", auc_roc_test)"
      ]
    },
    {
      "cell_type": "code",
      "execution_count": 69,
      "metadata": {
        "id": "MmcXVquCf6k4",
        "colab": {
          "base_uri": "https://localhost:8080/",
          "height": 81
        },
        "outputId": "daf4bae9-1d19-4cc6-bf7a-c8c55e21bfca"
      },
      "outputs": [
        {
          "output_type": "execute_result",
          "data": {
            "text/plain": [
              "   credit_score    gender       age    tenure  balance  num_of_products  \\\n",
              "0     -0.019392 -0.206579  0.756237 -0.001997  0.17267              0.0   \n",
              "\n",
              "   has_cr_card  is_active_member  estimated_salary  geography_France  \\\n",
              "0          0.0         -0.545743               0.0               0.0   \n",
              "\n",
              "   geography_Germany  geography_Spain  \n",
              "0           0.491076              0.0  "
            ],
            "text/html": [
              "\n",
              "  <div id=\"df-9042b4cc-1ad4-4ecd-8c0c-7d104852f08d\">\n",
              "    <div class=\"colab-df-container\">\n",
              "      <div>\n",
              "<style scoped>\n",
              "    .dataframe tbody tr th:only-of-type {\n",
              "        vertical-align: middle;\n",
              "    }\n",
              "\n",
              "    .dataframe tbody tr th {\n",
              "        vertical-align: top;\n",
              "    }\n",
              "\n",
              "    .dataframe thead th {\n",
              "        text-align: right;\n",
              "    }\n",
              "</style>\n",
              "<table border=\"1\" class=\"dataframe\">\n",
              "  <thead>\n",
              "    <tr style=\"text-align: right;\">\n",
              "      <th></th>\n",
              "      <th>credit_score</th>\n",
              "      <th>gender</th>\n",
              "      <th>age</th>\n",
              "      <th>tenure</th>\n",
              "      <th>balance</th>\n",
              "      <th>num_of_products</th>\n",
              "      <th>has_cr_card</th>\n",
              "      <th>is_active_member</th>\n",
              "      <th>estimated_salary</th>\n",
              "      <th>geography_France</th>\n",
              "      <th>geography_Germany</th>\n",
              "      <th>geography_Spain</th>\n",
              "    </tr>\n",
              "  </thead>\n",
              "  <tbody>\n",
              "    <tr>\n",
              "      <th>0</th>\n",
              "      <td>-0.019392</td>\n",
              "      <td>-0.206579</td>\n",
              "      <td>0.756237</td>\n",
              "      <td>-0.001997</td>\n",
              "      <td>0.17267</td>\n",
              "      <td>0.0</td>\n",
              "      <td>0.0</td>\n",
              "      <td>-0.545743</td>\n",
              "      <td>0.0</td>\n",
              "      <td>0.0</td>\n",
              "      <td>0.491076</td>\n",
              "      <td>0.0</td>\n",
              "    </tr>\n",
              "  </tbody>\n",
              "</table>\n",
              "</div>\n",
              "      <button class=\"colab-df-convert\" onclick=\"convertToInteractive('df-9042b4cc-1ad4-4ecd-8c0c-7d104852f08d')\"\n",
              "              title=\"Convert this dataframe to an interactive table.\"\n",
              "              style=\"display:none;\">\n",
              "        \n",
              "  <svg xmlns=\"http://www.w3.org/2000/svg\" height=\"24px\"viewBox=\"0 0 24 24\"\n",
              "       width=\"24px\">\n",
              "    <path d=\"M0 0h24v24H0V0z\" fill=\"none\"/>\n",
              "    <path d=\"M18.56 5.44l.94 2.06.94-2.06 2.06-.94-2.06-.94-.94-2.06-.94 2.06-2.06.94zm-11 1L8.5 8.5l.94-2.06 2.06-.94-2.06-.94L8.5 2.5l-.94 2.06-2.06.94zm10 10l.94 2.06.94-2.06 2.06-.94-2.06-.94-.94-2.06-.94 2.06-2.06.94z\"/><path d=\"M17.41 7.96l-1.37-1.37c-.4-.4-.92-.59-1.43-.59-.52 0-1.04.2-1.43.59L10.3 9.45l-7.72 7.72c-.78.78-.78 2.05 0 2.83L4 21.41c.39.39.9.59 1.41.59.51 0 1.02-.2 1.41-.59l7.78-7.78 2.81-2.81c.8-.78.8-2.07 0-2.86zM5.41 20L4 18.59l7.72-7.72 1.47 1.35L5.41 20z\"/>\n",
              "  </svg>\n",
              "      </button>\n",
              "      \n",
              "  <style>\n",
              "    .colab-df-container {\n",
              "      display:flex;\n",
              "      flex-wrap:wrap;\n",
              "      gap: 12px;\n",
              "    }\n",
              "\n",
              "    .colab-df-convert {\n",
              "      background-color: #E8F0FE;\n",
              "      border: none;\n",
              "      border-radius: 50%;\n",
              "      cursor: pointer;\n",
              "      display: none;\n",
              "      fill: #1967D2;\n",
              "      height: 32px;\n",
              "      padding: 0 0 0 0;\n",
              "      width: 32px;\n",
              "    }\n",
              "\n",
              "    .colab-df-convert:hover {\n",
              "      background-color: #E2EBFA;\n",
              "      box-shadow: 0px 1px 2px rgba(60, 64, 67, 0.3), 0px 1px 3px 1px rgba(60, 64, 67, 0.15);\n",
              "      fill: #174EA6;\n",
              "    }\n",
              "\n",
              "    [theme=dark] .colab-df-convert {\n",
              "      background-color: #3B4455;\n",
              "      fill: #D2E3FC;\n",
              "    }\n",
              "\n",
              "    [theme=dark] .colab-df-convert:hover {\n",
              "      background-color: #434B5C;\n",
              "      box-shadow: 0px 1px 3px 1px rgba(0, 0, 0, 0.15);\n",
              "      filter: drop-shadow(0px 1px 2px rgba(0, 0, 0, 0.3));\n",
              "      fill: #FFFFFF;\n",
              "    }\n",
              "  </style>\n",
              "\n",
              "      <script>\n",
              "        const buttonEl =\n",
              "          document.querySelector('#df-9042b4cc-1ad4-4ecd-8c0c-7d104852f08d button.colab-df-convert');\n",
              "        buttonEl.style.display =\n",
              "          google.colab.kernel.accessAllowed ? 'block' : 'none';\n",
              "\n",
              "        async function convertToInteractive(key) {\n",
              "          const element = document.querySelector('#df-9042b4cc-1ad4-4ecd-8c0c-7d104852f08d');\n",
              "          const dataTable =\n",
              "            await google.colab.kernel.invokeFunction('convertToInteractive',\n",
              "                                                     [key], {});\n",
              "          if (!dataTable) return;\n",
              "\n",
              "          const docLinkHtml = 'Like what you see? Visit the ' +\n",
              "            '<a target=\"_blank\" href=https://colab.research.google.com/notebooks/data_table.ipynb>data table notebook</a>'\n",
              "            + ' to learn more about interactive tables.';\n",
              "          element.innerHTML = '';\n",
              "          dataTable['output_type'] = 'display_data';\n",
              "          await google.colab.output.renderOutput(dataTable, element);\n",
              "          const docLink = document.createElement('div');\n",
              "          docLink.innerHTML = docLinkHtml;\n",
              "          element.appendChild(docLink);\n",
              "        }\n",
              "      </script>\n",
              "    </div>\n",
              "  </div>\n",
              "  "
            ]
          },
          "metadata": {},
          "execution_count": 69
        }
      ],
      "source": [
        "# check the logistic regression model's coefficient\n",
        "pd.DataFrame(logreg_final.coef_, columns=new_x_test.columns)"
      ]
    },
    {
      "cell_type": "markdown",
      "metadata": {
        "id": "liXBCsVudjNV"
      },
      "source": [
        "### Interim Conclusions\n",
        "\n",
        "With logistic regression, best combination of hyperparameters resulted from cross validation gridsearch:\n",
        "- solver: liblinear\n",
        "- c: 0.01\n",
        "- penalty: l1\n",
        "And class_weight set as balanced due to the imbalance dataset, the F1 score is 0.46 and AUC-ROC is 0.73.\n",
        "\n",
        "This model does not meet the required F1 score of 0.59.\n",
        "\n",
        "The predictors assigned with significant coefficient by the logistic regression model are:\n",
        "\n",
        "1. Their age\n",
        "\n",
        "2. Them being an active member"
      ]
    },
    {
      "cell_type": "markdown",
      "source": [
        "## Probability Distribution"
      ],
      "metadata": {
        "id": "Bv-Sy7Aowm1v"
      }
    },
    {
      "cell_type": "markdown",
      "source": [
        "In this step, a closer look to ditribution of the probability will be done. The probability is of the model with highest F1 score, that is the LGBM one."
      ],
      "metadata": {
        "id": "Yuz85gQny2iV"
      }
    },
    {
      "cell_type": "code",
      "source": [
        "# distplot the probability distribution of train\n",
        "sns.distplot(prob_one_train_lgbm)"
      ],
      "metadata": {
        "colab": {
          "base_uri": "https://localhost:8080/",
          "height": 283
        },
        "id": "7JE9CCyJnHaA",
        "outputId": "5e59e6bb-27da-4416-b3d1-05bfff3022d5"
      },
      "execution_count": 70,
      "outputs": [
        {
          "output_type": "execute_result",
          "data": {
            "text/plain": [
              "<matplotlib.axes._subplots.AxesSubplot at 0x7fcc710cd490>"
            ]
          },
          "metadata": {},
          "execution_count": 70
        },
        {
          "output_type": "display_data",
          "data": {
            "text/plain": [
              "<Figure size 432x288 with 1 Axes>"
            ],
            "image/png": "[encoded data removed]"
          },
          "metadata": {
            "needs_background": "light"
          }
        }
      ]
    },
    {
      "cell_type": "code",
      "source": [
        "# create DF for target in train\n",
        "new_y = pd.DataFrame(new_y_train).reset_index()\n",
        "new_y"
      ],
      "metadata": {
        "colab": {
          "base_uri": "https://localhost:8080/",
          "height": 424
        },
        "id": "hZvuYVntac8i",
        "outputId": "18c39fa6-80c6-49bc-8572-629a8037d60e"
      },
      "execution_count": 71,
      "outputs": [
        {
          "output_type": "execute_result",
          "data": {
            "text/plain": [
              "      index  exited\n",
              "0      5432       0\n",
              "1      7591       0\n",
              "2      2486       0\n",
              "3       923       0\n",
              "4      7448       1\n",
              "...     ...     ...\n",
              "7495   1888       0\n",
              "7496    926       0\n",
              "7497   7779       0\n",
              "7498     70       1\n",
              "7499   3519       1\n",
              "\n",
              "[7500 rows x 2 columns]"
            ],
            "text/html": [
              "\n",
              "  <div id=\"df-bb8d9043-80e6-4aee-8936-c77f3f66967e\">\n",
              "    <div class=\"colab-df-container\">\n",
              "      <div>\n",
              "<style scoped>\n",
              "    .dataframe tbody tr th:only-of-type {\n",
              "        vertical-align: middle;\n",
              "    }\n",
              "\n",
              "    .dataframe tbody tr th {\n",
              "        vertical-align: top;\n",
              "    }\n",
              "\n",
              "    .dataframe thead th {\n",
              "        text-align: right;\n",
              "    }\n",
              "</style>\n",
              "<table border=\"1\" class=\"dataframe\">\n",
              "  <thead>\n",
              "    <tr style=\"text-align: right;\">\n",
              "      <th></th>\n",
              "      <th>index</th>\n",
              "      <th>exited</th>\n",
              "    </tr>\n",
              "  </thead>\n",
              "  <tbody>\n",
              "    <tr>\n",
              "      <th>0</th>\n",
              "      <td>5432</td>\n",
              "      <td>0</td>\n",
              "    </tr>\n",
              "    <tr>\n",
              "      <th>1</th>\n",
              "      <td>7591</td>\n",
              "      <td>0</td>\n",
              "    </tr>\n",
              "    <tr>\n",
              "      <th>2</th>\n",
              "      <td>2486</td>\n",
              "      <td>0</td>\n",
              "    </tr>\n",
              "    <tr>\n",
              "      <th>3</th>\n",
              "      <td>923</td>\n",
              "      <td>0</td>\n",
              "    </tr>\n",
              "    <tr>\n",
              "      <th>4</th>\n",
              "      <td>7448</td>\n",
              "      <td>1</td>\n",
              "    </tr>\n",
              "    <tr>\n",
              "      <th>...</th>\n",
              "      <td>...</td>\n",
              "      <td>...</td>\n",
              "    </tr>\n",
              "    <tr>\n",
              "      <th>7495</th>\n",
              "      <td>1888</td>\n",
              "      <td>0</td>\n",
              "    </tr>\n",
              "    <tr>\n",
              "      <th>7496</th>\n",
              "      <td>926</td>\n",
              "      <td>0</td>\n",
              "    </tr>\n",
              "    <tr>\n",
              "      <th>7497</th>\n",
              "      <td>7779</td>\n",
              "      <td>0</td>\n",
              "    </tr>\n",
              "    <tr>\n",
              "      <th>7498</th>\n",
              "      <td>70</td>\n",
              "      <td>1</td>\n",
              "    </tr>\n",
              "    <tr>\n",
              "      <th>7499</th>\n",
              "      <td>3519</td>\n",
              "      <td>1</td>\n",
              "    </tr>\n",
              "  </tbody>\n",
              "</table>\n",
              "<p>7500 rows × 2 columns</p>\n",
              "</div>\n",
              "      <button class=\"colab-df-convert\" onclick=\"convertToInteractive('df-bb8d9043-80e6-4aee-8936-c77f3f66967e')\"\n",
              "              title=\"Convert this dataframe to an interactive table.\"\n",
              "              style=\"display:none;\">\n",
              "        \n",
              "  <svg xmlns=\"http://www.w3.org/2000/svg\" height=\"24px\"viewBox=\"0 0 24 24\"\n",
              "       width=\"24px\">\n",
              "    <path d=\"M0 0h24v24H0V0z\" fill=\"none\"/>\n",
              "    <path d=\"M18.56 5.44l.94 2.06.94-2.06 2.06-.94-2.06-.94-.94-2.06-.94 2.06-2.06.94zm-11 1L8.5 8.5l.94-2.06 2.06-.94-2.06-.94L8.5 2.5l-.94 2.06-2.06.94zm10 10l.94 2.06.94-2.06 2.06-.94-2.06-.94-.94-2.06-.94 2.06-2.06.94z\"/><path d=\"M17.41 7.96l-1.37-1.37c-.4-.4-.92-.59-1.43-.59-.52 0-1.04.2-1.43.59L10.3 9.45l-7.72 7.72c-.78.78-.78 2.05 0 2.83L4 21.41c.39.39.9.59 1.41.59.51 0 1.02-.2 1.41-.59l7.78-7.78 2.81-2.81c.8-.78.8-2.07 0-2.86zM5.41 20L4 18.59l7.72-7.72 1.47 1.35L5.41 20z\"/>\n",
              "  </svg>\n",
              "      </button>\n",
              "      \n",
              "  <style>\n",
              "    .colab-df-container {\n",
              "      display:flex;\n",
              "      flex-wrap:wrap;\n",
              "      gap: 12px;\n",
              "    }\n",
              "\n",
              "    .colab-df-convert {\n",
              "      background-color: #E8F0FE;\n",
              "      border: none;\n",
              "      border-radius: 50%;\n",
              "      cursor: pointer;\n",
              "      display: none;\n",
              "      fill: #1967D2;\n",
              "      height: 32px;\n",
              "      padding: 0 0 0 0;\n",
              "      width: 32px;\n",
              "    }\n",
              "\n",
              "    .colab-df-convert:hover {\n",
              "      background-color: #E2EBFA;\n",
              "      box-shadow: 0px 1px 2px rgba(60, 64, 67, 0.3), 0px 1px 3px 1px rgba(60, 64, 67, 0.15);\n",
              "      fill: #174EA6;\n",
              "    }\n",
              "\n",
              "    [theme=dark] .colab-df-convert {\n",
              "      background-color: #3B4455;\n",
              "      fill: #D2E3FC;\n",
              "    }\n",
              "\n",
              "    [theme=dark] .colab-df-convert:hover {\n",
              "      background-color: #434B5C;\n",
              "      box-shadow: 0px 1px 3px 1px rgba(0, 0, 0, 0.15);\n",
              "      filter: drop-shadow(0px 1px 2px rgba(0, 0, 0, 0.3));\n",
              "      fill: #FFFFFF;\n",
              "    }\n",
              "  </style>\n",
              "\n",
              "      <script>\n",
              "        const buttonEl =\n",
              "          document.querySelector('#df-bb8d9043-80e6-4aee-8936-c77f3f66967e button.colab-df-convert');\n",
              "        buttonEl.style.display =\n",
              "          google.colab.kernel.accessAllowed ? 'block' : 'none';\n",
              "\n",
              "        async function convertToInteractive(key) {\n",
              "          const element = document.querySelector('#df-bb8d9043-80e6-4aee-8936-c77f3f66967e');\n",
              "          const dataTable =\n",
              "            await google.colab.kernel.invokeFunction('convertToInteractive',\n",
              "                                                     [key], {});\n",
              "          if (!dataTable) return;\n",
              "\n",
              "          const docLinkHtml = 'Like what you see? Visit the ' +\n",
              "            '<a target=\"_blank\" href=https://colab.research.google.com/notebooks/data_table.ipynb>data table notebook</a>'\n",
              "            + ' to learn more about interactive tables.';\n",
              "          element.innerHTML = '';\n",
              "          dataTable['output_type'] = 'display_data';\n",
              "          await google.colab.output.renderOutput(dataTable, element);\n",
              "          const docLink = document.createElement('div');\n",
              "          docLink.innerHTML = docLinkHtml;\n",
              "          element.appendChild(docLink);\n",
              "        }\n",
              "      </script>\n",
              "    </div>\n",
              "  </div>\n",
              "  "
            ]
          },
          "metadata": {},
          "execution_count": 71
        }
      ]
    },
    {
      "cell_type": "code",
      "source": [
        "# add the probability to the target\n",
        "new_y['prob_1'] = pd.Series(prob_one_train_lgbm)"
      ],
      "metadata": {
        "id": "5FdJatvteymk"
      },
      "execution_count": 72,
      "outputs": []
    },
    {
      "cell_type": "code",
      "source": [
        "# Define function to categorize probability into 5 group\n",
        "# cohort_1 = 0-0.2\n",
        "# cohort_2 = 0.2-0.4\n",
        "# cohort_3 = 0.4-0.6\n",
        "# cohort_4 = 0.6-0.8\n",
        "# cohort_5 = 0.8-1\n",
        "\n",
        "def assign_prob_group(prob):\n",
        "    try:\n",
        "        if prob <= 0.2:\n",
        "            return 'cohort_1'\n",
        "        elif prob <= 0.4:\n",
        "            return 'cohort_2'\n",
        "        elif prob <= 0.6:\n",
        "            return 'cohort_3'            \n",
        "        elif prob <= 0.8:\n",
        "            return 'cohort_4'\n",
        "        else:\n",
        "            return 'cohort_5'\n",
        "    except:\n",
        "        return 'NA'"
      ],
      "metadata": {
        "id": "9qq03ekvz7nF"
      },
      "execution_count": 73,
      "outputs": []
    },
    {
      "cell_type": "code",
      "source": [
        "# Create new column for age using deob_years\n",
        "new_y['cohort'] = new_y['prob_1'].apply(assign_prob_group)\n",
        "new_y.head()\n"
      ],
      "metadata": {
        "colab": {
          "base_uri": "https://localhost:8080/",
          "height": 206
        },
        "id": "OzEsVNN7grjL",
        "outputId": "6beac1cd-a088-41ce-8d89-1e83e3de5941"
      },
      "execution_count": 74,
      "outputs": [
        {
          "output_type": "execute_result",
          "data": {
            "text/plain": [
              "   index  exited    prob_1    cohort\n",
              "0   5432       0  0.744153  cohort_4\n",
              "1   7591       0  0.125601  cohort_1\n",
              "2   2486       0  0.092213  cohort_1\n",
              "3    923       0  0.265270  cohort_2\n",
              "4   7448       1  0.338937  cohort_2"
            ],
            "text/html": [
              "\n",
              "  <div id=\"df-91da4f94-7901-480f-b69c-e89cb8771c11\">\n",
              "    <div class=\"colab-df-container\">\n",
              "      <div>\n",
              "<style scoped>\n",
              "    .dataframe tbody tr th:only-of-type {\n",
              "        vertical-align: middle;\n",
              "    }\n",
              "\n",
              "    .dataframe tbody tr th {\n",
              "        vertical-align: top;\n",
              "    }\n",
              "\n",
              "    .dataframe thead th {\n",
              "        text-align: right;\n",
              "    }\n",
              "</style>\n",
              "<table border=\"1\" class=\"dataframe\">\n",
              "  <thead>\n",
              "    <tr style=\"text-align: right;\">\n",
              "      <th></th>\n",
              "      <th>index</th>\n",
              "      <th>exited</th>\n",
              "      <th>prob_1</th>\n",
              "      <th>cohort</th>\n",
              "    </tr>\n",
              "  </thead>\n",
              "  <tbody>\n",
              "    <tr>\n",
              "      <th>0</th>\n",
              "      <td>5432</td>\n",
              "      <td>0</td>\n",
              "      <td>0.744153</td>\n",
              "      <td>cohort_4</td>\n",
              "    </tr>\n",
              "    <tr>\n",
              "      <th>1</th>\n",
              "      <td>7591</td>\n",
              "      <td>0</td>\n",
              "      <td>0.125601</td>\n",
              "      <td>cohort_1</td>\n",
              "    </tr>\n",
              "    <tr>\n",
              "      <th>2</th>\n",
              "      <td>2486</td>\n",
              "      <td>0</td>\n",
              "      <td>0.092213</td>\n",
              "      <td>cohort_1</td>\n",
              "    </tr>\n",
              "    <tr>\n",
              "      <th>3</th>\n",
              "      <td>923</td>\n",
              "      <td>0</td>\n",
              "      <td>0.265270</td>\n",
              "      <td>cohort_2</td>\n",
              "    </tr>\n",
              "    <tr>\n",
              "      <th>4</th>\n",
              "      <td>7448</td>\n",
              "      <td>1</td>\n",
              "      <td>0.338937</td>\n",
              "      <td>cohort_2</td>\n",
              "    </tr>\n",
              "  </tbody>\n",
              "</table>\n",
              "</div>\n",
              "      <button class=\"colab-df-convert\" onclick=\"convertToInteractive('df-91da4f94-7901-480f-b69c-e89cb8771c11')\"\n",
              "              title=\"Convert this dataframe to an interactive table.\"\n",
              "              style=\"display:none;\">\n",
              "        \n",
              "  <svg xmlns=\"http://www.w3.org/2000/svg\" height=\"24px\"viewBox=\"0 0 24 24\"\n",
              "       width=\"24px\">\n",
              "    <path d=\"M0 0h24v24H0V0z\" fill=\"none\"/>\n",
              "    <path d=\"M18.56 5.44l.94 2.06.94-2.06 2.06-.94-2.06-.94-.94-2.06-.94 2.06-2.06.94zm-11 1L8.5 8.5l.94-2.06 2.06-.94-2.06-.94L8.5 2.5l-.94 2.06-2.06.94zm10 10l.94 2.06.94-2.06 2.06-.94-2.06-.94-.94-2.06-.94 2.06-2.06.94z\"/><path d=\"M17.41 7.96l-1.37-1.37c-.4-.4-.92-.59-1.43-.59-.52 0-1.04.2-1.43.59L10.3 9.45l-7.72 7.72c-.78.78-.78 2.05 0 2.83L4 21.41c.39.39.9.59 1.41.59.51 0 1.02-.2 1.41-.59l7.78-7.78 2.81-2.81c.8-.78.8-2.07 0-2.86zM5.41 20L4 18.59l7.72-7.72 1.47 1.35L5.41 20z\"/>\n",
              "  </svg>\n",
              "      </button>\n",
              "      \n",
              "  <style>\n",
              "    .colab-df-container {\n",
              "      display:flex;\n",
              "      flex-wrap:wrap;\n",
              "      gap: 12px;\n",
              "    }\n",
              "\n",
              "    .colab-df-convert {\n",
              "      background-color: #E8F0FE;\n",
              "      border: none;\n",
              "      border-radius: 50%;\n",
              "      cursor: pointer;\n",
              "      display: none;\n",
              "      fill: #1967D2;\n",
              "      height: 32px;\n",
              "      padding: 0 0 0 0;\n",
              "      width: 32px;\n",
              "    }\n",
              "\n",
              "    .colab-df-convert:hover {\n",
              "      background-color: #E2EBFA;\n",
              "      box-shadow: 0px 1px 2px rgba(60, 64, 67, 0.3), 0px 1px 3px 1px rgba(60, 64, 67, 0.15);\n",
              "      fill: #174EA6;\n",
              "    }\n",
              "\n",
              "    [theme=dark] .colab-df-convert {\n",
              "      background-color: #3B4455;\n",
              "      fill: #D2E3FC;\n",
              "    }\n",
              "\n",
              "    [theme=dark] .colab-df-convert:hover {\n",
              "      background-color: #434B5C;\n",
              "      box-shadow: 0px 1px 3px 1px rgba(0, 0, 0, 0.15);\n",
              "      filter: drop-shadow(0px 1px 2px rgba(0, 0, 0, 0.3));\n",
              "      fill: #FFFFFF;\n",
              "    }\n",
              "  </style>\n",
              "\n",
              "      <script>\n",
              "        const buttonEl =\n",
              "          document.querySelector('#df-91da4f94-7901-480f-b69c-e89cb8771c11 button.colab-df-convert');\n",
              "        buttonEl.style.display =\n",
              "          google.colab.kernel.accessAllowed ? 'block' : 'none';\n",
              "\n",
              "        async function convertToInteractive(key) {\n",
              "          const element = document.querySelector('#df-91da4f94-7901-480f-b69c-e89cb8771c11');\n",
              "          const dataTable =\n",
              "            await google.colab.kernel.invokeFunction('convertToInteractive',\n",
              "                                                     [key], {});\n",
              "          if (!dataTable) return;\n",
              "\n",
              "          const docLinkHtml = 'Like what you see? Visit the ' +\n",
              "            '<a target=\"_blank\" href=https://colab.research.google.com/notebooks/data_table.ipynb>data table notebook</a>'\n",
              "            + ' to learn more about interactive tables.';\n",
              "          element.innerHTML = '';\n",
              "          dataTable['output_type'] = 'display_data';\n",
              "          await google.colab.output.renderOutput(dataTable, element);\n",
              "          const docLink = document.createElement('div');\n",
              "          docLink.innerHTML = docLinkHtml;\n",
              "          element.appendChild(docLink);\n",
              "        }\n",
              "      </script>\n",
              "    </div>\n",
              "  </div>\n",
              "  "
            ]
          },
          "metadata": {},
          "execution_count": 74
        }
      ]
    },
    {
      "cell_type": "code",
      "source": [
        "# pivot table per cohort\n",
        "prob_pivot = new_y.pivot_table(index='cohort', values='exited', aggfunc=('sum','count')).reset_index()\n",
        "prob_pivot.columns=['cohort', 'all_labels', 'positive']\n",
        "prob_pivot"
      ],
      "metadata": {
        "colab": {
          "base_uri": "https://localhost:8080/",
          "height": 206
        },
        "id": "lW6wo3YahFhg",
        "outputId": "53fdf6a5-809a-4a70-b9de-3e80b67f3954"
      },
      "execution_count": 75,
      "outputs": [
        {
          "output_type": "execute_result",
          "data": {
            "text/plain": [
              "     cohort  all_labels  positive\n",
              "0  cohort_1        2743        49\n",
              "1  cohort_2        1859       142\n",
              "2  cohort_3        1161       257\n",
              "3  cohort_4         862       363\n",
              "4  cohort_5         875       717"
            ],
            "text/html": [
              "\n",
              "  <div id=\"df-26821387-1b4e-45eb-8775-7d5bb3523a70\">\n",
              "    <div class=\"colab-df-container\">\n",
              "      <div>\n",
              "<style scoped>\n",
              "    .dataframe tbody tr th:only-of-type {\n",
              "        vertical-align: middle;\n",
              "    }\n",
              "\n",
              "    .dataframe tbody tr th {\n",
              "        vertical-align: top;\n",
              "    }\n",
              "\n",
              "    .dataframe thead th {\n",
              "        text-align: right;\n",
              "    }\n",
              "</style>\n",
              "<table border=\"1\" class=\"dataframe\">\n",
              "  <thead>\n",
              "    <tr style=\"text-align: right;\">\n",
              "      <th></th>\n",
              "      <th>cohort</th>\n",
              "      <th>all_labels</th>\n",
              "      <th>positive</th>\n",
              "    </tr>\n",
              "  </thead>\n",
              "  <tbody>\n",
              "    <tr>\n",
              "      <th>0</th>\n",
              "      <td>cohort_1</td>\n",
              "      <td>2743</td>\n",
              "      <td>49</td>\n",
              "    </tr>\n",
              "    <tr>\n",
              "      <th>1</th>\n",
              "      <td>cohort_2</td>\n",
              "      <td>1859</td>\n",
              "      <td>142</td>\n",
              "    </tr>\n",
              "    <tr>\n",
              "      <th>2</th>\n",
              "      <td>cohort_3</td>\n",
              "      <td>1161</td>\n",
              "      <td>257</td>\n",
              "    </tr>\n",
              "    <tr>\n",
              "      <th>3</th>\n",
              "      <td>cohort_4</td>\n",
              "      <td>862</td>\n",
              "      <td>363</td>\n",
              "    </tr>\n",
              "    <tr>\n",
              "      <th>4</th>\n",
              "      <td>cohort_5</td>\n",
              "      <td>875</td>\n",
              "      <td>717</td>\n",
              "    </tr>\n",
              "  </tbody>\n",
              "</table>\n",
              "</div>\n",
              "      <button class=\"colab-df-convert\" onclick=\"convertToInteractive('df-26821387-1b4e-45eb-8775-7d5bb3523a70')\"\n",
              "              title=\"Convert this dataframe to an interactive table.\"\n",
              "              style=\"display:none;\">\n",
              "        \n",
              "  <svg xmlns=\"http://www.w3.org/2000/svg\" height=\"24px\"viewBox=\"0 0 24 24\"\n",
              "       width=\"24px\">\n",
              "    <path d=\"M0 0h24v24H0V0z\" fill=\"none\"/>\n",
              "    <path d=\"M18.56 5.44l.94 2.06.94-2.06 2.06-.94-2.06-.94-.94-2.06-.94 2.06-2.06.94zm-11 1L8.5 8.5l.94-2.06 2.06-.94-2.06-.94L8.5 2.5l-.94 2.06-2.06.94zm10 10l.94 2.06.94-2.06 2.06-.94-2.06-.94-.94-2.06-.94 2.06-2.06.94z\"/><path d=\"M17.41 7.96l-1.37-1.37c-.4-.4-.92-.59-1.43-.59-.52 0-1.04.2-1.43.59L10.3 9.45l-7.72 7.72c-.78.78-.78 2.05 0 2.83L4 21.41c.39.39.9.59 1.41.59.51 0 1.02-.2 1.41-.59l7.78-7.78 2.81-2.81c.8-.78.8-2.07 0-2.86zM5.41 20L4 18.59l7.72-7.72 1.47 1.35L5.41 20z\"/>\n",
              "  </svg>\n",
              "      </button>\n",
              "      \n",
              "  <style>\n",
              "    .colab-df-container {\n",
              "      display:flex;\n",
              "      flex-wrap:wrap;\n",
              "      gap: 12px;\n",
              "    }\n",
              "\n",
              "    .colab-df-convert {\n",
              "      background-color: #E8F0FE;\n",
              "      border: none;\n",
              "      border-radius: 50%;\n",
              "      cursor: pointer;\n",
              "      display: none;\n",
              "      fill: #1967D2;\n",
              "      height: 32px;\n",
              "      padding: 0 0 0 0;\n",
              "      width: 32px;\n",
              "    }\n",
              "\n",
              "    .colab-df-convert:hover {\n",
              "      background-color: #E2EBFA;\n",
              "      box-shadow: 0px 1px 2px rgba(60, 64, 67, 0.3), 0px 1px 3px 1px rgba(60, 64, 67, 0.15);\n",
              "      fill: #174EA6;\n",
              "    }\n",
              "\n",
              "    [theme=dark] .colab-df-convert {\n",
              "      background-color: #3B4455;\n",
              "      fill: #D2E3FC;\n",
              "    }\n",
              "\n",
              "    [theme=dark] .colab-df-convert:hover {\n",
              "      background-color: #434B5C;\n",
              "      box-shadow: 0px 1px 3px 1px rgba(0, 0, 0, 0.15);\n",
              "      filter: drop-shadow(0px 1px 2px rgba(0, 0, 0, 0.3));\n",
              "      fill: #FFFFFF;\n",
              "    }\n",
              "  </style>\n",
              "\n",
              "      <script>\n",
              "        const buttonEl =\n",
              "          document.querySelector('#df-26821387-1b4e-45eb-8775-7d5bb3523a70 button.colab-df-convert');\n",
              "        buttonEl.style.display =\n",
              "          google.colab.kernel.accessAllowed ? 'block' : 'none';\n",
              "\n",
              "        async function convertToInteractive(key) {\n",
              "          const element = document.querySelector('#df-26821387-1b4e-45eb-8775-7d5bb3523a70');\n",
              "          const dataTable =\n",
              "            await google.colab.kernel.invokeFunction('convertToInteractive',\n",
              "                                                     [key], {});\n",
              "          if (!dataTable) return;\n",
              "\n",
              "          const docLinkHtml = 'Like what you see? Visit the ' +\n",
              "            '<a target=\"_blank\" href=https://colab.research.google.com/notebooks/data_table.ipynb>data table notebook</a>'\n",
              "            + ' to learn more about interactive tables.';\n",
              "          element.innerHTML = '';\n",
              "          dataTable['output_type'] = 'display_data';\n",
              "          await google.colab.output.renderOutput(dataTable, element);\n",
              "          const docLink = document.createElement('div');\n",
              "          docLink.innerHTML = docLinkHtml;\n",
              "          element.appendChild(docLink);\n",
              "        }\n",
              "      </script>\n",
              "    </div>\n",
              "  </div>\n",
              "  "
            ]
          },
          "metadata": {},
          "execution_count": 75
        }
      ]
    },
    {
      "cell_type": "code",
      "source": [
        "# get the percentage of positive labels to total labels\n",
        "prob_pivot['%_positive'] = prob_pivot.positive/prob_pivot.all_labels*100\n",
        "prob_pivot"
      ],
      "metadata": {
        "colab": {
          "base_uri": "https://localhost:8080/",
          "height": 206
        },
        "id": "mJYaE0UQiJNg",
        "outputId": "f479c421-8c22-493c-c736-2e7a5f9fe39e"
      },
      "execution_count": 76,
      "outputs": [
        {
          "output_type": "execute_result",
          "data": {
            "text/plain": [
              "     cohort  all_labels  positive  %_positive\n",
              "0  cohort_1        2743        49    1.786365\n",
              "1  cohort_2        1859       142    7.638515\n",
              "2  cohort_3        1161       257   22.136090\n",
              "3  cohort_4         862       363   42.111369\n",
              "4  cohort_5         875       717   81.942857"
            ],
            "text/html": [
              "\n",
              "  <div id=\"df-9c31e2c1-f2e4-453e-88f4-dbc2205eba6f\">\n",
              "    <div class=\"colab-df-container\">\n",
              "      <div>\n",
              "<style scoped>\n",
              "    .dataframe tbody tr th:only-of-type {\n",
              "        vertical-align: middle;\n",
              "    }\n",
              "\n",
              "    .dataframe tbody tr th {\n",
              "        vertical-align: top;\n",
              "    }\n",
              "\n",
              "    .dataframe thead th {\n",
              "        text-align: right;\n",
              "    }\n",
              "</style>\n",
              "<table border=\"1\" class=\"dataframe\">\n",
              "  <thead>\n",
              "    <tr style=\"text-align: right;\">\n",
              "      <th></th>\n",
              "      <th>cohort</th>\n",
              "      <th>all_labels</th>\n",
              "      <th>positive</th>\n",
              "      <th>%_positive</th>\n",
              "    </tr>\n",
              "  </thead>\n",
              "  <tbody>\n",
              "    <tr>\n",
              "      <th>0</th>\n",
              "      <td>cohort_1</td>\n",
              "      <td>2743</td>\n",
              "      <td>49</td>\n",
              "      <td>1.786365</td>\n",
              "    </tr>\n",
              "    <tr>\n",
              "      <th>1</th>\n",
              "      <td>cohort_2</td>\n",
              "      <td>1859</td>\n",
              "      <td>142</td>\n",
              "      <td>7.638515</td>\n",
              "    </tr>\n",
              "    <tr>\n",
              "      <th>2</th>\n",
              "      <td>cohort_3</td>\n",
              "      <td>1161</td>\n",
              "      <td>257</td>\n",
              "      <td>22.136090</td>\n",
              "    </tr>\n",
              "    <tr>\n",
              "      <th>3</th>\n",
              "      <td>cohort_4</td>\n",
              "      <td>862</td>\n",
              "      <td>363</td>\n",
              "      <td>42.111369</td>\n",
              "    </tr>\n",
              "    <tr>\n",
              "      <th>4</th>\n",
              "      <td>cohort_5</td>\n",
              "      <td>875</td>\n",
              "      <td>717</td>\n",
              "      <td>81.942857</td>\n",
              "    </tr>\n",
              "  </tbody>\n",
              "</table>\n",
              "</div>\n",
              "      <button class=\"colab-df-convert\" onclick=\"convertToInteractive('df-9c31e2c1-f2e4-453e-88f4-dbc2205eba6f')\"\n",
              "              title=\"Convert this dataframe to an interactive table.\"\n",
              "              style=\"display:none;\">\n",
              "        \n",
              "  <svg xmlns=\"http://www.w3.org/2000/svg\" height=\"24px\"viewBox=\"0 0 24 24\"\n",
              "       width=\"24px\">\n",
              "    <path d=\"M0 0h24v24H0V0z\" fill=\"none\"/>\n",
              "    <path d=\"M18.56 5.44l.94 2.06.94-2.06 2.06-.94-2.06-.94-.94-2.06-.94 2.06-2.06.94zm-11 1L8.5 8.5l.94-2.06 2.06-.94-2.06-.94L8.5 2.5l-.94 2.06-2.06.94zm10 10l.94 2.06.94-2.06 2.06-.94-2.06-.94-.94-2.06-.94 2.06-2.06.94z\"/><path d=\"M17.41 7.96l-1.37-1.37c-.4-.4-.92-.59-1.43-.59-.52 0-1.04.2-1.43.59L10.3 9.45l-7.72 7.72c-.78.78-.78 2.05 0 2.83L4 21.41c.39.39.9.59 1.41.59.51 0 1.02-.2 1.41-.59l7.78-7.78 2.81-2.81c.8-.78.8-2.07 0-2.86zM5.41 20L4 18.59l7.72-7.72 1.47 1.35L5.41 20z\"/>\n",
              "  </svg>\n",
              "      </button>\n",
              "      \n",
              "  <style>\n",
              "    .colab-df-container {\n",
              "      display:flex;\n",
              "      flex-wrap:wrap;\n",
              "      gap: 12px;\n",
              "    }\n",
              "\n",
              "    .colab-df-convert {\n",
              "      background-color: #E8F0FE;\n",
              "      border: none;\n",
              "      border-radius: 50%;\n",
              "      cursor: pointer;\n",
              "      display: none;\n",
              "      fill: #1967D2;\n",
              "      height: 32px;\n",
              "      padding: 0 0 0 0;\n",
              "      width: 32px;\n",
              "    }\n",
              "\n",
              "    .colab-df-convert:hover {\n",
              "      background-color: #E2EBFA;\n",
              "      box-shadow: 0px 1px 2px rgba(60, 64, 67, 0.3), 0px 1px 3px 1px rgba(60, 64, 67, 0.15);\n",
              "      fill: #174EA6;\n",
              "    }\n",
              "\n",
              "    [theme=dark] .colab-df-convert {\n",
              "      background-color: #3B4455;\n",
              "      fill: #D2E3FC;\n",
              "    }\n",
              "\n",
              "    [theme=dark] .colab-df-convert:hover {\n",
              "      background-color: #434B5C;\n",
              "      box-shadow: 0px 1px 3px 1px rgba(0, 0, 0, 0.15);\n",
              "      filter: drop-shadow(0px 1px 2px rgba(0, 0, 0, 0.3));\n",
              "      fill: #FFFFFF;\n",
              "    }\n",
              "  </style>\n",
              "\n",
              "      <script>\n",
              "        const buttonEl =\n",
              "          document.querySelector('#df-9c31e2c1-f2e4-453e-88f4-dbc2205eba6f button.colab-df-convert');\n",
              "        buttonEl.style.display =\n",
              "          google.colab.kernel.accessAllowed ? 'block' : 'none';\n",
              "\n",
              "        async function convertToInteractive(key) {\n",
              "          const element = document.querySelector('#df-9c31e2c1-f2e4-453e-88f4-dbc2205eba6f');\n",
              "          const dataTable =\n",
              "            await google.colab.kernel.invokeFunction('convertToInteractive',\n",
              "                                                     [key], {});\n",
              "          if (!dataTable) return;\n",
              "\n",
              "          const docLinkHtml = 'Like what you see? Visit the ' +\n",
              "            '<a target=\"_blank\" href=https://colab.research.google.com/notebooks/data_table.ipynb>data table notebook</a>'\n",
              "            + ' to learn more about interactive tables.';\n",
              "          element.innerHTML = '';\n",
              "          dataTable['output_type'] = 'display_data';\n",
              "          await google.colab.output.renderOutput(dataTable, element);\n",
              "          const docLink = document.createElement('div');\n",
              "          docLink.innerHTML = docLinkHtml;\n",
              "          element.appendChild(docLink);\n",
              "        }\n",
              "      </script>\n",
              "    </div>\n",
              "  </div>\n",
              "  "
            ]
          },
          "metadata": {},
          "execution_count": 76
        }
      ]
    },
    {
      "cell_type": "code",
      "source": [
        "# plot the distribution of probability of label 1\n",
        "plt.plot(prob_pivot['cohort'], prob_pivot['%_positive'])\n",
        "plt.title('Distribution in probability of label 1')\n",
        "plt.xticks(ticks=prob_pivot['cohort'], labels=['0.0-0.2', '0.2-0.4', '0.4-0.6', '0.6-0.8', '0.8-1.0'])"
      ],
      "metadata": {
        "colab": {
          "base_uri": "https://localhost:8080/",
          "height": 460
        },
        "id": "9lHNlNkjSFNy",
        "outputId": "b0d1ba6a-47b6-4041-a538-bf4368b652d2"
      },
      "execution_count": 88,
      "outputs": [
        {
          "output_type": "execute_result",
          "data": {
            "text/plain": [
              "([<matplotlib.axis.XTick at 0x7fcc78f2b220>,\n",
              "  <matplotlib.axis.XTick at 0x7fcc78f2b2e0>,\n",
              "  <matplotlib.axis.XTick at 0x7fcc78f2b820>,\n",
              "  <matplotlib.axis.XTick at 0x7fcc78ee12e0>,\n",
              "  <matplotlib.axis.XTick at 0x7fcc78ee17f0>],\n",
              " [Text(0, 0, '0.0-0.2'),\n",
              "  Text(0, 0, '0.2-0.4'),\n",
              "  Text(0, 0, '0.4-0.6'),\n",
              "  Text(0, 0, '0.6-0.8'),\n",
              "  Text(0, 0, '0.8-1.0')])"
            ]
          },
          "metadata": {},
          "execution_count": 88
        },
        {
          "output_type": "display_data",
          "data": {
            "text/plain": [
              "<Figure size 432x288 with 1 Axes>"
            ],
            "image/png": "[encoded data removed]"
          },
          "metadata": {
            "needs_background": "light"
          }
        }
      ]
    },
    {
      "cell_type": "markdown",
      "source": [
        "### Interim Conclusions\n",
        "From the plot, it appears that the best model has continuous, increasing precision starting from probability of Positive label as 0 to probability as 1."
      ],
      "metadata": {
        "id": "6lMGe0F7dn3M"
      }
    },
    {
      "cell_type": "markdown",
      "metadata": {
        "id": "vU6ivzoFdjNW"
      },
      "source": [
        "## Final Conclusions\n",
        "\n",
        "The project of building machine learning for Bank Beta is started by observing data, some exploratory data analysis, and continued by feature engineering.\n",
        "\n",
        "Missing values are handled, OHE is applied, and standard scaler is applied.\n",
        "\n",
        "There are three algorithm tested: LightGBM, RandomForest, and LogisticRegression.\n",
        "\n",
        "In building with LightGBM, missing values are handled by the machine, and imbalance dataset is left as is.\n",
        "\n",
        "The F1 score is 0.59 and AUC-ROC score is 0.85. That means this model meets the required minimum F1 score Bank Beta.\n",
        "\n",
        "Next, another models are built with alogirthm Random Forest. One is applied with Upsampling method. And the other, downsampling method.\n",
        "\n",
        "It shows that both upsampling method and downsampling method when training the models increase their performance significantly, as measured by their F1 score.\n",
        "\n",
        "However as the final test of the models show F1 score of 0.57, the models do not meet the required minimum F1 score Bank Beta.\n",
        "\n",
        "Lastly, another model is built using regression algorithm, that is LogisticRegression. Hyperparameters class_weigh set as balanced due to the imbalance dataset.\n",
        "\n",
        "Final testing of the model shows that it has F1 score of 0.46 and AUC-ROC of 0.73. This also does not meet the required minimum F1 score Bank Beta. \n",
        "\n",
        "Each of the three models assigns weight/coefficient to predictors differently.\n",
        "\n",
        "Conclusion to this project is to use the model with algorithm LightGBM. The LGBM model assigns below predictors as the most significant variables when predicting the exit customers:\n",
        "\n",
        "1. Balance that they have\n",
        "\n",
        "2. Their age\n",
        "\n",
        "3. Their estimated salary\n",
        "\n",
        "The LGBM model works with imbalanced dataset. The Positive class being minority, the LGBM model shows a low precision metric for Positive class (as low as 0.48). However it manages to have a well Recall score (as high as 0.77). As for Bank Beta what important is anticipating the exit trends (Positive class), then the model is sufficient in meeting their goals.\n",
        "\n",
        "\n",
        "\n",
        "Other interesting findings in building a model for this project are:\n",
        "\n",
        "1. Both method of Upsampling and Downsampling does increase a performance of the model trained (as measured with F1 Score), especially when the observed data have imbalance target class.\n",
        "\n",
        "2. Precision score of the Positive class in models trained with upsampled or downsampled dataset is significantly lower than ones with imbalanced train dataset dominated by Negative class. While the Recall score is significantly higher. Those are what contribute to the increase on F1 Score of Positive Class when the models are trained using upsampled or downsampled datasets.\n",
        "\n",
        "3. Two models might have similarly high AUC-ROC Score although one's F1 Score of positive class might be way more superior than the other's. Hence when the purpose is to build a model that is able to capture as many Positive class as possible, AUC-ROC score alone is not sufficient to be metric of its performance. F1 score is important.\n",
        "\n",
        "4. In the case of an imbalanced dataset, accuracy is not a metric to be referred to when measuring the model's performance, as it is easy to achieve high accuracy score just by make prediction by the majority class. F1 Score that relies on both precision and recall will be a lot better compass showing the how robust the model is. Further, when predicting one class is the most important end of building a model, F2 or more can be used, to put emphasize on Recall."
      ]
    }
  ],
  "metadata": {
    "colab": {
      "toc_visible": true,
      "provenance": []
    },
    "kernelspec": {
      "display_name": "Python 3 (ipykernel)",
      "language": "python",
      "name": "python3"
    },
    "language_info": {
      "codemirror_mode": {
        "name": "ipython",
        "version": 3
      },
      "file_extension": ".py",
      "mimetype": "text/x-python",
      "name": "python",
      "nbconvert_exporter": "python",
      "pygments_lexer": "ipython3",
      "version": "3.9.5"
    },
    "toc": {
      "base_numbering": 1,
      "nav_menu": {},
      "number_sections": true,
      "sideBar": true,
      "skip_h1_title": true,
      "title_cell": "Table of Contents",
      "title_sidebar": "Contents",
      "toc_cell": false,
      "toc_position": {
        "height": "calc(100% - 180px)",
        "left": "10px",
        "top": "150px",
        "width": "228px"
      },
      "toc_section_display": true,
      "toc_window_display": true
    }
  },
  "nbformat": 4,
  "nbformat_minor": 0
}